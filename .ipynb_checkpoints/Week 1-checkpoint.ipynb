{
 "cells": [
  {
   "cell_type": "markdown",
   "id": "b7a2f5a9-ed53-4b5a-a182-ef57c5343a0f",
   "metadata": {},
   "source": [
    "### Arrays, BroadCasting, Vectorization, linalg"
   ]
  },
  {
   "cell_type": "code",
   "execution_count": 37,
   "id": "9b5ced97-0232-468f-a6f2-d55c6afb7c83",
   "metadata": {},
   "outputs": [],
   "source": [
    "import numpy as np\n",
    "import pandas as pd"
   ]
  },
  {
   "cell_type": "code",
   "execution_count": 3,
   "id": "d9341529-d8df-4fcd-a209-b5942ad7e6ff",
   "metadata": {},
   "outputs": [
    {
     "name": "stdout",
     "output_type": "stream",
     "text": [
      "x array: \n",
      " [[1 2 3]\n",
      " [4 5 6]]\n",
      "y array: \n",
      " [[1 2 4]\n",
      " [4 5 6]]\n"
     ]
    }
   ],
   "source": [
    "x = np.array(([1,2,3],[4,5,6]))\n",
    "y = np.array(([1,2,4],[4,5,6]))\n",
    "print('x array: \\n',x)\n",
    "print('y array: \\n',y)"
   ]
  },
  {
   "cell_type": "code",
   "execution_count": 4,
   "id": "62dc32d1-5f03-4a05-b720-da64e4a89e2f",
   "metadata": {},
   "outputs": [
    {
     "data": {
      "text/plain": [
       "array([[ 2,  4,  7],\n",
       "       [ 8, 10, 12]])"
      ]
     },
     "execution_count": 4,
     "metadata": {},
     "output_type": "execute_result"
    }
   ],
   "source": [
    "x+y\n"
   ]
  },
  {
   "cell_type": "code",
   "execution_count": 5,
   "id": "cdfb02cd-fa2f-4026-a8ef-6fdc791f923a",
   "metadata": {},
   "outputs": [
    {
     "data": {
      "text/plain": [
       "array([[ 6,  7,  8],\n",
       "       [ 9, 10, 11]])"
      ]
     },
     "execution_count": 5,
     "metadata": {},
     "output_type": "execute_result"
    }
   ],
   "source": [
    "# 5 gets to broadcast itself\n",
    "x+5"
   ]
  },
  {
   "cell_type": "code",
   "execution_count": 7,
   "id": "889464d4-e1e6-47c4-a9d9-b946fe294809",
   "metadata": {},
   "outputs": [
    {
     "data": {
      "text/plain": [
       "array([[ 2,  5,  9],\n",
       "       [ 5,  8, 11]])"
      ]
     },
     "execution_count": 7,
     "metadata": {},
     "output_type": "execute_result"
    }
   ],
   "source": [
    "z = np.array([1,3,5])\n",
    "z+y"
   ]
  },
  {
   "cell_type": "code",
   "execution_count": 9,
   "id": "e7759a6d-beae-48e3-a95d-5a36ee3b6610",
   "metadata": {},
   "outputs": [
    {
     "data": {
      "text/plain": [
       "array([[1],\n",
       "       [3],\n",
       "       [5]])"
      ]
     },
     "execution_count": 9,
     "metadata": {},
     "output_type": "execute_result"
    }
   ],
   "source": [
    "b = z.reshape(3,1)\n",
    "b"
   ]
  },
  {
   "cell_type": "code",
   "execution_count": 10,
   "id": "589ebab2-2f3b-463e-9af6-e533e77beac6",
   "metadata": {},
   "outputs": [
    {
     "data": {
      "text/plain": [
       "array([[ 2,  4,  6],\n",
       "       [ 4,  6,  8],\n",
       "       [ 6,  8, 10]])"
      ]
     },
     "execution_count": 10,
     "metadata": {},
     "output_type": "execute_result"
    }
   ],
   "source": [
    "z+b"
   ]
  },
  {
   "cell_type": "code",
   "execution_count": 11,
   "id": "9d896d89-f605-48c1-9b32-a7aaab521370",
   "metadata": {},
   "outputs": [
    {
     "ename": "ValueError",
     "evalue": "operands could not be broadcast together with shapes (2,3) (3,1) ",
     "output_type": "error",
     "traceback": [
      "\u001b[1;31m---------------------------------------------------------------------------\u001b[0m",
      "\u001b[1;31mValueError\u001b[0m                                Traceback (most recent call last)",
      "Cell \u001b[1;32mIn[11], line 1\u001b[0m\n\u001b[1;32m----> 1\u001b[0m y\u001b[38;5;241m+\u001b[39mb\n",
      "\u001b[1;31mValueError\u001b[0m: operands could not be broadcast together with shapes (2,3) (3,1) "
     ]
    }
   ],
   "source": [
    "# Error because it cannot broadcast itself\n",
    "y+b"
   ]
  },
  {
   "cell_type": "code",
   "execution_count": 18,
   "id": "e320abe1-93da-41ca-a142-1fe2aab74019",
   "metadata": {},
   "outputs": [
    {
     "data": {
      "text/plain": [
       "array([[19, 22],\n",
       "       [43, 50]])"
      ]
     },
     "execution_count": 18,
     "metadata": {},
     "output_type": "execute_result"
    }
   ],
   "source": [
    "a1= np.array([[1, 2], [3, 4]])\n",
    "a2 = np.array([[5, 6], [7, 8]])\n",
    "res = np.dot(a1, a2)\n",
    "res"
   ]
  },
  {
   "cell_type": "code",
   "execution_count": 19,
   "id": "0bd9ff5b-88bd-4cf4-a629-65061a7ba6cd",
   "metadata": {},
   "outputs": [
    {
     "name": "stdout",
     "output_type": "stream",
     "text": [
      "[11 12 13 14 15]\n"
     ]
    }
   ],
   "source": [
    "# Vectorization is just like the normal operations donw with the array.\n",
    "\n",
    "ma = np.array([1,2,3,4,5])\n",
    "number = 10\n",
    "print(ma+10)"
   ]
  },
  {
   "cell_type": "code",
   "execution_count": 20,
   "id": "c1598444-0e7f-4296-8fb3-e97eee0b6e8d",
   "metadata": {},
   "outputs": [
    {
     "ename": "ValueError",
     "evalue": "setting an array element with a sequence. The requested array has an inhomogeneous shape after 1 dimensions. The detected shape was (2,) + inhomogeneous part.",
     "output_type": "error",
     "traceback": [
      "\u001b[1;31m---------------------------------------------------------------------------\u001b[0m",
      "\u001b[1;31mValueError\u001b[0m                                Traceback (most recent call last)",
      "Cell \u001b[1;32mIn[20], line 1\u001b[0m\n\u001b[1;32m----> 1\u001b[0m array1 \u001b[38;5;241m=\u001b[39m np\u001b[38;5;241m.\u001b[39marray([[\u001b[38;5;241m1\u001b[39m, \u001b[38;5;241m2\u001b[39m, \u001b[38;5;241m3\u001b[39m], [\u001b[38;5;241m4\u001b[39m, \u001b[38;5;241m5\u001b[39m]])\n\u001b[0;32m      2\u001b[0m array2 \u001b[38;5;241m=\u001b[39m np\u001b[38;5;241m.\u001b[39marray([[\u001b[38;5;241m0\u001b[39m, \u001b[38;5;241m1\u001b[39m, \u001b[38;5;241m2\u001b[39m], [\u001b[38;5;241m0\u001b[39m, \u001b[38;5;241m1\u001b[39m, \u001b[38;5;241m2\u001b[39m]])\n\u001b[0;32m      4\u001b[0m \u001b[38;5;66;03m# add two arrays (vectorization)\u001b[39;00m\n",
      "\u001b[1;31mValueError\u001b[0m: setting an array element with a sequence. The requested array has an inhomogeneous shape after 1 dimensions. The detected shape was (2,) + inhomogeneous part."
     ]
    }
   ],
   "source": [
    "array1 = np.array([[1, 2, 3], [4, 5]])\n",
    "array2 = np.array([[0, 1, 2], [0, 1, 2]])\n",
    "\n",
    "# add two arrays (vectorization)\n",
    "array_sum = array1 + array2"
   ]
  },
  {
   "cell_type": "code",
   "execution_count": 22,
   "id": "cd768451-e002-4418-b3e9-1039654e74f5",
   "metadata": {},
   "outputs": [
    {
     "name": "stdout",
     "output_type": "stream",
     "text": [
      "[ 0  0  4 36 64]\n"
     ]
    }
   ],
   "source": [
    "mine = np.array([-1, 0, 2, 6, 8])\n",
    "\n",
    "# function to find the square\n",
    "def find_square(x):\n",
    "    if x < 0:\n",
    "        return 0\n",
    "    else:\n",
    "        return x ** 2\n",
    "        \n",
    "# vectorize() to vectorize the function find_square()\n",
    "vectorized_function = np.vectorize(find_square)\n",
    "\n",
    "# passing an array to a vectorized function\n",
    "result = vectorized_function(mine)\n",
    "\n",
    "print(result)"
   ]
  },
  {
   "cell_type": "code",
   "execution_count": 23,
   "id": "898694b1-7e9b-4fa7-875c-e2536a05b68e",
   "metadata": {},
   "outputs": [],
   "source": [
    "### Common numpy.linalg Functions and Operations\n",
    "# Operation\t                            Function\t                   Description\n",
    "# Matrix Inverse\t                   numpy.linalg.inv()\t        Computes the inverse of a square matrix\n",
    "# Matrix Determinant\t               numpy.linalg.det()\t        Computes the determinant of a matrix\n",
    "# Matrix Rank\t                       numpy.linalg.matrix_rank()\t   Computes the rank of a matrix\n",
    "# Norms\t                           numpy.linalg.norm()\t         Computes vector or matrix norms (e.g., L2 norm)\n",
    "# Solving Linear Systems\t           numpy.linalg.solve()\t             Solves linear equations Ax=B\n",
    "# Eigenvalues and Eigenvectors\t   numpy.linalg.eig()\t          Computes eigenvalues and right eigenvectors\n",
    "\n",
    "\n",
    "# Singular Value Decomposition (SVD)\tnumpy.linalg.svd()\t         Performs singular value decomposition\n",
    "# Pseudoinverse\t                  numpy.linalg.pinv()\t          Computes the Moore-Penrose pseudoinverse\n",
    "# QR Decomposition\t              numpy.linalg.qr()\t                Performs QR decomposition\n",
    "# Cholesky Decomposition\t          numpy.linalg.cholesky()\t        Performs Cholesky decomposition (for positive-definite matrices)\n",
    "# Tensor Dot Product\t              numpy.linalg.multi_dot()\t        Efficient multiplication of multiple matrices"
   ]
  },
  {
   "cell_type": "code",
   "execution_count": 24,
   "id": "80aa7adc-de76-4628-ae00-bc50deed4ba3",
   "metadata": {},
   "outputs": [
    {
     "name": "stdout",
     "output_type": "stream",
     "text": [
      "[[-2.   1. ]\n",
      " [ 1.5 -0.5]]\n"
     ]
    }
   ],
   "source": [
    "A = np.array([[1, 2], [3, 4]])\n",
    "inv_A = np.linalg.inv(A)\n",
    "print(inv_A)"
   ]
  },
  {
   "cell_type": "code",
   "execution_count": 25,
   "id": "b420a798-5997-45cf-b6c2-1b77bd5563c1",
   "metadata": {},
   "outputs": [
    {
     "name": "stdout",
     "output_type": "stream",
     "text": [
      "-2.0000000000000004\n"
     ]
    }
   ],
   "source": [
    "det = np.linalg.det(A)\n",
    "print(det)"
   ]
  },
  {
   "cell_type": "code",
   "execution_count": 26,
   "id": "d91ca3d8-8dfe-41ac-9a51-e89dc67d7666",
   "metadata": {},
   "outputs": [
    {
     "name": "stdout",
     "output_type": "stream",
     "text": [
      "[2. 3.]\n"
     ]
    }
   ],
   "source": [
    "A = np.array([[3, 1], [1, 2]])\n",
    "b = np.array([9, 8])\n",
    "x = np.linalg.solve(A, b)\n",
    "print(x) "
   ]
  },
  {
   "cell_type": "code",
   "execution_count": 27,
   "id": "692d5fc7-a260-497d-bc27-fb23f7c4a41f",
   "metadata": {},
   "outputs": [
    {
     "name": "stdout",
     "output_type": "stream",
     "text": [
      "Eigenvalues: [3.61803399 1.38196601]\n",
      "Eigenvectors: [[ 0.85065081 -0.52573111]\n",
      " [ 0.52573111  0.85065081]]\n"
     ]
    }
   ],
   "source": [
    "vals, vecs = np.linalg.eig(A)\n",
    "print(\"Eigenvalues:\", vals)\n",
    "print(\"Eigenvectors:\", vecs)"
   ]
  },
  {
   "cell_type": "code",
   "execution_count": 35,
   "id": "b494c335-1fa4-4b6c-abe9-0ea5a671ab72",
   "metadata": {},
   "outputs": [
    {
     "name": "stdout",
     "output_type": "stream",
     "text": [
      "7.3484692283495345\n"
     ]
    }
   ],
   "source": [
    "v = np.array([[3, 4], [2, 5]])\n",
    "norm = np.linalg.norm(v)\n",
    "print(norm)"
   ]
  },
  {
   "cell_type": "code",
   "execution_count": 36,
   "id": "30a4e0d2-06ec-41fa-b431-dd00debf4d0e",
   "metadata": {},
   "outputs": [
    {
     "data": {
      "text/plain": [
       "SVDResult(U=array([[-0.67944959, -0.73372219],\n",
       "       [-0.73372219,  0.67944959]]), S=array([7.28538329, 0.96082797]), Vh=array([[-0.48120916, -0.87660581],\n",
       "       [-0.87660581,  0.48120916]]))"
      ]
     },
     "execution_count": 36,
     "metadata": {},
     "output_type": "execute_result"
    }
   ],
   "source": [
    "np.linalg.svd(v)"
   ]
  },
  {
   "cell_type": "markdown",
   "id": "a188ae67-fd12-4d48-9e60-326b2b0a8220",
   "metadata": {},
   "source": [
    "## DataFrames, data cleaning, merging, groupby, time series"
   ]
  },
  {
   "cell_type": "code",
   "execution_count": 3,
   "id": "5b81d989-d44b-4935-8375-88a6f1cd31dc",
   "metadata": {},
   "outputs": [],
   "source": [
    "import pandas as pd\n",
    "# how\t             Description\n",
    "# 'inner'\tKeep only matching keys in both DataFrames\n",
    "# 'left'\tKeep all keys from the left DataFrame\n",
    "# 'right'\tKeep all keys from the right DataFrame\n",
    "# 'outer'\tKeep all keys from both DataFrames "
   ]
  },
  {
   "cell_type": "code",
   "execution_count": 8,
   "id": "ea400cdf-fce4-43bd-ae7d-2f1e4aa9f6f6",
   "metadata": {},
   "outputs": [
    {
     "data": {
      "text/html": [
       "<div>\n",
       "<style scoped>\n",
       "    .dataframe tbody tr th:only-of-type {\n",
       "        vertical-align: middle;\n",
       "    }\n",
       "\n",
       "    .dataframe tbody tr th {\n",
       "        vertical-align: top;\n",
       "    }\n",
       "\n",
       "    .dataframe thead th {\n",
       "        text-align: right;\n",
       "    }\n",
       "</style>\n",
       "<table border=\"1\" class=\"dataframe\">\n",
       "  <thead>\n",
       "    <tr style=\"text-align: right;\">\n",
       "      <th></th>\n",
       "      <th>gender</th>\n",
       "      <th>race/ethnicity</th>\n",
       "      <th>parental level of education</th>\n",
       "      <th>lunch</th>\n",
       "      <th>test preparation course</th>\n",
       "      <th>math score</th>\n",
       "      <th>reading score</th>\n",
       "      <th>writing score</th>\n",
       "    </tr>\n",
       "  </thead>\n",
       "  <tbody>\n",
       "    <tr>\n",
       "      <th>0</th>\n",
       "      <td>female</td>\n",
       "      <td>group B</td>\n",
       "      <td>bachelor's degree</td>\n",
       "      <td>standard</td>\n",
       "      <td>none</td>\n",
       "      <td>72</td>\n",
       "      <td>72</td>\n",
       "      <td>74</td>\n",
       "    </tr>\n",
       "    <tr>\n",
       "      <th>1</th>\n",
       "      <td>female</td>\n",
       "      <td>group C</td>\n",
       "      <td>some college</td>\n",
       "      <td>standard</td>\n",
       "      <td>completed</td>\n",
       "      <td>69</td>\n",
       "      <td>90</td>\n",
       "      <td>88</td>\n",
       "    </tr>\n",
       "    <tr>\n",
       "      <th>2</th>\n",
       "      <td>female</td>\n",
       "      <td>group B</td>\n",
       "      <td>master's degree</td>\n",
       "      <td>standard</td>\n",
       "      <td>none</td>\n",
       "      <td>90</td>\n",
       "      <td>95</td>\n",
       "      <td>93</td>\n",
       "    </tr>\n",
       "    <tr>\n",
       "      <th>3</th>\n",
       "      <td>male</td>\n",
       "      <td>group A</td>\n",
       "      <td>associate's degree</td>\n",
       "      <td>free/reduced</td>\n",
       "      <td>none</td>\n",
       "      <td>47</td>\n",
       "      <td>57</td>\n",
       "      <td>44</td>\n",
       "    </tr>\n",
       "    <tr>\n",
       "      <th>4</th>\n",
       "      <td>male</td>\n",
       "      <td>group C</td>\n",
       "      <td>some college</td>\n",
       "      <td>standard</td>\n",
       "      <td>none</td>\n",
       "      <td>76</td>\n",
       "      <td>78</td>\n",
       "      <td>75</td>\n",
       "    </tr>\n",
       "  </tbody>\n",
       "</table>\n",
       "</div>"
      ],
      "text/plain": [
       "   gender race/ethnicity parental level of education         lunch  \\\n",
       "0  female        group B           bachelor's degree      standard   \n",
       "1  female        group C                some college      standard   \n",
       "2  female        group B             master's degree      standard   \n",
       "3    male        group A          associate's degree  free/reduced   \n",
       "4    male        group C                some college      standard   \n",
       "\n",
       "  test preparation course  math score  reading score  writing score  \n",
       "0                    none          72             72             74  \n",
       "1               completed          69             90             88  \n",
       "2                    none          90             95             93  \n",
       "3                    none          47             57             44  \n",
       "4                    none          76             78             75  "
      ]
     },
     "execution_count": 8,
     "metadata": {},
     "output_type": "execute_result"
    }
   ],
   "source": [
    "df_1 = pd.read_csv(\"C:\\\\Users\\\\Kolade\\\\Documents\\\\Datasets\\\\StudentsPerformance2.csv\")\n",
    "df_1.head()"
   ]
  },
  {
   "cell_type": "code",
   "execution_count": 21,
   "id": "fe54078c-33c6-4af6-bfe9-59964daea90b",
   "metadata": {},
   "outputs": [
    {
     "data": {
      "text/plain": [
       "<pandas.core.groupby.generic.DataFrameGroupBy object at 0x000002178CF3BF20>"
      ]
     },
     "execution_count": 21,
     "metadata": {},
     "output_type": "execute_result"
    }
   ],
   "source": [
    "df_1.groupby('race/ethnicity')"
   ]
  },
  {
   "cell_type": "code",
   "execution_count": 15,
   "id": "9bced32a-88d3-4c17-9442-7b241d7c0464",
   "metadata": {},
   "outputs": [
    {
     "data": {
      "text/plain": [
       "race/ethnicity  lunch       \n",
       "group A         free/reduced    55.222222\n",
       "                standard        65.981132\n",
       "group B         free/reduced    57.434783\n",
       "                standard        66.884298\n",
       "group C         free/reduced    56.412281\n",
       "                standard        68.941463\n",
       "group D         free/reduced    61.115789\n",
       "                standard        70.916168\n",
       "group E         free/reduced    66.560976\n",
       "                standard        76.828283\n",
       "Name: math score, dtype: float64"
      ]
     },
     "execution_count": 15,
     "metadata": {},
     "output_type": "execute_result"
    }
   ],
   "source": [
    "df_1.groupby(['race/ethnicity','lunch'])['math score'].mean()"
   ]
  },
  {
   "cell_type": "code",
   "execution_count": 16,
   "id": "0335ebc0-3718-48f8-ac3c-1a6e54a2dead",
   "metadata": {},
   "outputs": [
    {
     "data": {
      "text/html": [
       "<div>\n",
       "<style scoped>\n",
       "    .dataframe tbody tr th:only-of-type {\n",
       "        vertical-align: middle;\n",
       "    }\n",
       "\n",
       "    .dataframe tbody tr th {\n",
       "        vertical-align: top;\n",
       "    }\n",
       "\n",
       "    .dataframe thead th {\n",
       "        text-align: right;\n",
       "    }\n",
       "</style>\n",
       "<table border=\"1\" class=\"dataframe\">\n",
       "  <thead>\n",
       "    <tr style=\"text-align: right;\">\n",
       "      <th></th>\n",
       "      <th></th>\n",
       "      <th>mean</th>\n",
       "      <th>max</th>\n",
       "      <th>min</th>\n",
       "      <th>count</th>\n",
       "    </tr>\n",
       "    <tr>\n",
       "      <th>race/ethnicity</th>\n",
       "      <th>lunch</th>\n",
       "      <th></th>\n",
       "      <th></th>\n",
       "      <th></th>\n",
       "      <th></th>\n",
       "    </tr>\n",
       "  </thead>\n",
       "  <tbody>\n",
       "    <tr>\n",
       "      <th rowspan=\"2\" valign=\"top\">group A</th>\n",
       "      <th>free/reduced</th>\n",
       "      <td>55.222222</td>\n",
       "      <td>81</td>\n",
       "      <td>28</td>\n",
       "      <td>36</td>\n",
       "    </tr>\n",
       "    <tr>\n",
       "      <th>standard</th>\n",
       "      <td>65.981132</td>\n",
       "      <td>100</td>\n",
       "      <td>45</td>\n",
       "      <td>53</td>\n",
       "    </tr>\n",
       "    <tr>\n",
       "      <th rowspan=\"2\" valign=\"top\">group B</th>\n",
       "      <th>free/reduced</th>\n",
       "      <td>57.434783</td>\n",
       "      <td>88</td>\n",
       "      <td>8</td>\n",
       "      <td>69</td>\n",
       "    </tr>\n",
       "    <tr>\n",
       "      <th>standard</th>\n",
       "      <td>66.884298</td>\n",
       "      <td>97</td>\n",
       "      <td>19</td>\n",
       "      <td>121</td>\n",
       "    </tr>\n",
       "    <tr>\n",
       "      <th rowspan=\"2\" valign=\"top\">group C</th>\n",
       "      <th>free/reduced</th>\n",
       "      <td>56.412281</td>\n",
       "      <td>87</td>\n",
       "      <td>0</td>\n",
       "      <td>114</td>\n",
       "    </tr>\n",
       "    <tr>\n",
       "      <th>standard</th>\n",
       "      <td>68.941463</td>\n",
       "      <td>98</td>\n",
       "      <td>29</td>\n",
       "      <td>205</td>\n",
       "    </tr>\n",
       "    <tr>\n",
       "      <th rowspan=\"2\" valign=\"top\">group D</th>\n",
       "      <th>free/reduced</th>\n",
       "      <td>61.115789</td>\n",
       "      <td>93</td>\n",
       "      <td>26</td>\n",
       "      <td>95</td>\n",
       "    </tr>\n",
       "    <tr>\n",
       "      <th>standard</th>\n",
       "      <td>70.916168</td>\n",
       "      <td>100</td>\n",
       "      <td>40</td>\n",
       "      <td>167</td>\n",
       "    </tr>\n",
       "    <tr>\n",
       "      <th rowspan=\"2\" valign=\"top\">group E</th>\n",
       "      <th>free/reduced</th>\n",
       "      <td>66.560976</td>\n",
       "      <td>100</td>\n",
       "      <td>32</td>\n",
       "      <td>41</td>\n",
       "    </tr>\n",
       "    <tr>\n",
       "      <th>standard</th>\n",
       "      <td>76.828283</td>\n",
       "      <td>100</td>\n",
       "      <td>30</td>\n",
       "      <td>99</td>\n",
       "    </tr>\n",
       "  </tbody>\n",
       "</table>\n",
       "</div>"
      ],
      "text/plain": [
       "                                  mean  max  min  count\n",
       "race/ethnicity lunch                                   \n",
       "group A        free/reduced  55.222222   81   28     36\n",
       "               standard      65.981132  100   45     53\n",
       "group B        free/reduced  57.434783   88    8     69\n",
       "               standard      66.884298   97   19    121\n",
       "group C        free/reduced  56.412281   87    0    114\n",
       "               standard      68.941463   98   29    205\n",
       "group D        free/reduced  61.115789   93   26     95\n",
       "               standard      70.916168  100   40    167\n",
       "group E        free/reduced  66.560976  100   32     41\n",
       "               standard      76.828283  100   30     99"
      ]
     },
     "execution_count": 16,
     "metadata": {},
     "output_type": "execute_result"
    }
   ],
   "source": [
    "df_1.groupby(['race/ethnicity','lunch'])['math score'].agg(['mean', 'max', 'min', 'count'])"
   ]
  },
  {
   "cell_type": "code",
   "execution_count": 18,
   "id": "b660714c-6598-4f3d-9f39-427352090e84",
   "metadata": {},
   "outputs": [
    {
     "data": {
      "text/html": [
       "<div>\n",
       "<style scoped>\n",
       "    .dataframe tbody tr th:only-of-type {\n",
       "        vertical-align: middle;\n",
       "    }\n",
       "\n",
       "    .dataframe tbody tr th {\n",
       "        vertical-align: top;\n",
       "    }\n",
       "\n",
       "    .dataframe thead th {\n",
       "        text-align: right;\n",
       "    }\n",
       "</style>\n",
       "<table border=\"1\" class=\"dataframe\">\n",
       "  <thead>\n",
       "    <tr style=\"text-align: right;\">\n",
       "      <th></th>\n",
       "      <th>race/ethnicity</th>\n",
       "      <th>reading score</th>\n",
       "    </tr>\n",
       "  </thead>\n",
       "  <tbody>\n",
       "    <tr>\n",
       "      <th>0</th>\n",
       "      <td>group A</td>\n",
       "      <td>64.674157</td>\n",
       "    </tr>\n",
       "    <tr>\n",
       "      <th>1</th>\n",
       "      <td>group B</td>\n",
       "      <td>67.352632</td>\n",
       "    </tr>\n",
       "    <tr>\n",
       "      <th>2</th>\n",
       "      <td>group C</td>\n",
       "      <td>69.103448</td>\n",
       "    </tr>\n",
       "    <tr>\n",
       "      <th>3</th>\n",
       "      <td>group D</td>\n",
       "      <td>70.030534</td>\n",
       "    </tr>\n",
       "    <tr>\n",
       "      <th>4</th>\n",
       "      <td>group E</td>\n",
       "      <td>73.028571</td>\n",
       "    </tr>\n",
       "  </tbody>\n",
       "</table>\n",
       "</div>"
      ],
      "text/plain": [
       "  race/ethnicity  reading score\n",
       "0        group A      64.674157\n",
       "1        group B      67.352632\n",
       "2        group C      69.103448\n",
       "3        group D      70.030534\n",
       "4        group E      73.028571"
      ]
     },
     "execution_count": 18,
     "metadata": {},
     "output_type": "execute_result"
    }
   ],
   "source": [
    "df_1.groupby('race/ethnicity')['reading score'].mean().reset_index()"
   ]
  },
  {
   "cell_type": "code",
   "execution_count": 23,
   "id": "1d31e1b0-e0dd-4f6f-a0f9-7a032f2ef008",
   "metadata": {},
   "outputs": [],
   "source": [
    "df_1['math_score_mean'] = df_1.groupby('race/ethnicity')['math score'].transform('mean')"
   ]
  },
  {
   "cell_type": "code",
   "execution_count": 24,
   "id": "1e15dae2-539e-4721-a871-fa497dd4622e",
   "metadata": {},
   "outputs": [
    {
     "data": {
      "text/html": [
       "<div>\n",
       "<style scoped>\n",
       "    .dataframe tbody tr th:only-of-type {\n",
       "        vertical-align: middle;\n",
       "    }\n",
       "\n",
       "    .dataframe tbody tr th {\n",
       "        vertical-align: top;\n",
       "    }\n",
       "\n",
       "    .dataframe thead th {\n",
       "        text-align: right;\n",
       "    }\n",
       "</style>\n",
       "<table border=\"1\" class=\"dataframe\">\n",
       "  <thead>\n",
       "    <tr style=\"text-align: right;\">\n",
       "      <th></th>\n",
       "      <th>gender</th>\n",
       "      <th>race/ethnicity</th>\n",
       "      <th>parental level of education</th>\n",
       "      <th>lunch</th>\n",
       "      <th>test preparation course</th>\n",
       "      <th>math score</th>\n",
       "      <th>reading score</th>\n",
       "      <th>writing score</th>\n",
       "      <th>math_score_mean</th>\n",
       "    </tr>\n",
       "  </thead>\n",
       "  <tbody>\n",
       "    <tr>\n",
       "      <th>0</th>\n",
       "      <td>female</td>\n",
       "      <td>group B</td>\n",
       "      <td>bachelor's degree</td>\n",
       "      <td>standard</td>\n",
       "      <td>none</td>\n",
       "      <td>72</td>\n",
       "      <td>72</td>\n",
       "      <td>74</td>\n",
       "      <td>63.452632</td>\n",
       "    </tr>\n",
       "    <tr>\n",
       "      <th>1</th>\n",
       "      <td>female</td>\n",
       "      <td>group C</td>\n",
       "      <td>some college</td>\n",
       "      <td>standard</td>\n",
       "      <td>completed</td>\n",
       "      <td>69</td>\n",
       "      <td>90</td>\n",
       "      <td>88</td>\n",
       "      <td>64.463950</td>\n",
       "    </tr>\n",
       "    <tr>\n",
       "      <th>2</th>\n",
       "      <td>female</td>\n",
       "      <td>group B</td>\n",
       "      <td>master's degree</td>\n",
       "      <td>standard</td>\n",
       "      <td>none</td>\n",
       "      <td>90</td>\n",
       "      <td>95</td>\n",
       "      <td>93</td>\n",
       "      <td>63.452632</td>\n",
       "    </tr>\n",
       "    <tr>\n",
       "      <th>3</th>\n",
       "      <td>male</td>\n",
       "      <td>group A</td>\n",
       "      <td>associate's degree</td>\n",
       "      <td>free/reduced</td>\n",
       "      <td>none</td>\n",
       "      <td>47</td>\n",
       "      <td>57</td>\n",
       "      <td>44</td>\n",
       "      <td>61.629213</td>\n",
       "    </tr>\n",
       "    <tr>\n",
       "      <th>4</th>\n",
       "      <td>male</td>\n",
       "      <td>group C</td>\n",
       "      <td>some college</td>\n",
       "      <td>standard</td>\n",
       "      <td>none</td>\n",
       "      <td>76</td>\n",
       "      <td>78</td>\n",
       "      <td>75</td>\n",
       "      <td>64.463950</td>\n",
       "    </tr>\n",
       "  </tbody>\n",
       "</table>\n",
       "</div>"
      ],
      "text/plain": [
       "   gender race/ethnicity parental level of education         lunch  \\\n",
       "0  female        group B           bachelor's degree      standard   \n",
       "1  female        group C                some college      standard   \n",
       "2  female        group B             master's degree      standard   \n",
       "3    male        group A          associate's degree  free/reduced   \n",
       "4    male        group C                some college      standard   \n",
       "\n",
       "  test preparation course  math score  reading score  writing score  \\\n",
       "0                    none          72             72             74   \n",
       "1               completed          69             90             88   \n",
       "2                    none          90             95             93   \n",
       "3                    none          47             57             44   \n",
       "4                    none          76             78             75   \n",
       "\n",
       "   math_score_mean  \n",
       "0        63.452632  \n",
       "1        64.463950  \n",
       "2        63.452632  \n",
       "3        61.629213  \n",
       "4        64.463950  "
      ]
     },
     "execution_count": 24,
     "metadata": {},
     "output_type": "execute_result"
    }
   ],
   "source": []
  },
  {
   "cell_type": "code",
   "execution_count": 28,
   "id": "1c817bf2-51ab-44e6-9a60-2f15eb9c92be",
   "metadata": {},
   "outputs": [
    {
     "data": {
      "text/html": [
       "<div>\n",
       "<style scoped>\n",
       "    .dataframe tbody tr th:only-of-type {\n",
       "        vertical-align: middle;\n",
       "    }\n",
       "\n",
       "    .dataframe tbody tr th {\n",
       "        vertical-align: top;\n",
       "    }\n",
       "\n",
       "    .dataframe thead th {\n",
       "        text-align: right;\n",
       "    }\n",
       "</style>\n",
       "<table border=\"1\" class=\"dataframe\">\n",
       "  <thead>\n",
       "    <tr style=\"text-align: right;\">\n",
       "      <th></th>\n",
       "      <th>Date</th>\n",
       "      <th>Open</th>\n",
       "      <th>High</th>\n",
       "      <th>Low</th>\n",
       "      <th>Close</th>\n",
       "      <th>Adj Close</th>\n",
       "      <th>Volume</th>\n",
       "    </tr>\n",
       "  </thead>\n",
       "  <tbody>\n",
       "    <tr>\n",
       "      <th>0</th>\n",
       "      <td>2020-01-27</td>\n",
       "      <td>71.320000</td>\n",
       "      <td>71.635002</td>\n",
       "      <td>71.320000</td>\n",
       "      <td>71.324997</td>\n",
       "      <td>71.324997</td>\n",
       "      <td>0</td>\n",
       "    </tr>\n",
       "    <tr>\n",
       "      <th>1</th>\n",
       "      <td>2020-01-28</td>\n",
       "      <td>71.654999</td>\n",
       "      <td>71.654999</td>\n",
       "      <td>71.178001</td>\n",
       "      <td>71.440002</td>\n",
       "      <td>71.440002</td>\n",
       "      <td>0</td>\n",
       "    </tr>\n",
       "    <tr>\n",
       "      <th>2</th>\n",
       "      <td>2020-01-29</td>\n",
       "      <td>71.230103</td>\n",
       "      <td>71.425003</td>\n",
       "      <td>71.168503</td>\n",
       "      <td>71.230400</td>\n",
       "      <td>71.230400</td>\n",
       "      <td>0</td>\n",
       "    </tr>\n",
       "    <tr>\n",
       "      <th>3</th>\n",
       "      <td>2020-01-30</td>\n",
       "      <td>71.300003</td>\n",
       "      <td>71.711998</td>\n",
       "      <td>71.300003</td>\n",
       "      <td>71.300003</td>\n",
       "      <td>71.300003</td>\n",
       "      <td>0</td>\n",
       "    </tr>\n",
       "    <tr>\n",
       "      <th>4</th>\n",
       "      <td>2020-01-31</td>\n",
       "      <td>71.639999</td>\n",
       "      <td>71.639999</td>\n",
       "      <td>71.277496</td>\n",
       "      <td>71.639999</td>\n",
       "      <td>71.639999</td>\n",
       "      <td>0</td>\n",
       "    </tr>\n",
       "  </tbody>\n",
       "</table>\n",
       "</div>"
      ],
      "text/plain": [
       "         Date       Open       High        Low      Close  Adj Close  Volume\n",
       "0  2020-01-27  71.320000  71.635002  71.320000  71.324997  71.324997       0\n",
       "1  2020-01-28  71.654999  71.654999  71.178001  71.440002  71.440002       0\n",
       "2  2020-01-29  71.230103  71.425003  71.168503  71.230400  71.230400       0\n",
       "3  2020-01-30  71.300003  71.711998  71.300003  71.300003  71.300003       0\n",
       "4  2020-01-31  71.639999  71.639999  71.277496  71.639999  71.639999       0"
      ]
     },
     "execution_count": 28,
     "metadata": {},
     "output_type": "execute_result"
    }
   ],
   "source": [
    "df_2 = pd.read_csv(\"C:\\\\Users\\\\Kolade\\\\Documents\\\\Datasets\\\\stock_price.csv\")\n",
    "df_2.head()"
   ]
  },
  {
   "cell_type": "code",
   "execution_count": 29,
   "id": "ef53c312-7883-4fb2-bae8-ca87d50c251c",
   "metadata": {},
   "outputs": [
    {
     "data": {
      "text/plain": [
       "Timestamp('2018-01-15 15:45:00')"
      ]
     },
     "execution_count": 29,
     "metadata": {},
     "output_type": "execute_result"
    }
   ],
   "source": [
    "import pandas as pd\n",
    "pd.to_datetime('2018-01-15 3:45pm')\n"
   ]
  },
  {
   "cell_type": "code",
   "execution_count": 41,
   "id": "137d66ec-425c-41e5-a113-892f0e3673a9",
   "metadata": {},
   "outputs": [
    {
     "data": {
      "text/plain": [
       "DatetimeIndex(['1995-10-10', '1952-07-08', '2018-01-05'], dtype='datetime64[ns]', freq=None)"
      ]
     },
     "execution_count": 41,
     "metadata": {},
     "output_type": "execute_result"
    }
   ],
   "source": [
    "pd.to_datetime(['Oct 10, 1995', '7/8/1952', '2018-01-05'], format='mixed')\n",
    "# DatetimeIndex(['2018-01-05', '1952-07-08', '1995-10-10'], dtype='datetime64[ns]', freq=None)"
   ]
  },
  {
   "cell_type": "code",
   "execution_count": 36,
   "id": "8c386f5f-c196-473f-9702-534988b32c2d",
   "metadata": {},
   "outputs": [
    {
     "data": {
      "text/plain": [
       "Date          object\n",
       "Open         float64\n",
       "High         float64\n",
       "Low          float64\n",
       "Close        float64\n",
       "Adj Close    float64\n",
       "Volume         int64\n",
       "dtype: object"
      ]
     },
     "execution_count": 36,
     "metadata": {},
     "output_type": "execute_result"
    }
   ],
   "source": [
    "df_2.dtypes"
   ]
  },
  {
   "cell_type": "code",
   "execution_count": 44,
   "id": "e1c16ef4-24f1-4c36-8b47-9cf6603cd3e3",
   "metadata": {},
   "outputs": [],
   "source": [
    "df_2['Date'] = pd.to_datetime(df_2['Date'])"
   ]
  },
  {
   "cell_type": "code",
   "execution_count": 45,
   "id": "b73d6f05-6253-4a8b-97f3-cfe5be99ce7f",
   "metadata": {},
   "outputs": [
    {
     "data": {
      "text/plain": [
       "Date         datetime64[ns]\n",
       "Open                float64\n",
       "High                float64\n",
       "Low                 float64\n",
       "Close               float64\n",
       "Adj Close           float64\n",
       "Volume                int64\n",
       "dtype: object"
      ]
     },
     "execution_count": 45,
     "metadata": {},
     "output_type": "execute_result"
    }
   ],
   "source": [
    "df_2.dtypes"
   ]
  },
  {
   "cell_type": "code",
   "execution_count": 49,
   "id": "299ba28b-4c39-42fe-b791-963f005a1587",
   "metadata": {},
   "outputs": [
    {
     "data": {
      "text/html": [
       "<div>\n",
       "<style scoped>\n",
       "    .dataframe tbody tr th:only-of-type {\n",
       "        vertical-align: middle;\n",
       "    }\n",
       "\n",
       "    .dataframe tbody tr th {\n",
       "        vertical-align: top;\n",
       "    }\n",
       "\n",
       "    .dataframe thead th {\n",
       "        text-align: right;\n",
       "    }\n",
       "</style>\n",
       "<table border=\"1\" class=\"dataframe\">\n",
       "  <thead>\n",
       "    <tr style=\"text-align: right;\">\n",
       "      <th></th>\n",
       "      <th>Open</th>\n",
       "      <th>High</th>\n",
       "      <th>Low</th>\n",
       "      <th>Close</th>\n",
       "      <th>Adj Close</th>\n",
       "      <th>Volume</th>\n",
       "    </tr>\n",
       "    <tr>\n",
       "      <th>Date</th>\n",
       "      <th></th>\n",
       "      <th></th>\n",
       "      <th></th>\n",
       "      <th></th>\n",
       "      <th></th>\n",
       "      <th></th>\n",
       "    </tr>\n",
       "  </thead>\n",
       "  <tbody>\n",
       "    <tr>\n",
       "      <th>2020-01-27</th>\n",
       "      <td>71.320000</td>\n",
       "      <td>71.635002</td>\n",
       "      <td>71.320000</td>\n",
       "      <td>71.324997</td>\n",
       "      <td>71.324997</td>\n",
       "      <td>0</td>\n",
       "    </tr>\n",
       "    <tr>\n",
       "      <th>2020-01-28</th>\n",
       "      <td>71.654999</td>\n",
       "      <td>71.654999</td>\n",
       "      <td>71.178001</td>\n",
       "      <td>71.440002</td>\n",
       "      <td>71.440002</td>\n",
       "      <td>0</td>\n",
       "    </tr>\n",
       "    <tr>\n",
       "      <th>2020-01-29</th>\n",
       "      <td>71.230103</td>\n",
       "      <td>71.425003</td>\n",
       "      <td>71.168503</td>\n",
       "      <td>71.230400</td>\n",
       "      <td>71.230400</td>\n",
       "      <td>0</td>\n",
       "    </tr>\n",
       "    <tr>\n",
       "      <th>2020-01-30</th>\n",
       "      <td>71.300003</td>\n",
       "      <td>71.711998</td>\n",
       "      <td>71.300003</td>\n",
       "      <td>71.300003</td>\n",
       "      <td>71.300003</td>\n",
       "      <td>0</td>\n",
       "    </tr>\n",
       "    <tr>\n",
       "      <th>2020-01-31</th>\n",
       "      <td>71.639999</td>\n",
       "      <td>71.639999</td>\n",
       "      <td>71.277496</td>\n",
       "      <td>71.639999</td>\n",
       "      <td>71.639999</td>\n",
       "      <td>0</td>\n",
       "    </tr>\n",
       "  </tbody>\n",
       "</table>\n",
       "</div>"
      ],
      "text/plain": [
       "                 Open       High        Low      Close  Adj Close  Volume\n",
       "Date                                                                     \n",
       "2020-01-27  71.320000  71.635002  71.320000  71.324997  71.324997       0\n",
       "2020-01-28  71.654999  71.654999  71.178001  71.440002  71.440002       0\n",
       "2020-01-29  71.230103  71.425003  71.168503  71.230400  71.230400       0\n",
       "2020-01-30  71.300003  71.711998  71.300003  71.300003  71.300003       0\n",
       "2020-01-31  71.639999  71.639999  71.277496  71.639999  71.639999       0"
      ]
     },
     "execution_count": 49,
     "metadata": {},
     "output_type": "execute_result"
    }
   ],
   "source": [
    "# df_2 = df_2.set_index('Date')\n",
    "df_2.head()"
   ]
  },
  {
   "cell_type": "code",
   "execution_count": 55,
   "id": "d91c65ba-94d0-46bf-b494-d15d522d50ef",
   "metadata": {},
   "outputs": [
    {
     "data": {
      "text/html": [
       "<div>\n",
       "<style scoped>\n",
       "    .dataframe tbody tr th:only-of-type {\n",
       "        vertical-align: middle;\n",
       "    }\n",
       "\n",
       "    .dataframe tbody tr th {\n",
       "        vertical-align: top;\n",
       "    }\n",
       "\n",
       "    .dataframe thead th {\n",
       "        text-align: right;\n",
       "    }\n",
       "</style>\n",
       "<table border=\"1\" class=\"dataframe\">\n",
       "  <thead>\n",
       "    <tr style=\"text-align: right;\">\n",
       "      <th></th>\n",
       "      <th>Open</th>\n",
       "      <th>High</th>\n",
       "      <th>Low</th>\n",
       "      <th>Close</th>\n",
       "      <th>Adj Close</th>\n",
       "      <th>Volume</th>\n",
       "      <th>Year</th>\n",
       "      <th>Month</th>\n",
       "      <th>Weekday Name</th>\n",
       "    </tr>\n",
       "    <tr>\n",
       "      <th>Date</th>\n",
       "      <th></th>\n",
       "      <th></th>\n",
       "      <th></th>\n",
       "      <th></th>\n",
       "      <th></th>\n",
       "      <th></th>\n",
       "      <th></th>\n",
       "      <th></th>\n",
       "      <th></th>\n",
       "    </tr>\n",
       "  </thead>\n",
       "  <tbody>\n",
       "    <tr>\n",
       "      <th>2020-01-27</th>\n",
       "      <td>71.320000</td>\n",
       "      <td>71.635002</td>\n",
       "      <td>71.320000</td>\n",
       "      <td>71.324997</td>\n",
       "      <td>71.324997</td>\n",
       "      <td>0</td>\n",
       "      <td>2020</td>\n",
       "      <td>1</td>\n",
       "      <td>0</td>\n",
       "    </tr>\n",
       "    <tr>\n",
       "      <th>2020-01-28</th>\n",
       "      <td>71.654999</td>\n",
       "      <td>71.654999</td>\n",
       "      <td>71.178001</td>\n",
       "      <td>71.440002</td>\n",
       "      <td>71.440002</td>\n",
       "      <td>0</td>\n",
       "      <td>2020</td>\n",
       "      <td>1</td>\n",
       "      <td>1</td>\n",
       "    </tr>\n",
       "    <tr>\n",
       "      <th>2020-01-29</th>\n",
       "      <td>71.230103</td>\n",
       "      <td>71.425003</td>\n",
       "      <td>71.168503</td>\n",
       "      <td>71.230400</td>\n",
       "      <td>71.230400</td>\n",
       "      <td>0</td>\n",
       "      <td>2020</td>\n",
       "      <td>1</td>\n",
       "      <td>2</td>\n",
       "    </tr>\n",
       "    <tr>\n",
       "      <th>2020-01-30</th>\n",
       "      <td>71.300003</td>\n",
       "      <td>71.711998</td>\n",
       "      <td>71.300003</td>\n",
       "      <td>71.300003</td>\n",
       "      <td>71.300003</td>\n",
       "      <td>0</td>\n",
       "      <td>2020</td>\n",
       "      <td>1</td>\n",
       "      <td>3</td>\n",
       "    </tr>\n",
       "    <tr>\n",
       "      <th>2020-01-31</th>\n",
       "      <td>71.639999</td>\n",
       "      <td>71.639999</td>\n",
       "      <td>71.277496</td>\n",
       "      <td>71.639999</td>\n",
       "      <td>71.639999</td>\n",
       "      <td>0</td>\n",
       "      <td>2020</td>\n",
       "      <td>1</td>\n",
       "      <td>4</td>\n",
       "    </tr>\n",
       "    <tr>\n",
       "      <th>2020-02-03</th>\n",
       "      <td>71.544998</td>\n",
       "      <td>71.699997</td>\n",
       "      <td>71.265503</td>\n",
       "      <td>71.496498</td>\n",
       "      <td>71.496498</td>\n",
       "      <td>0</td>\n",
       "      <td>2020</td>\n",
       "      <td>2</td>\n",
       "      <td>0</td>\n",
       "    </tr>\n",
       "    <tr>\n",
       "      <th>2020-02-04</th>\n",
       "      <td>71.314102</td>\n",
       "      <td>71.514999</td>\n",
       "      <td>71.084999</td>\n",
       "      <td>71.314102</td>\n",
       "      <td>71.314102</td>\n",
       "      <td>0</td>\n",
       "      <td>2020</td>\n",
       "      <td>2</td>\n",
       "      <td>1</td>\n",
       "    </tr>\n",
       "    <tr>\n",
       "      <th>2020-02-05</th>\n",
       "      <td>71.100403</td>\n",
       "      <td>71.279999</td>\n",
       "      <td>71.099899</td>\n",
       "      <td>71.099998</td>\n",
       "      <td>71.099998</td>\n",
       "      <td>0</td>\n",
       "      <td>2020</td>\n",
       "      <td>2</td>\n",
       "      <td>2</td>\n",
       "    </tr>\n",
       "    <tr>\n",
       "      <th>2020-02-06</th>\n",
       "      <td>71.181000</td>\n",
       "      <td>71.397499</td>\n",
       "      <td>71.121002</td>\n",
       "      <td>71.180000</td>\n",
       "      <td>71.180000</td>\n",
       "      <td>0</td>\n",
       "      <td>2020</td>\n",
       "      <td>2</td>\n",
       "      <td>3</td>\n",
       "    </tr>\n",
       "    <tr>\n",
       "      <th>2020-02-07</th>\n",
       "      <td>71.470001</td>\n",
       "      <td>71.570999</td>\n",
       "      <td>71.177498</td>\n",
       "      <td>71.470001</td>\n",
       "      <td>71.470001</td>\n",
       "      <td>0</td>\n",
       "      <td>2020</td>\n",
       "      <td>2</td>\n",
       "      <td>4</td>\n",
       "    </tr>\n",
       "  </tbody>\n",
       "</table>\n",
       "</div>"
      ],
      "text/plain": [
       "                 Open       High        Low      Close  Adj Close  Volume  \\\n",
       "Date                                                                        \n",
       "2020-01-27  71.320000  71.635002  71.320000  71.324997  71.324997       0   \n",
       "2020-01-28  71.654999  71.654999  71.178001  71.440002  71.440002       0   \n",
       "2020-01-29  71.230103  71.425003  71.168503  71.230400  71.230400       0   \n",
       "2020-01-30  71.300003  71.711998  71.300003  71.300003  71.300003       0   \n",
       "2020-01-31  71.639999  71.639999  71.277496  71.639999  71.639999       0   \n",
       "2020-02-03  71.544998  71.699997  71.265503  71.496498  71.496498       0   \n",
       "2020-02-04  71.314102  71.514999  71.084999  71.314102  71.314102       0   \n",
       "2020-02-05  71.100403  71.279999  71.099899  71.099998  71.099998       0   \n",
       "2020-02-06  71.181000  71.397499  71.121002  71.180000  71.180000       0   \n",
       "2020-02-07  71.470001  71.570999  71.177498  71.470001  71.470001       0   \n",
       "\n",
       "            Year  Month  Weekday Name  \n",
       "Date                                   \n",
       "2020-01-27  2020      1             0  \n",
       "2020-01-28  2020      1             1  \n",
       "2020-01-29  2020      1             2  \n",
       "2020-01-30  2020      1             3  \n",
       "2020-01-31  2020      1             4  \n",
       "2020-02-03  2020      2             0  \n",
       "2020-02-04  2020      2             1  \n",
       "2020-02-05  2020      2             2  \n",
       "2020-02-06  2020      2             3  \n",
       "2020-02-07  2020      2             4  "
      ]
     },
     "execution_count": 55,
     "metadata": {},
     "output_type": "execute_result"
    }
   ],
   "source": [
    "df_2['Year'] = df_2.index.year\n",
    "df_2['Month'] = df_2.index.month\n",
    "df_2['Weekday Name'] = df_2.index.dayofweek\n",
    "# Display a random sampling of 5 rows\n",
    "df_2.head(10)\n",
    "# opsd_daily.sample(5, random_state=0)"
   ]
  },
  {
   "cell_type": "code",
   "execution_count": 56,
   "id": "4d5901f1-acc5-4f41-9521-51596b2e24da",
   "metadata": {},
   "outputs": [],
   "source": [
    "import matplotlib.pyplot as plt \n",
    "import seaborn as sns\n",
    "\n",
    "sns.set(rc={'figure.figsize':(11, 4)})"
   ]
  },
  {
   "cell_type": "code",
   "execution_count": 57,
   "id": "fe419b19-9272-493b-81e6-b07b74ecd684",
   "metadata": {},
   "outputs": [
    {
     "data": {
      "image/png": "[encoded data removed]",
      "text/plain": [
       "<Figure size 1100x400 with 1 Axes>"
      ]
     },
     "metadata": {},
     "output_type": "display_data"
    }
   ],
   "source": [
    "df_2['Open'].plot(linewidth=0.5);"
   ]
  },
  {
   "cell_type": "code",
   "execution_count": null,
   "id": "90caadd2-4a94-4791-a34b-62ec3ddf2056",
   "metadata": {},
   "outputs": [],
   "source": [
    "# cols_plot = ['Consumption', 'Solar', 'Wind']\n",
    "# axes = opsd_daily[cols_plot].plot(marker='.', alpha=0.5, linestyle='None', figsize=(11, 9), subplots=True)\n",
    "# for ax in axes:\n",
    "#     ax.set_ylabel('Daily Totals (GWh)')"
   ]
  },
  {
   "cell_type": "code",
   "execution_count": 58,
   "id": "c2648e24-3b3e-4e42-ae6f-62d54ea44e01",
   "metadata": {},
   "outputs": [
    {
     "data": {
      "image/png": "[encoded data removed]",
      "text/plain": [
       "<Figure size 1100x400 with 1 Axes>"
      ]
     },
     "metadata": {},
     "output_type": "display_data"
    }
   ],
   "source": [
    "ax = df_2.loc['2020', 'Close'].plot()\n",
    "ax.set_ylabel('Close for Stock Price');"
   ]
  },
  {
   "cell_type": "code",
   "execution_count": 62,
   "id": "a0d39262-eceb-4b47-9e5d-9b6a3b30bf19",
   "metadata": {},
   "outputs": [
    {
     "data": {
      "image/png": "[encoded data removed]",
      "text/plain": [
       "<Figure size 1100x1000 with 4 Axes>"
      ]
     },
     "metadata": {},
     "output_type": "display_data"
    }
   ],
   "source": [
    "fig, axes = plt.subplots(4, 1, figsize=(11, 10), sharex=True)\n",
    "for name, ax in zip(['Open', 'High', 'Low', 'Close'], axes):\n",
    "    sns.boxplot(data=df_2, x='Month', y=name, ax=ax)\n",
    "    ax.set_ylabel('Stock Price')\n",
    "    ax.set_title(name)\n",
    "# Remove the automatic x-axis label from all but the bottom subplot\n",
    "# if ax != axes[-1]:\n",
    "#     ax.set_xlabel('')"
   ]
  },
  {
   "cell_type": "code",
   "execution_count": 66,
   "id": "7ed011fd-c779-472e-b91a-b40c23bd146b",
   "metadata": {},
   "outputs": [
    {
     "data": {
      "text/plain": [
       "DatetimeIndex(['2020-01-27', '2020-01-28', '2020-01-29', '2020-01-30',\n",
       "               '2020-01-31', '2020-02-01', '2020-02-02', '2020-02-03',\n",
       "               '2020-02-04', '2020-02-05',\n",
       "               ...\n",
       "               '2021-01-17', '2021-01-18', '2021-01-19', '2021-01-20',\n",
       "               '2021-01-21', '2021-01-22', '2021-01-23', '2021-01-24',\n",
       "               '2021-01-25', '2021-01-26'],\n",
       "              dtype='datetime64[ns]', name='Date', length=366, freq='D')"
      ]
     },
     "execution_count": 66,
     "metadata": {},
     "output_type": "execute_result"
    }
   ],
   "source": [
    "df_2.index"
   ]
  },
  {
   "cell_type": "code",
   "execution_count": 65,
   "id": "9814bbfa-9f6b-443a-aa56-92bbf9b32400",
   "metadata": {},
   "outputs": [],
   "source": [
    "df_2 = df_2.asfreq('D')"
   ]
  },
  {
   "cell_type": "code",
   "execution_count": 75,
   "id": "f90290d8-d140-460f-aa93-efa2e79188f3",
   "metadata": {},
   "outputs": [
    {
     "data": {
      "application/vnd.plotly.v1+json": {
       "config": {
        "plotlyServerURL": "https://plot.ly"
       },
       "data": [
        {
         "close": [
          71.324997,
          71.440002,
          71.2304,
          71.300003,
          71.639999,
          null,
          null,
          71.496498,
          71.314102,
          71.099998,
          71.18,
          71.470001,
          null,
          null,
          71.515503,
          71.279999,
          71.275299,
          71.296204,
          71.268501,
          null,
          null,
          71.514801,
          71.349197,
          71.574997,
          71.827499,
          72.110001,
          null,
          null,
          71.886803,
          72.0467,
          71.870003,
          71.663399,
          71.93,
          null,
          null,
          72.150002,
          72.824997,
          73.342003,
          74.042503,
          73.855103,
          null,
          null,
          73.9953,
          74.405998,
          74.205002,
          74.760002,
          75.300003,
          null,
          null,
          73.903999,
          75.154999,
          74.012398,
          74.982002,
          75.159698,
          null,
          null,
          75.622101,
          76.505997,
          77.260002,
          75.845497,
          74.725601,
          null,
          null,
          75.464996,
          75.400002,
          75.324997,
          77.57,
          77.139999,
          null,
          null,
          76.230003,
          75.964897,
          76.660004,
          75.959,
          76.650002,
          null,
          null,
          76.166496,
          76.910004,
          75.931,
          77.212502,
          77.57,
          null,
          null,
          76.559998,
          77.209999,
          76.969398,
          76.400002,
          76.422501,
          null,
          null,
          76.2715,
          76.186302,
          76.464996,
          75.258499,
          75.720001,
          null,
          null,
          75.600502,
          75.849998,
          76.169998,
          76.151299,
          76.080002,
          null,
          null,
          75.525002,
          76.309998,
          75.68,
          75.426201,
          75.485001,
          null,
          null,
          75.82,
          75.600098,
          76,
          75.779999,
          75.625,
          null,
          null,
          75.985001,
          76.110001,
          75.82,
          76.129997,
          75.959999,
          null,
          null,
          75.513199,
          75.730003,
          75.065804,
          75.544998,
          75.490898,
          null,
          null,
          75.5177,
          75.625,
          75.509804,
          75.875,
          76.389999,
          null,
          null,
          75.956802,
          75.977997,
          76.654999,
          76.550003,
          76.400398,
          null,
          null,
          76.252098,
          75.789803,
          75.607803,
          75.970001,
          75.539803,
          null,
          null,
          75.619797,
          75.699997,
          75.75,
          75.454903,
          74.721001,
          null,
          null,
          74.679298,
          74.607597,
          75.125,
          74.939903,
          75.339996,
          null,
          null,
          75.158501,
          75.449997,
          75.574997,
          75.124901,
          75.1745,
          null,
          null,
          74.897301,
          74.989998,
          74.769997,
          74.82,
          74.807297,
          null,
          null,
          74.759804,
          75,
          75.089996,
          74.8312,
          74.989998,
          null,
          null,
          74.917801,
          75.330002,
          75.25,
          74.882202,
          74.899803,
          null,
          null,
          75.024803,
          75.099998,
          74.900002,
          74.772102,
          75.029999,
          null,
          null,
          74.902802,
          75,
          74.794998,
          74.966797,
          74.999901,
          null,
          null,
          74.921799,
          74.400002,
          74.452499,
          74.240097,
          73.774498,
          null,
          null,
          73.128304,
          73.669998,
          73.269997,
          73.248497,
          73.447899,
          null,
          null,
          73.290298,
          73.650002,
          73.786797,
          73.550003,
          73.527298,
          null,
          null,
          73.4786,
          73.614998,
          73.800003,
          73.550697,
          73.583603,
          null,
          null,
          73.534798,
          73.579803,
          73.502998,
          73.778397,
          73.682404,
          null,
          null,
          73.699303,
          73.974998,
          73.845001,
          73.705002,
          73.217003,
          null,
          null,
          73.322403,
          73.108299,
          73.815002,
          73.542503,
          73.280502,
          null,
          null,
          73.014801,
          73.3508,
          73.620003,
          73.296204,
          73.371002,
          null,
          null,
          73.443802,
          73.574997,
          73.647499,
          73.681297,
          73.720001,
          null,
          null,
          73.822899,
          73.948502,
          73.805,
          74.440002,
          74.264,
          null,
          null,
          74.550499,
          74.456802,
          74.655602,
          74.379997,
          74.120003,
          null,
          null,
          73.979797,
          73.953201,
          74.281601,
          74.57,
          74.864998,
          null,
          null,
          74.487701,
          74.418098,
          74.479698,
          74.419998,
          74.099602,
          null,
          null,
          74.162399,
          74.244904,
          73.9608,
          73.7799,
          74.048798,
          null,
          null,
          73.940903,
          74.0252,
          73.654999,
          73.662598,
          73.864899,
          null,
          null,
          73.790298,
          74.019997,
          73.726402,
          73.934998,
          73.7267,
          null,
          null,
          73.737999,
          73.860001,
          73.759804,
          73.6166,
          73.5298,
          null,
          null,
          73.6036,
          73.935303,
          74.269997,
          73.839798,
          73.5578,
          null,
          null,
          73.689003,
          73.544899,
          73.453598,
          73.134003,
          73.089203,
          null,
          null,
          73.092003,
          73.32,
          73.374802,
          73.360001,
          73.445999,
          null,
          null,
          73.373398,
          73.513496,
          73.165001,
          73.169899,
          73.087601,
          null,
          null,
          73.158997,
          73.188698,
          73.191902,
          72.910896,
          72.954903,
          null,
          null,
          72.995903,
          72.970001
         ],
         "high": [
          71.635002,
          71.654999,
          71.425003,
          71.711998,
          71.639999,
          null,
          null,
          71.699997,
          71.514999,
          71.279999,
          71.397499,
          71.570999,
          null,
          null,
          71.508003,
          71.470001,
          71.474998,
          71.491898,
          71.596001,
          null,
          null,
          71.5177,
          71.613503,
          71.815002,
          71.919502,
          72.110001,
          null,
          null,
          72.355003,
          72.294998,
          72.137497,
          71.952499,
          72.815002,
          null,
          null,
          73.387497,
          73.599998,
          74.037498,
          74.080002,
          74.440002,
          null,
          null,
          75.0625,
          75.144997,
          74.404999,
          75.379997,
          75.434998,
          null,
          null,
          75.122498,
          75.154999,
          74.989502,
          75.571999,
          76.230003,
          null,
          null,
          77.754997,
          77.75,
          77.474998,
          77.095001,
          76.25,
          null,
          null,
          76.379997,
          76.482498,
          77.377602,
          77.57,
          77.504997,
          null,
          null,
          77.379997,
          77.114998,
          77.199997,
          77.199997,
          76.68,
          null,
          null,
          76.952499,
          76.962502,
          76.709503,
          77.510002,
          77.57,
          null,
          null,
          77.315002,
          77.614998,
          77.684998,
          76.995003,
          76.800003,
          null,
          null,
          76.785004,
          76.654999,
          76.464996,
          75.75,
          76.144997,
          null,
          null,
          75.805,
          76.115799,
          76.169998,
          76.550003,
          76.080002,
          null,
          null,
          76.260002,
          76.309998,
          75.68,
          75.730003,
          76.185501,
          null,
          null,
          76.092003,
          76.040001,
          76,
          75.919998,
          76.209503,
          null,
          null,
          76.129501,
          76.110001,
          76,
          76.129997,
          75.959999,
          null,
          null,
          75.769997,
          75.730003,
          75.684998,
          75.635002,
          75.792503,
          null,
          null,
          75.739998,
          75.691002,
          75.7799,
          76.196999,
          76.389999,
          null,
          null,
          76.220001,
          76.283798,
          76.654999,
          76.550003,
          76.635002,
          null,
          null,
          76.453499,
          76.119797,
          75.839996,
          75.970001,
          75.745003,
          null,
          null,
          75.6418,
          75.699997,
          75.75,
          75.677498,
          74.989998,
          null,
          null,
          74.807999,
          74.962997,
          75.125,
          75.1567,
          75.355003,
          null,
          null,
          75.434998,
          75.510498,
          75.574997,
          75.349998,
          75.419998,
          null,
          null,
          75.150002,
          74.994003,
          74.833099,
          74.925598,
          75.099998,
          null,
          null,
          74.983498,
          75,
          75.089996,
          75.019997,
          74.989998,
          null,
          null,
          75.298401,
          75.364998,
          75.25,
          75.099998,
          75.1092,
          null,
          null,
          75.246002,
          75.099998,
          74.924004,
          74.997498,
          75.029999,
          null,
          null,
          75.080002,
          75,
          75.057503,
          75.199997,
          75.190002,
          null,
          null,
          74.921799,
          74.639297,
          74.452499,
          74.459999,
          73.970001,
          null,
          null,
          73.885002,
          73.669998,
          73.370003,
          73.711304,
          73.669998,
          null,
          null,
          73.506798,
          73.957802,
          74.050003,
          73.550003,
          73.75,
          null,
          null,
          73.7024,
          73.723,
          73.800003,
          73.788101,
          73.779999,
          null,
          null,
          73.649597,
          73.650002,
          73.800003,
          74.222,
          73.910004,
          null,
          null,
          73.870003,
          73.974998,
          73.856499,
          73.705002,
          73.532997,
          null,
          null,
          73.398003,
          73.488998,
          73.815002,
          73.546501,
          73.497299,
          null,
          null,
          73.4132,
          73.504997,
          73.620003,
          73.5187,
          73.57,
          null,
          null,
          73.595001,
          73.574997,
          73.784203,
          73.884003,
          73.8853,
          null,
          null,
          74.114304,
          74.137497,
          74.251999,
          74.524696,
          74.702003,
          null,
          null,
          74.707603,
          74.684799,
          75.000999,
          74.407303,
          74.278503,
          null,
          null,
          74.167999,
          74.465797,
          74.537903,
          74.759003,
          74.887299,
          null,
          null,
          74.589798,
          74.608902,
          74.704803,
          74.442299,
          74.339203,
          null,
          null,
          74.406303,
          74.249001,
          74.169998,
          74.070503,
          74.268501,
          null,
          null,
          74.198502,
          74.172897,
          73.813797,
          73.953201,
          74.087303,
          null,
          null,
          73.947998,
          74.0373,
          73.939796,
          73.934998,
          73.922501,
          null,
          null,
          73.780998,
          73.900299,
          73.795998,
          73.824799,
          73.754799,
          null,
          null,
          74.092003,
          74.202301,
          74.269997,
          74.099998,
          73.800003,
          null,
          null,
          73.734802,
          73.767303,
          73.664803,
          73.349998,
          73.319801,
          null,
          null,
          73.200996,
          73.329803,
          73.360001,
          73.467003,
          73.739799,
          null,
          null,
          73.584198,
          73.778999,
          73.414001,
          73.353996,
          73.378098,
          null,
          null,
          73.419998,
          73.307999,
          73.192299,
          73.045303,
          73.237503,
          null,
          null,
          73.220001,
          73.222
         ],
         "low": [
          71.32,
          71.178001,
          71.168503,
          71.300003,
          71.277496,
          null,
          null,
          71.265503,
          71.084999,
          71.099899,
          71.121002,
          71.177498,
          null,
          null,
          71.259003,
          71.171501,
          71.064003,
          71.235802,
          71.256401,
          null,
          null,
          71.268997,
          71.330002,
          71.420998,
          71.547401,
          71.669998,
          null,
          null,
          71.766998,
          71.593002,
          71.525597,
          71.535004,
          71.627502,
          null,
          null,
          71.952499,
          72.342499,
          72.894997,
          73.050003,
          73.496498,
          null,
          null,
          73.862503,
          73.735497,
          73.404503,
          73.994499,
          73.699501,
          null,
          null,
          73.7575,
          73.580002,
          73.705002,
          74.411003,
          74.154999,
          null,
          null,
          75.275002,
          75.012497,
          75.849998,
          74.769501,
          73.989998,
          null,
          null,
          74.989998,
          75.134499,
          75.324997,
          76.010002,
          75.75,
          null,
          null,
          75.904503,
          75.251999,
          75.572502,
          75.747498,
          75.807503,
          null,
          null,
          75.9925,
          75.939499,
          75.921303,
          76.472,
          76.247002,
          null,
          null,
          76.311302,
          76.4963,
          76.384499,
          75.672501,
          75.839996,
          null,
          null,
          75.887497,
          75.790398,
          75.412003,
          74.805,
          75.072998,
          null,
          null,
          75.352501,
          75.379997,
          75.590302,
          75.709503,
          75.260002,
          null,
          null,
          75.039497,
          75.041298,
          75.043999,
          75.341003,
          75.319298,
          null,
          null,
          75.612396,
          75.527496,
          75.462997,
          75.416,
          75.610001,
          null,
          null,
          75.7575,
          75.404999,
          75.381302,
          75.634499,
          75.4263,
          null,
          null,
          75.235497,
          74.982803,
          74.914398,
          75.281898,
          75.309402,
          null,
          null,
          75.388802,
          75.391899,
          75.3769,
          75.5,
          75.767502,
          null,
          null,
          75.894997,
          75.745003,
          76.094498,
          76.001503,
          76.105499,
          null,
          null,
          75.738503,
          75.472,
          75.466003,
          75.519798,
          75.430496,
          null,
          null,
          75.4319,
          75.388496,
          75.474998,
          74.607498,
          74.544502,
          null,
          null,
          74.430298,
          74.540298,
          74.8125,
          74.847801,
          75.056702,
          null,
          null,
          75.070503,
          75.2118,
          75.043297,
          75.085999,
          74.916,
          null,
          null,
          74.747002,
          74.507401,
          74.4646,
          74.572304,
          74.6847,
          null,
          null,
          74.513496,
          74.648499,
          74.683998,
          74.750504,
          74.613503,
          null,
          null,
          74.835999,
          74.973,
          74.771301,
          74.768997,
          74.875999,
          null,
          null,
          74.856003,
          74.515999,
          74.619797,
          74.744003,
          74.7285,
          null,
          null,
          74.662399,
          74.570297,
          74.575302,
          74.847198,
          74.822998,
          null,
          null,
          73.925301,
          74.046997,
          74.185997,
          73.763901,
          73.095802,
          null,
          null,
          73.0345,
          72.718498,
          72.889297,
          72.893501,
          73.010803,
          null,
          null,
          73.018997,
          73.392998,
          73.082497,
          73.012001,
          73.363998,
          null,
          null,
          73.244003,
          73.288498,
          73.463799,
          73.398003,
          73.172997,
          null,
          null,
          73.278,
          73.388,
          73.438004,
          73.563004,
          73.561501,
          null,
          null,
          73.519302,
          73.603996,
          73.524399,
          73.027,
          73.139999,
          null,
          null,
          73.047096,
          73.043999,
          73.080002,
          73.194,
          72.976997,
          null,
          null,
          72.933998,
          73.245598,
          73.2052,
          73.202003,
          73.272697,
          null,
          null,
          73.283997,
          73.294998,
          73.359001,
          73.472801,
          73.473,
          null,
          null,
          73.690002,
          73.613998,
          73.642998,
          73.932999,
          74.031998,
          null,
          null,
          74.274002,
          74.245003,
          74.278801,
          73.845802,
          73.863998,
          null,
          null,
          73.643097,
          73.877998,
          74.108002,
          74.365997,
          74.466103,
          null,
          null,
          74.379303,
          74.326797,
          74.035202,
          74.119797,
          74.072998,
          null,
          null,
          74.002998,
          73.884399,
          73.748802,
          73.738899,
          73.746201,
          null,
          null,
          73.879097,
          73.464996,
          73.398003,
          73.630402,
          73.659698,
          null,
          null,
          73.631798,
          73.542,
          73.530998,
          73.624001,
          73.536499,
          null,
          null,
          73.470001,
          73.502197,
          73.458603,
          73.384697,
          73.471001,
          null,
          null,
          73.512802,
          73.786697,
          73.6464,
          73.450798,
          73.550003,
          null,
          null,
          73.4562,
          73.287201,
          73.101601,
          72.946602,
          73.025002,
          null,
          null,
          72.7985,
          72.963501,
          73.040001,
          73.063004,
          73.196198,
          null,
          null,
          73.340302,
          73.202003,
          73.062798,
          72.939003,
          73.002502,
          null,
          null,
          73.123001,
          73.098999,
          72.8993,
          72.883003,
          72.929001,
          null,
          null,
          72.877998,
          72.774498
         ],
         "open": [
          71.32,
          71.654999,
          71.230103,
          71.300003,
          71.639999,
          null,
          null,
          71.544998,
          71.314102,
          71.100403,
          71.181,
          71.470001,
          null,
          null,
          71.504997,
          71.470001,
          71.275497,
          71.296501,
          71.268501,
          null,
          null,
          71.5177,
          71.349297,
          71.790001,
          71.632896,
          72.110001,
          null,
          null,
          71.870003,
          72.0467,
          71.870003,
          71.663399,
          71.93,
          null,
          null,
          72.528999,
          72.4235,
          73.342003,
          74.042503,
          73.855103,
          null,
          null,
          73.9953,
          75.144997,
          74.205002,
          74.760002,
          74.436096,
          null,
          null,
          73.830002,
          75.154999,
          74.012398,
          74.982002,
          76.120003,
          null,
          null,
          75.388496,
          76.505997,
          77.260002,
          77.095001,
          74.725601,
          null,
          null,
          75.464996,
          75.400101,
          76.110001,
          76.585503,
          77.139999,
          null,
          null,
          76.230003,
          75.964897,
          76.660004,
          75.959,
          76.650002,
          null,
          null,
          76.166496,
          76.910004,
          75.931,
          76.500099,
          76.858902,
          null,
          null,
          76.559998,
          76.5924,
          77.684998,
          76.995003,
          76.422501,
          null,
          null,
          76.2715,
          76.654999,
          76.464996,
          75.610001,
          75.720001,
          null,
          null,
          75.591003,
          75.629997,
          76.169998,
          76.550003,
          76.080002,
          null,
          null,
          75.525002,
          75.927597,
          75.3685,
          75.4272,
          75.485001,
          null,
          null,
          75.82,
          75.599998,
          75.699997,
          75.779999,
          75.625,
          null,
          null,
          75.985001,
          75.873596,
          75.489502,
          75.885696,
          75.959999,
          null,
          null,
          75.513199,
          75.730003,
          75.275002,
          75.327698,
          75.4832,
          null,
          null,
          75.5177,
          75.399803,
          75.509697,
          75.875,
          76.389999,
          null,
          null,
          75.956902,
          76.097504,
          76.403702,
          76.289803,
          76.483101,
          null,
          null,
          76.257301,
          76,
          75.839996,
          75.970001,
          75.542,
          null,
          null,
          75.619797,
          75.518799,
          75.556999,
          75.677498,
          74.875,
          null,
          null,
          74.679298,
          74.607498,
          75.125,
          74.920998,
          75.339996,
          null,
          null,
          75.194298,
          75.449997,
          75.574997,
          75.124901,
          75.419998,
          null,
          null,
          74.8974,
          74.989998,
          74.769997,
          74.82,
          75.044998,
          null,
          null,
          74.725601,
          75,
          75.089996,
          74.8312,
          74.783798,
          null,
          null,
          74.9179,
          75.330002,
          75.25,
          75.099998,
          74.899803,
          null,
          null,
          75.026901,
          75.099998,
          74.900002,
          74.997498,
          75.029999,
          null,
          null,
          74.902802,
          75,
          74.794998,
          75.18,
          75.190002,
          null,
          null,
          74.921799,
          74.400002,
          74.452499,
          74.459999,
          73.970001,
          null,
          null,
          73.128403,
          73.669998,
          73.269997,
          73.459999,
          73.667503,
          null,
          null,
          73.290298,
          73.650002,
          73.786797,
          73.550003,
          73.75,
          null,
          null,
          73.478699,
          73.384003,
          73.6101,
          73.764999,
          73.779999,
          null,
          null,
          73.534798,
          73.579803,
          73.502899,
          74.010002,
          73.910004,
          null,
          null,
          73.699402,
          73.764801,
          73.654999,
          73.705002,
          73.419998,
          null,
          null,
          73.322502,
          73.115799,
          73.815002,
          73.542503,
          73.280502,
          null,
          null,
          73.0149,
          73.3508,
          73.418297,
          73.4925,
          73.57,
          null,
          null,
          73.443802,
          73.3937,
          73.479698,
          73.724998,
          73.720001,
          null,
          null,
          73.834,
          74.137497,
          73.814903,
          74.440002,
          74.264,
          null,
          null,
          74.707298,
          74.456802,
          74.849998,
          74.190498,
          74.120003,
          null,
          null,
          73.9758,
          74.139999,
          74.472504,
          74.624802,
          74.6717,
          null,
          null,
          74.589798,
          74.550003,
          74.480103,
          74.419998,
          74.099602,
          null,
          null,
          74.119797,
          74.244499,
          73.9608,
          73.7799,
          74.048798,
          null,
          null,
          73.935303,
          74.0252,
          73.6698,
          73.662598,
          73.939003,
          null,
          null,
          73.790298,
          73.809898,
          73.832298,
          73.817299,
          73.7267,
          null,
          null,
          73.737999,
          73.860001,
          73.759804,
          73.824799,
          73.604797,
          null,
          null,
          73.6036,
          73.935303,
          74.005501,
          73.839798,
          73.5578,
          null,
          null,
          73.689003,
          73.544899,
          73.654999,
          73.134003,
          73.089203,
          null,
          null,
          73.092003,
          73.091499,
          73.167999,
          73.374802,
          73.730003,
          null,
          null,
          73.373398,
          73.778999,
          73.414001,
          73.169998,
          73.089996,
          null,
          null,
          73.158997,
          73.189201,
          73.192001,
          72.907898,
          72.954903,
          null,
          null,
          72.995903,
          72.970001
         ],
         "type": "candlestick",
         "x": [
          "2020-01-27T00:00:00",
          "2020-01-28T00:00:00",
          "2020-01-29T00:00:00",
          "2020-01-30T00:00:00",
          "2020-01-31T00:00:00",
          "2020-02-01T00:00:00",
          "2020-02-02T00:00:00",
          "2020-02-03T00:00:00",
          "2020-02-04T00:00:00",
          "2020-02-05T00:00:00",
          "2020-02-06T00:00:00",
          "2020-02-07T00:00:00",
          "2020-02-08T00:00:00",
          "2020-02-09T00:00:00",
          "2020-02-10T00:00:00",
          "2020-02-11T00:00:00",
          "2020-02-12T00:00:00",
          "2020-02-13T00:00:00",
          "2020-02-14T00:00:00",
          "2020-02-15T00:00:00",
          "2020-02-16T00:00:00",
          "2020-02-17T00:00:00",
          "2020-02-18T00:00:00",
          "2020-02-19T00:00:00",
          "2020-02-20T00:00:00",
          "2020-02-21T00:00:00",
          "2020-02-22T00:00:00",
          "2020-02-23T00:00:00",
          "2020-02-24T00:00:00",
          "2020-02-25T00:00:00",
          "2020-02-26T00:00:00",
          "2020-02-27T00:00:00",
          "2020-02-28T00:00:00",
          "2020-02-29T00:00:00",
          "2020-03-01T00:00:00",
          "2020-03-02T00:00:00",
          "2020-03-03T00:00:00",
          "2020-03-04T00:00:00",
          "2020-03-05T00:00:00",
          "2020-03-06T00:00:00",
          "2020-03-07T00:00:00",
          "2020-03-08T00:00:00",
          "2020-03-09T00:00:00",
          "2020-03-10T00:00:00",
          "2020-03-11T00:00:00",
          "2020-03-12T00:00:00",
          "2020-03-13T00:00:00",
          "2020-03-14T00:00:00",
          "2020-03-15T00:00:00",
          "2020-03-16T00:00:00",
          "2020-03-17T00:00:00",
          "2020-03-18T00:00:00",
          "2020-03-19T00:00:00",
          "2020-03-20T00:00:00",
          "2020-03-21T00:00:00",
          "2020-03-22T00:00:00",
          "2020-03-23T00:00:00",
          "2020-03-24T00:00:00",
          "2020-03-25T00:00:00",
          "2020-03-26T00:00:00",
          "2020-03-27T00:00:00",
          "2020-03-28T00:00:00",
          "2020-03-29T00:00:00",
          "2020-03-30T00:00:00",
          "2020-03-31T00:00:00",
          "2020-04-01T00:00:00",
          "2020-04-02T00:00:00",
          "2020-04-03T00:00:00",
          "2020-04-04T00:00:00",
          "2020-04-05T00:00:00",
          "2020-04-06T00:00:00",
          "2020-04-07T00:00:00",
          "2020-04-08T00:00:00",
          "2020-04-09T00:00:00",
          "2020-04-10T00:00:00",
          "2020-04-11T00:00:00",
          "2020-04-12T00:00:00",
          "2020-04-13T00:00:00",
          "2020-04-14T00:00:00",
          "2020-04-15T00:00:00",
          "2020-04-16T00:00:00",
          "2020-04-17T00:00:00",
          "2020-04-18T00:00:00",
          "2020-04-19T00:00:00",
          "2020-04-20T00:00:00",
          "2020-04-21T00:00:00",
          "2020-04-22T00:00:00",
          "2020-04-23T00:00:00",
          "2020-04-24T00:00:00",
          "2020-04-25T00:00:00",
          "2020-04-26T00:00:00",
          "2020-04-27T00:00:00",
          "2020-04-28T00:00:00",
          "2020-04-29T00:00:00",
          "2020-04-30T00:00:00",
          "2020-05-01T00:00:00",
          "2020-05-02T00:00:00",
          "2020-05-03T00:00:00",
          "2020-05-04T00:00:00",
          "2020-05-05T00:00:00",
          "2020-05-06T00:00:00",
          "2020-05-07T00:00:00",
          "2020-05-08T00:00:00",
          "2020-05-09T00:00:00",
          "2020-05-10T00:00:00",
          "2020-05-11T00:00:00",
          "2020-05-12T00:00:00",
          "2020-05-13T00:00:00",
          "2020-05-14T00:00:00",
          "2020-05-15T00:00:00",
          "2020-05-16T00:00:00",
          "2020-05-17T00:00:00",
          "2020-05-18T00:00:00",
          "2020-05-19T00:00:00",
          "2020-05-20T00:00:00",
          "2020-05-21T00:00:00",
          "2020-05-22T00:00:00",
          "2020-05-23T00:00:00",
          "2020-05-24T00:00:00",
          "2020-05-25T00:00:00",
          "2020-05-26T00:00:00",
          "2020-05-27T00:00:00",
          "2020-05-28T00:00:00",
          "2020-05-29T00:00:00",
          "2020-05-30T00:00:00",
          "2020-05-31T00:00:00",
          "2020-06-01T00:00:00",
          "2020-06-02T00:00:00",
          "2020-06-03T00:00:00",
          "2020-06-04T00:00:00",
          "2020-06-05T00:00:00",
          "2020-06-06T00:00:00",
          "2020-06-07T00:00:00",
          "2020-06-08T00:00:00",
          "2020-06-09T00:00:00",
          "2020-06-10T00:00:00",
          "2020-06-11T00:00:00",
          "2020-06-12T00:00:00",
          "2020-06-13T00:00:00",
          "2020-06-14T00:00:00",
          "2020-06-15T00:00:00",
          "2020-06-16T00:00:00",
          "2020-06-17T00:00:00",
          "2020-06-18T00:00:00",
          "2020-06-19T00:00:00",
          "2020-06-20T00:00:00",
          "2020-06-21T00:00:00",
          "2020-06-22T00:00:00",
          "2020-06-23T00:00:00",
          "2020-06-24T00:00:00",
          "2020-06-25T00:00:00",
          "2020-06-26T00:00:00",
          "2020-06-27T00:00:00",
          "2020-06-28T00:00:00",
          "2020-06-29T00:00:00",
          "2020-06-30T00:00:00",
          "2020-07-01T00:00:00",
          "2020-07-02T00:00:00",
          "2020-07-03T00:00:00",
          "2020-07-04T00:00:00",
          "2020-07-05T00:00:00",
          "2020-07-06T00:00:00",
          "2020-07-07T00:00:00",
          "2020-07-08T00:00:00",
          "2020-07-09T00:00:00",
          "2020-07-10T00:00:00",
          "2020-07-11T00:00:00",
          "2020-07-12T00:00:00",
          "2020-07-13T00:00:00",
          "2020-07-14T00:00:00",
          "2020-07-15T00:00:00",
          "2020-07-16T00:00:00",
          "2020-07-17T00:00:00",
          "2020-07-18T00:00:00",
          "2020-07-19T00:00:00",
          "2020-07-20T00:00:00",
          "2020-07-21T00:00:00",
          "2020-07-22T00:00:00",
          "2020-07-23T00:00:00",
          "2020-07-24T00:00:00",
          "2020-07-25T00:00:00",
          "2020-07-26T00:00:00",
          "2020-07-27T00:00:00",
          "2020-07-28T00:00:00",
          "2020-07-29T00:00:00",
          "2020-07-30T00:00:00",
          "2020-07-31T00:00:00",
          "2020-08-01T00:00:00",
          "2020-08-02T00:00:00",
          "2020-08-03T00:00:00",
          "2020-08-04T00:00:00",
          "2020-08-05T00:00:00",
          "2020-08-06T00:00:00",
          "2020-08-07T00:00:00",
          "2020-08-08T00:00:00",
          "2020-08-09T00:00:00",
          "2020-08-10T00:00:00",
          "2020-08-11T00:00:00",
          "2020-08-12T00:00:00",
          "2020-08-13T00:00:00",
          "2020-08-14T00:00:00",
          "2020-08-15T00:00:00",
          "2020-08-16T00:00:00",
          "2020-08-17T00:00:00",
          "2020-08-18T00:00:00",
          "2020-08-19T00:00:00",
          "2020-08-20T00:00:00",
          "2020-08-21T00:00:00",
          "2020-08-22T00:00:00",
          "2020-08-23T00:00:00",
          "2020-08-24T00:00:00",
          "2020-08-25T00:00:00",
          "2020-08-26T00:00:00",
          "2020-08-27T00:00:00",
          "2020-08-28T00:00:00",
          "2020-08-29T00:00:00",
          "2020-08-30T00:00:00",
          "2020-08-31T00:00:00",
          "2020-09-01T00:00:00",
          "2020-09-02T00:00:00",
          "2020-09-03T00:00:00",
          "2020-09-04T00:00:00",
          "2020-09-05T00:00:00",
          "2020-09-06T00:00:00",
          "2020-09-07T00:00:00",
          "2020-09-08T00:00:00",
          "2020-09-09T00:00:00",
          "2020-09-10T00:00:00",
          "2020-09-11T00:00:00",
          "2020-09-12T00:00:00",
          "2020-09-13T00:00:00",
          "2020-09-14T00:00:00",
          "2020-09-15T00:00:00",
          "2020-09-16T00:00:00",
          "2020-09-17T00:00:00",
          "2020-09-18T00:00:00",
          "2020-09-19T00:00:00",
          "2020-09-20T00:00:00",
          "2020-09-21T00:00:00",
          "2020-09-22T00:00:00",
          "2020-09-23T00:00:00",
          "2020-09-24T00:00:00",
          "2020-09-25T00:00:00",
          "2020-09-26T00:00:00",
          "2020-09-27T00:00:00",
          "2020-09-28T00:00:00",
          "2020-09-29T00:00:00",
          "2020-09-30T00:00:00",
          "2020-10-01T00:00:00",
          "2020-10-02T00:00:00",
          "2020-10-03T00:00:00",
          "2020-10-04T00:00:00",
          "2020-10-05T00:00:00",
          "2020-10-06T00:00:00",
          "2020-10-07T00:00:00",
          "2020-10-08T00:00:00",
          "2020-10-09T00:00:00",
          "2020-10-10T00:00:00",
          "2020-10-11T00:00:00",
          "2020-10-12T00:00:00",
          "2020-10-13T00:00:00",
          "2020-10-14T00:00:00",
          "2020-10-15T00:00:00",
          "2020-10-16T00:00:00",
          "2020-10-17T00:00:00",
          "2020-10-18T00:00:00",
          "2020-10-19T00:00:00",
          "2020-10-20T00:00:00",
          "2020-10-21T00:00:00",
          "2020-10-22T00:00:00",
          "2020-10-23T00:00:00",
          "2020-10-24T00:00:00",
          "2020-10-25T00:00:00",
          "2020-10-26T00:00:00",
          "2020-10-27T00:00:00",
          "2020-10-28T00:00:00",
          "2020-10-29T00:00:00",
          "2020-10-30T00:00:00",
          "2020-10-31T00:00:00",
          "2020-11-01T00:00:00",
          "2020-11-02T00:00:00",
          "2020-11-03T00:00:00",
          "2020-11-04T00:00:00",
          "2020-11-05T00:00:00",
          "2020-11-06T00:00:00",
          "2020-11-07T00:00:00",
          "2020-11-08T00:00:00",
          "2020-11-09T00:00:00",
          "2020-11-10T00:00:00",
          "2020-11-11T00:00:00",
          "2020-11-12T00:00:00",
          "2020-11-13T00:00:00",
          "2020-11-14T00:00:00",
          "2020-11-15T00:00:00",
          "2020-11-16T00:00:00",
          "2020-11-17T00:00:00",
          "2020-11-18T00:00:00",
          "2020-11-19T00:00:00",
          "2020-11-20T00:00:00",
          "2020-11-21T00:00:00",
          "2020-11-22T00:00:00",
          "2020-11-23T00:00:00",
          "2020-11-24T00:00:00",
          "2020-11-25T00:00:00",
          "2020-11-26T00:00:00",
          "2020-11-27T00:00:00",
          "2020-11-28T00:00:00",
          "2020-11-29T00:00:00",
          "2020-11-30T00:00:00",
          "2020-12-01T00:00:00",
          "2020-12-02T00:00:00",
          "2020-12-03T00:00:00",
          "2020-12-04T00:00:00",
          "2020-12-05T00:00:00",
          "2020-12-06T00:00:00",
          "2020-12-07T00:00:00",
          "2020-12-08T00:00:00",
          "2020-12-09T00:00:00",
          "2020-12-10T00:00:00",
          "2020-12-11T00:00:00",
          "2020-12-12T00:00:00",
          "2020-12-13T00:00:00",
          "2020-12-14T00:00:00",
          "2020-12-15T00:00:00",
          "2020-12-16T00:00:00",
          "2020-12-17T00:00:00",
          "2020-12-18T00:00:00",
          "2020-12-19T00:00:00",
          "2020-12-20T00:00:00",
          "2020-12-21T00:00:00",
          "2020-12-22T00:00:00",
          "2020-12-23T00:00:00",
          "2020-12-24T00:00:00",
          "2020-12-25T00:00:00",
          "2020-12-26T00:00:00",
          "2020-12-27T00:00:00",
          "2020-12-28T00:00:00",
          "2020-12-29T00:00:00",
          "2020-12-30T00:00:00",
          "2020-12-31T00:00:00",
          "2021-01-01T00:00:00",
          "2021-01-02T00:00:00",
          "2021-01-03T00:00:00",
          "2021-01-04T00:00:00",
          "2021-01-05T00:00:00",
          "2021-01-06T00:00:00",
          "2021-01-07T00:00:00",
          "2021-01-08T00:00:00",
          "2021-01-09T00:00:00",
          "2021-01-10T00:00:00",
          "2021-01-11T00:00:00",
          "2021-01-12T00:00:00",
          "2021-01-13T00:00:00",
          "2021-01-14T00:00:00",
          "2021-01-15T00:00:00",
          "2021-01-16T00:00:00",
          "2021-01-17T00:00:00",
          "2021-01-18T00:00:00",
          "2021-01-19T00:00:00",
          "2021-01-20T00:00:00",
          "2021-01-21T00:00:00",
          "2021-01-22T00:00:00",
          "2021-01-23T00:00:00",
          "2021-01-24T00:00:00",
          "2021-01-25T00:00:00",
          "2021-01-26T00:00:00"
         ]
        }
       ],
       "layout": {
        "autosize": true,
        "template": {
         "data": {
          "bar": [
           {
            "error_x": {
             "color": "#2a3f5f"
            },
            "error_y": {
             "color": "#2a3f5f"
            },
            "marker": {
             "line": {
              "color": "#E5ECF6",
              "width": 0.5
             },
             "pattern": {
              "fillmode": "overlay",
              "size": 10,
              "solidity": 0.2
             }
            },
            "type": "bar"
           }
          ],
          "barpolar": [
           {
            "marker": {
             "line": {
              "color": "#E5ECF6",
              "width": 0.5
             },
             "pattern": {
              "fillmode": "overlay",
              "size": 10,
              "solidity": 0.2
             }
            },
            "type": "barpolar"
           }
          ],
          "carpet": [
           {
            "aaxis": {
             "endlinecolor": "#2a3f5f",
             "gridcolor": "white",
             "linecolor": "white",
             "minorgridcolor": "white",
             "startlinecolor": "#2a3f5f"
            },
            "baxis": {
             "endlinecolor": "#2a3f5f",
             "gridcolor": "white",
             "linecolor": "white",
             "minorgridcolor": "white",
             "startlinecolor": "#2a3f5f"
            },
            "type": "carpet"
           }
          ],
          "choropleth": [
           {
            "colorbar": {
             "outlinewidth": 0,
             "ticks": ""
            },
            "type": "choropleth"
           }
          ],
          "contour": [
           {
            "colorbar": {
             "outlinewidth": 0,
             "ticks": ""
            },
            "colorscale": [
             [
              0,
              "#0d0887"
             ],
             [
              0.1111111111111111,
              "#46039f"
             ],
             [
              0.2222222222222222,
              "#7201a8"
             ],
             [
              0.3333333333333333,
              "#9c179e"
             ],
             [
              0.4444444444444444,
              "#bd3786"
             ],
             [
              0.5555555555555556,
              "#d8576b"
             ],
             [
              0.6666666666666666,
              "#ed7953"
             ],
             [
              0.7777777777777778,
              "#fb9f3a"
             ],
             [
              0.8888888888888888,
              "#fdca26"
             ],
             [
              1,
              "#f0f921"
             ]
            ],
            "type": "contour"
           }
          ],
          "contourcarpet": [
           {
            "colorbar": {
             "outlinewidth": 0,
             "ticks": ""
            },
            "type": "contourcarpet"
           }
          ],
          "heatmap": [
           {
            "colorbar": {
             "outlinewidth": 0,
             "ticks": ""
            },
            "colorscale": [
             [
              0,
              "#0d0887"
             ],
             [
              0.1111111111111111,
              "#46039f"
             ],
             [
              0.2222222222222222,
              "#7201a8"
             ],
             [
              0.3333333333333333,
              "#9c179e"
             ],
             [
              0.4444444444444444,
              "#bd3786"
             ],
             [
              0.5555555555555556,
              "#d8576b"
             ],
             [
              0.6666666666666666,
              "#ed7953"
             ],
             [
              0.7777777777777778,
              "#fb9f3a"
             ],
             [
              0.8888888888888888,
              "#fdca26"
             ],
             [
              1,
              "#f0f921"
             ]
            ],
            "type": "heatmap"
           }
          ],
          "heatmapgl": [
           {
            "colorbar": {
             "outlinewidth": 0,
             "ticks": ""
            },
            "colorscale": [
             [
              0,
              "#0d0887"
             ],
             [
              0.1111111111111111,
              "#46039f"
             ],
             [
              0.2222222222222222,
              "#7201a8"
             ],
             [
              0.3333333333333333,
              "#9c179e"
             ],
             [
              0.4444444444444444,
              "#bd3786"
             ],
             [
              0.5555555555555556,
              "#d8576b"
             ],
             [
              0.6666666666666666,
              "#ed7953"
             ],
             [
              0.7777777777777778,
              "#fb9f3a"
             ],
             [
              0.8888888888888888,
              "#fdca26"
             ],
             [
              1,
              "#f0f921"
             ]
            ],
            "type": "heatmapgl"
           }
          ],
          "histogram": [
           {
            "marker": {
             "pattern": {
              "fillmode": "overlay",
              "size": 10,
              "solidity": 0.2
             }
            },
            "type": "histogram"
           }
          ],
          "histogram2d": [
           {
            "colorbar": {
             "outlinewidth": 0,
             "ticks": ""
            },
            "colorscale": [
             [
              0,
              "#0d0887"
             ],
             [
              0.1111111111111111,
              "#46039f"
             ],
             [
              0.2222222222222222,
              "#7201a8"
             ],
             [
              0.3333333333333333,
              "#9c179e"
             ],
             [
              0.4444444444444444,
              "#bd3786"
             ],
             [
              0.5555555555555556,
              "#d8576b"
             ],
             [
              0.6666666666666666,
              "#ed7953"
             ],
             [
              0.7777777777777778,
              "#fb9f3a"
             ],
             [
              0.8888888888888888,
              "#fdca26"
             ],
             [
              1,
              "#f0f921"
             ]
            ],
            "type": "histogram2d"
           }
          ],
          "histogram2dcontour": [
           {
            "colorbar": {
             "outlinewidth": 0,
             "ticks": ""
            },
            "colorscale": [
             [
              0,
              "#0d0887"
             ],
             [
              0.1111111111111111,
              "#46039f"
             ],
             [
              0.2222222222222222,
              "#7201a8"
             ],
             [
              0.3333333333333333,
              "#9c179e"
             ],
             [
              0.4444444444444444,
              "#bd3786"
             ],
             [
              0.5555555555555556,
              "#d8576b"
             ],
             [
              0.6666666666666666,
              "#ed7953"
             ],
             [
              0.7777777777777778,
              "#fb9f3a"
             ],
             [
              0.8888888888888888,
              "#fdca26"
             ],
             [
              1,
              "#f0f921"
             ]
            ],
            "type": "histogram2dcontour"
           }
          ],
          "mesh3d": [
           {
            "colorbar": {
             "outlinewidth": 0,
             "ticks": ""
            },
            "type": "mesh3d"
           }
          ],
          "parcoords": [
           {
            "line": {
             "colorbar": {
              "outlinewidth": 0,
              "ticks": ""
             }
            },
            "type": "parcoords"
           }
          ],
          "pie": [
           {
            "automargin": true,
            "type": "pie"
           }
          ],
          "scatter": [
           {
            "fillpattern": {
             "fillmode": "overlay",
             "size": 10,
             "solidity": 0.2
            },
            "type": "scatter"
           }
          ],
          "scatter3d": [
           {
            "line": {
             "colorbar": {
              "outlinewidth": 0,
              "ticks": ""
             }
            },
            "marker": {
             "colorbar": {
              "outlinewidth": 0,
              "ticks": ""
             }
            },
            "type": "scatter3d"
           }
          ],
          "scattercarpet": [
           {
            "marker": {
             "colorbar": {
              "outlinewidth": 0,
              "ticks": ""
             }
            },
            "type": "scattercarpet"
           }
          ],
          "scattergeo": [
           {
            "marker": {
             "colorbar": {
              "outlinewidth": 0,
              "ticks": ""
             }
            },
            "type": "scattergeo"
           }
          ],
          "scattergl": [
           {
            "marker": {
             "colorbar": {
              "outlinewidth": 0,
              "ticks": ""
             }
            },
            "type": "scattergl"
           }
          ],
          "scattermapbox": [
           {
            "marker": {
             "colorbar": {
              "outlinewidth": 0,
              "ticks": ""
             }
            },
            "type": "scattermapbox"
           }
          ],
          "scatterpolar": [
           {
            "marker": {
             "colorbar": {
              "outlinewidth": 0,
              "ticks": ""
             }
            },
            "type": "scatterpolar"
           }
          ],
          "scatterpolargl": [
           {
            "marker": {
             "colorbar": {
              "outlinewidth": 0,
              "ticks": ""
             }
            },
            "type": "scatterpolargl"
           }
          ],
          "scatterternary": [
           {
            "marker": {
             "colorbar": {
              "outlinewidth": 0,
              "ticks": ""
             }
            },
            "type": "scatterternary"
           }
          ],
          "surface": [
           {
            "colorbar": {
             "outlinewidth": 0,
             "ticks": ""
            },
            "colorscale": [
             [
              0,
              "#0d0887"
             ],
             [
              0.1111111111111111,
              "#46039f"
             ],
             [
              0.2222222222222222,
              "#7201a8"
             ],
             [
              0.3333333333333333,
              "#9c179e"
             ],
             [
              0.4444444444444444,
              "#bd3786"
             ],
             [
              0.5555555555555556,
              "#d8576b"
             ],
             [
              0.6666666666666666,
              "#ed7953"
             ],
             [
              0.7777777777777778,
              "#fb9f3a"
             ],
             [
              0.8888888888888888,
              "#fdca26"
             ],
             [
              1,
              "#f0f921"
             ]
            ],
            "type": "surface"
           }
          ],
          "table": [
           {
            "cells": {
             "fill": {
              "color": "#EBF0F8"
             },
             "line": {
              "color": "white"
             }
            },
            "header": {
             "fill": {
              "color": "#C8D4E3"
             },
             "line": {
              "color": "white"
             }
            },
            "type": "table"
           }
          ]
         },
         "layout": {
          "annotationdefaults": {
           "arrowcolor": "#2a3f5f",
           "arrowhead": 0,
           "arrowwidth": 1
          },
          "autotypenumbers": "strict",
          "coloraxis": {
           "colorbar": {
            "outlinewidth": 0,
            "ticks": ""
           }
          },
          "colorscale": {
           "diverging": [
            [
             0,
             "#8e0152"
            ],
            [
             0.1,
             "#c51b7d"
            ],
            [
             0.2,
             "#de77ae"
            ],
            [
             0.3,
             "#f1b6da"
            ],
            [
             0.4,
             "#fde0ef"
            ],
            [
             0.5,
             "#f7f7f7"
            ],
            [
             0.6,
             "#e6f5d0"
            ],
            [
             0.7,
             "#b8e186"
            ],
            [
             0.8,
             "#7fbc41"
            ],
            [
             0.9,
             "#4d9221"
            ],
            [
             1,
             "#276419"
            ]
           ],
           "sequential": [
            [
             0,
             "#0d0887"
            ],
            [
             0.1111111111111111,
             "#46039f"
            ],
            [
             0.2222222222222222,
             "#7201a8"
            ],
            [
             0.3333333333333333,
             "#9c179e"
            ],
            [
             0.4444444444444444,
             "#bd3786"
            ],
            [
             0.5555555555555556,
             "#d8576b"
            ],
            [
             0.6666666666666666,
             "#ed7953"
            ],
            [
             0.7777777777777778,
             "#fb9f3a"
            ],
            [
             0.8888888888888888,
             "#fdca26"
            ],
            [
             1,
             "#f0f921"
            ]
           ],
           "sequentialminus": [
            [
             0,
             "#0d0887"
            ],
            [
             0.1111111111111111,
             "#46039f"
            ],
            [
             0.2222222222222222,
             "#7201a8"
            ],
            [
             0.3333333333333333,
             "#9c179e"
            ],
            [
             0.4444444444444444,
             "#bd3786"
            ],
            [
             0.5555555555555556,
             "#d8576b"
            ],
            [
             0.6666666666666666,
             "#ed7953"
            ],
            [
             0.7777777777777778,
             "#fb9f3a"
            ],
            [
             0.8888888888888888,
             "#fdca26"
            ],
            [
             1,
             "#f0f921"
            ]
           ]
          },
          "colorway": [
           "#636efa",
           "#EF553B",
           "#00cc96",
           "#ab63fa",
           "#FFA15A",
           "#19d3f3",
           "#FF6692",
           "#B6E880",
           "#FF97FF",
           "#FECB52"
          ],
          "font": {
           "color": "#2a3f5f"
          },
          "geo": {
           "bgcolor": "white",
           "lakecolor": "white",
           "landcolor": "#E5ECF6",
           "showlakes": true,
           "showland": true,
           "subunitcolor": "white"
          },
          "hoverlabel": {
           "align": "left"
          },
          "hovermode": "closest",
          "mapbox": {
           "style": "light"
          },
          "paper_bgcolor": "white",
          "plot_bgcolor": "#E5ECF6",
          "polar": {
           "angularaxis": {
            "gridcolor": "white",
            "linecolor": "white",
            "ticks": ""
           },
           "bgcolor": "#E5ECF6",
           "radialaxis": {
            "gridcolor": "white",
            "linecolor": "white",
            "ticks": ""
           }
          },
          "scene": {
           "xaxis": {
            "backgroundcolor": "#E5ECF6",
            "gridcolor": "white",
            "gridwidth": 2,
            "linecolor": "white",
            "showbackground": true,
            "ticks": "",
            "zerolinecolor": "white"
           },
           "yaxis": {
            "backgroundcolor": "#E5ECF6",
            "gridcolor": "white",
            "gridwidth": 2,
            "linecolor": "white",
            "showbackground": true,
            "ticks": "",
            "zerolinecolor": "white"
           },
           "zaxis": {
            "backgroundcolor": "#E5ECF6",
            "gridcolor": "white",
            "gridwidth": 2,
            "linecolor": "white",
            "showbackground": true,
            "ticks": "",
            "zerolinecolor": "white"
           }
          },
          "shapedefaults": {
           "line": {
            "color": "#2a3f5f"
           }
          },
          "ternary": {
           "aaxis": {
            "gridcolor": "white",
            "linecolor": "white",
            "ticks": ""
           },
           "baxis": {
            "gridcolor": "white",
            "linecolor": "white",
            "ticks": ""
           },
           "bgcolor": "#E5ECF6",
           "caxis": {
            "gridcolor": "white",
            "linecolor": "white",
            "ticks": ""
           }
          },
          "title": {
           "x": 0.05
          },
          "xaxis": {
           "automargin": true,
           "gridcolor": "white",
           "linecolor": "white",
           "ticks": "",
           "title": {
            "standoff": 15
           },
           "zerolinecolor": "white",
           "zerolinewidth": 2
          },
          "yaxis": {
           "automargin": true,
           "gridcolor": "white",
           "linecolor": "white",
           "ticks": "",
           "title": {
            "standoff": 15
           },
           "zerolinecolor": "white",
           "zerolinewidth": 2
          }
         }
        },
        "title": {
         "text": "Stock Price Analysis"
        },
        "xaxis": {
         "autorange": true,
         "range": [
          "2020-01-26 12:00",
          "2021-01-26 12:00"
         ],
         "rangeslider": {
          "visible": false,
          "yaxis": {}
         },
         "type": "date"
        },
        "yaxis": {
         "autorange": true,
         "range": [
          70.69228111111111,
          78.12671888888889
         ]
        }
       }
      },
      "image/png": "[encoded data removed]",
      "text/html": [
       "<div>                            <div id=\"45dc116a-9f1e-4e65-915e-7e7620c19af1\" class=\"plotly-graph-div\" style=\"height:525px; width:100%;\"></div>            <script type=\"text/javascript\">                require([\"plotly\"], function(Plotly) {                    window.PLOTLYENV=window.PLOTLYENV || {};                                    if (document.getElementById(\"45dc116a-9f1e-4e65-915e-7e7620c19af1\")) {                    Plotly.newPlot(                        \"45dc116a-9f1e-4e65-915e-7e7620c19af1\",                        [{\"close\":[71.324997,71.440002,71.2304,71.300003,71.639999,null,null,71.496498,71.314102,71.099998,71.18,71.470001,null,null,71.515503,71.279999,71.275299,71.296204,71.268501,null,null,71.514801,71.349197,71.574997,71.827499,72.110001,null,null,71.886803,72.0467,71.870003,71.663399,71.93,null,null,72.150002,72.824997,73.342003,74.042503,73.855103,null,null,73.9953,74.405998,74.205002,74.760002,75.300003,null,null,73.903999,75.154999,74.012398,74.982002,75.159698,null,null,75.622101,76.505997,77.260002,75.845497,74.725601,null,null,75.464996,75.400002,75.324997,77.57,77.139999,null,null,76.230003,75.964897,76.660004,75.959,76.650002,null,null,76.166496,76.910004,75.931,77.212502,77.57,null,null,76.559998,77.209999,76.969398,76.400002,76.422501,null,null,76.2715,76.186302,76.464996,75.258499,75.720001,null,null,75.600502,75.849998,76.169998,76.151299,76.080002,null,null,75.525002,76.309998,75.68,75.426201,75.485001,null,null,75.82,75.600098,76.0,75.779999,75.625,null,null,75.985001,76.110001,75.82,76.129997,75.959999,null,null,75.513199,75.730003,75.065804,75.544998,75.490898,null,null,75.5177,75.625,75.509804,75.875,76.389999,null,null,75.956802,75.977997,76.654999,76.550003,76.400398,null,null,76.252098,75.789803,75.607803,75.970001,75.539803,null,null,75.619797,75.699997,75.75,75.454903,74.721001,null,null,74.679298,74.607597,75.125,74.939903,75.339996,null,null,75.158501,75.449997,75.574997,75.124901,75.1745,null,null,74.897301,74.989998,74.769997,74.82,74.807297,null,null,74.759804,75.0,75.089996,74.8312,74.989998,null,null,74.917801,75.330002,75.25,74.882202,74.899803,null,null,75.024803,75.099998,74.900002,74.772102,75.029999,null,null,74.902802,75.0,74.794998,74.966797,74.999901,null,null,74.921799,74.400002,74.452499,74.240097,73.774498,null,null,73.128304,73.669998,73.269997,73.248497,73.447899,null,null,73.290298,73.650002,73.786797,73.550003,73.527298,null,null,73.4786,73.614998,73.800003,73.550697,73.583603,null,null,73.534798,73.579803,73.502998,73.778397,73.682404,null,null,73.699303,73.974998,73.845001,73.705002,73.217003,null,null,73.322403,73.108299,73.815002,73.542503,73.280502,null,null,73.014801,73.3508,73.620003,73.296204,73.371002,null,null,73.443802,73.574997,73.647499,73.681297,73.720001,null,null,73.822899,73.948502,73.805,74.440002,74.264,null,null,74.550499,74.456802,74.655602,74.379997,74.120003,null,null,73.979797,73.953201,74.281601,74.57,74.864998,null,null,74.487701,74.418098,74.479698,74.419998,74.099602,null,null,74.162399,74.244904,73.9608,73.7799,74.048798,null,null,73.940903,74.0252,73.654999,73.662598,73.864899,null,null,73.790298,74.019997,73.726402,73.934998,73.7267,null,null,73.737999,73.860001,73.759804,73.6166,73.5298,null,null,73.6036,73.935303,74.269997,73.839798,73.5578,null,null,73.689003,73.544899,73.453598,73.134003,73.089203,null,null,73.092003,73.32,73.374802,73.360001,73.445999,null,null,73.373398,73.513496,73.165001,73.169899,73.087601,null,null,73.158997,73.188698,73.191902,72.910896,72.954903,null,null,72.995903,72.970001],\"high\":[71.635002,71.654999,71.425003,71.711998,71.639999,null,null,71.699997,71.514999,71.279999,71.397499,71.570999,null,null,71.508003,71.470001,71.474998,71.491898,71.596001,null,null,71.5177,71.613503,71.815002,71.919502,72.110001,null,null,72.355003,72.294998,72.137497,71.952499,72.815002,null,null,73.387497,73.599998,74.037498,74.080002,74.440002,null,null,75.0625,75.144997,74.404999,75.379997,75.434998,null,null,75.122498,75.154999,74.989502,75.571999,76.230003,null,null,77.754997,77.75,77.474998,77.095001,76.25,null,null,76.379997,76.482498,77.377602,77.57,77.504997,null,null,77.379997,77.114998,77.199997,77.199997,76.68,null,null,76.952499,76.962502,76.709503,77.510002,77.57,null,null,77.315002,77.614998,77.684998,76.995003,76.800003,null,null,76.785004,76.654999,76.464996,75.75,76.144997,null,null,75.805,76.115799,76.169998,76.550003,76.080002,null,null,76.260002,76.309998,75.68,75.730003,76.185501,null,null,76.092003,76.040001,76.0,75.919998,76.209503,null,null,76.129501,76.110001,76.0,76.129997,75.959999,null,null,75.769997,75.730003,75.684998,75.635002,75.792503,null,null,75.739998,75.691002,75.7799,76.196999,76.389999,null,null,76.220001,76.283798,76.654999,76.550003,76.635002,null,null,76.453499,76.119797,75.839996,75.970001,75.745003,null,null,75.6418,75.699997,75.75,75.677498,74.989998,null,null,74.807999,74.962997,75.125,75.1567,75.355003,null,null,75.434998,75.510498,75.574997,75.349998,75.419998,null,null,75.150002,74.994003,74.833099,74.925598,75.099998,null,null,74.983498,75.0,75.089996,75.019997,74.989998,null,null,75.298401,75.364998,75.25,75.099998,75.1092,null,null,75.246002,75.099998,74.924004,74.997498,75.029999,null,null,75.080002,75.0,75.057503,75.199997,75.190002,null,null,74.921799,74.639297,74.452499,74.459999,73.970001,null,null,73.885002,73.669998,73.370003,73.711304,73.669998,null,null,73.506798,73.957802,74.050003,73.550003,73.75,null,null,73.7024,73.723,73.800003,73.788101,73.779999,null,null,73.649597,73.650002,73.800003,74.222,73.910004,null,null,73.870003,73.974998,73.856499,73.705002,73.532997,null,null,73.398003,73.488998,73.815002,73.546501,73.497299,null,null,73.4132,73.504997,73.620003,73.5187,73.57,null,null,73.595001,73.574997,73.784203,73.884003,73.8853,null,null,74.114304,74.137497,74.251999,74.524696,74.702003,null,null,74.707603,74.684799,75.000999,74.407303,74.278503,null,null,74.167999,74.465797,74.537903,74.759003,74.887299,null,null,74.589798,74.608902,74.704803,74.442299,74.339203,null,null,74.406303,74.249001,74.169998,74.070503,74.268501,null,null,74.198502,74.172897,73.813797,73.953201,74.087303,null,null,73.947998,74.0373,73.939796,73.934998,73.922501,null,null,73.780998,73.900299,73.795998,73.824799,73.754799,null,null,74.092003,74.202301,74.269997,74.099998,73.800003,null,null,73.734802,73.767303,73.664803,73.349998,73.319801,null,null,73.200996,73.329803,73.360001,73.467003,73.739799,null,null,73.584198,73.778999,73.414001,73.353996,73.378098,null,null,73.419998,73.307999,73.192299,73.045303,73.237503,null,null,73.220001,73.222],\"low\":[71.32,71.178001,71.168503,71.300003,71.277496,null,null,71.265503,71.084999,71.099899,71.121002,71.177498,null,null,71.259003,71.171501,71.064003,71.235802,71.256401,null,null,71.268997,71.330002,71.420998,71.547401,71.669998,null,null,71.766998,71.593002,71.525597,71.535004,71.627502,null,null,71.952499,72.342499,72.894997,73.050003,73.496498,null,null,73.862503,73.735497,73.404503,73.994499,73.699501,null,null,73.7575,73.580002,73.705002,74.411003,74.154999,null,null,75.275002,75.012497,75.849998,74.769501,73.989998,null,null,74.989998,75.134499,75.324997,76.010002,75.75,null,null,75.904503,75.251999,75.572502,75.747498,75.807503,null,null,75.9925,75.939499,75.921303,76.472,76.247002,null,null,76.311302,76.4963,76.384499,75.672501,75.839996,null,null,75.887497,75.790398,75.412003,74.805,75.072998,null,null,75.352501,75.379997,75.590302,75.709503,75.260002,null,null,75.039497,75.041298,75.043999,75.341003,75.319298,null,null,75.612396,75.527496,75.462997,75.416,75.610001,null,null,75.7575,75.404999,75.381302,75.634499,75.4263,null,null,75.235497,74.982803,74.914398,75.281898,75.309402,null,null,75.388802,75.391899,75.3769,75.5,75.767502,null,null,75.894997,75.745003,76.094498,76.001503,76.105499,null,null,75.738503,75.472,75.466003,75.519798,75.430496,null,null,75.4319,75.388496,75.474998,74.607498,74.544502,null,null,74.430298,74.540298,74.8125,74.847801,75.056702,null,null,75.070503,75.2118,75.043297,75.085999,74.916,null,null,74.747002,74.507401,74.4646,74.572304,74.6847,null,null,74.513496,74.648499,74.683998,74.750504,74.613503,null,null,74.835999,74.973,74.771301,74.768997,74.875999,null,null,74.856003,74.515999,74.619797,74.744003,74.7285,null,null,74.662399,74.570297,74.575302,74.847198,74.822998,null,null,73.925301,74.046997,74.185997,73.763901,73.095802,null,null,73.0345,72.718498,72.889297,72.893501,73.010803,null,null,73.018997,73.392998,73.082497,73.012001,73.363998,null,null,73.244003,73.288498,73.463799,73.398003,73.172997,null,null,73.278,73.388,73.438004,73.563004,73.561501,null,null,73.519302,73.603996,73.524399,73.027,73.139999,null,null,73.047096,73.043999,73.080002,73.194,72.976997,null,null,72.933998,73.245598,73.2052,73.202003,73.272697,null,null,73.283997,73.294998,73.359001,73.472801,73.473,null,null,73.690002,73.613998,73.642998,73.932999,74.031998,null,null,74.274002,74.245003,74.278801,73.845802,73.863998,null,null,73.643097,73.877998,74.108002,74.365997,74.466103,null,null,74.379303,74.326797,74.035202,74.119797,74.072998,null,null,74.002998,73.884399,73.748802,73.738899,73.746201,null,null,73.879097,73.464996,73.398003,73.630402,73.659698,null,null,73.631798,73.542,73.530998,73.624001,73.536499,null,null,73.470001,73.502197,73.458603,73.384697,73.471001,null,null,73.512802,73.786697,73.6464,73.450798,73.550003,null,null,73.4562,73.287201,73.101601,72.946602,73.025002,null,null,72.7985,72.963501,73.040001,73.063004,73.196198,null,null,73.340302,73.202003,73.062798,72.939003,73.002502,null,null,73.123001,73.098999,72.8993,72.883003,72.929001,null,null,72.877998,72.774498],\"open\":[71.32,71.654999,71.230103,71.300003,71.639999,null,null,71.544998,71.314102,71.100403,71.181,71.470001,null,null,71.504997,71.470001,71.275497,71.296501,71.268501,null,null,71.5177,71.349297,71.790001,71.632896,72.110001,null,null,71.870003,72.0467,71.870003,71.663399,71.93,null,null,72.528999,72.4235,73.342003,74.042503,73.855103,null,null,73.9953,75.144997,74.205002,74.760002,74.436096,null,null,73.830002,75.154999,74.012398,74.982002,76.120003,null,null,75.388496,76.505997,77.260002,77.095001,74.725601,null,null,75.464996,75.400101,76.110001,76.585503,77.139999,null,null,76.230003,75.964897,76.660004,75.959,76.650002,null,null,76.166496,76.910004,75.931,76.500099,76.858902,null,null,76.559998,76.5924,77.684998,76.995003,76.422501,null,null,76.2715,76.654999,76.464996,75.610001,75.720001,null,null,75.591003,75.629997,76.169998,76.550003,76.080002,null,null,75.525002,75.927597,75.3685,75.4272,75.485001,null,null,75.82,75.599998,75.699997,75.779999,75.625,null,null,75.985001,75.873596,75.489502,75.885696,75.959999,null,null,75.513199,75.730003,75.275002,75.327698,75.4832,null,null,75.5177,75.399803,75.509697,75.875,76.389999,null,null,75.956902,76.097504,76.403702,76.289803,76.483101,null,null,76.257301,76.0,75.839996,75.970001,75.542,null,null,75.619797,75.518799,75.556999,75.677498,74.875,null,null,74.679298,74.607498,75.125,74.920998,75.339996,null,null,75.194298,75.449997,75.574997,75.124901,75.419998,null,null,74.8974,74.989998,74.769997,74.82,75.044998,null,null,74.725601,75.0,75.089996,74.8312,74.783798,null,null,74.9179,75.330002,75.25,75.099998,74.899803,null,null,75.026901,75.099998,74.900002,74.997498,75.029999,null,null,74.902802,75.0,74.794998,75.18,75.190002,null,null,74.921799,74.400002,74.452499,74.459999,73.970001,null,null,73.128403,73.669998,73.269997,73.459999,73.667503,null,null,73.290298,73.650002,73.786797,73.550003,73.75,null,null,73.478699,73.384003,73.6101,73.764999,73.779999,null,null,73.534798,73.579803,73.502899,74.010002,73.910004,null,null,73.699402,73.764801,73.654999,73.705002,73.419998,null,null,73.322502,73.115799,73.815002,73.542503,73.280502,null,null,73.0149,73.3508,73.418297,73.4925,73.57,null,null,73.443802,73.3937,73.479698,73.724998,73.720001,null,null,73.834,74.137497,73.814903,74.440002,74.264,null,null,74.707298,74.456802,74.849998,74.190498,74.120003,null,null,73.9758,74.139999,74.472504,74.624802,74.6717,null,null,74.589798,74.550003,74.480103,74.419998,74.099602,null,null,74.119797,74.244499,73.9608,73.7799,74.048798,null,null,73.935303,74.0252,73.6698,73.662598,73.939003,null,null,73.790298,73.809898,73.832298,73.817299,73.7267,null,null,73.737999,73.860001,73.759804,73.824799,73.604797,null,null,73.6036,73.935303,74.005501,73.839798,73.5578,null,null,73.689003,73.544899,73.654999,73.134003,73.089203,null,null,73.092003,73.091499,73.167999,73.374802,73.730003,null,null,73.373398,73.778999,73.414001,73.169998,73.089996,null,null,73.158997,73.189201,73.192001,72.907898,72.954903,null,null,72.995903,72.970001],\"x\":[\"2020-01-27T00:00:00\",\"2020-01-28T00:00:00\",\"2020-01-29T00:00:00\",\"2020-01-30T00:00:00\",\"2020-01-31T00:00:00\",\"2020-02-01T00:00:00\",\"2020-02-02T00:00:00\",\"2020-02-03T00:00:00\",\"2020-02-04T00:00:00\",\"2020-02-05T00:00:00\",\"2020-02-06T00:00:00\",\"2020-02-07T00:00:00\",\"2020-02-08T00:00:00\",\"2020-02-09T00:00:00\",\"2020-02-10T00:00:00\",\"2020-02-11T00:00:00\",\"2020-02-12T00:00:00\",\"2020-02-13T00:00:00\",\"2020-02-14T00:00:00\",\"2020-02-15T00:00:00\",\"2020-02-16T00:00:00\",\"2020-02-17T00:00:00\",\"2020-02-18T00:00:00\",\"2020-02-19T00:00:00\",\"2020-02-20T00:00:00\",\"2020-02-21T00:00:00\",\"2020-02-22T00:00:00\",\"2020-02-23T00:00:00\",\"2020-02-24T00:00:00\",\"2020-02-25T00:00:00\",\"2020-02-26T00:00:00\",\"2020-02-27T00:00:00\",\"2020-02-28T00:00:00\",\"2020-02-29T00:00:00\",\"2020-03-01T00:00:00\",\"2020-03-02T00:00:00\",\"2020-03-03T00:00:00\",\"2020-03-04T00:00:00\",\"2020-03-05T00:00:00\",\"2020-03-06T00:00:00\",\"2020-03-07T00:00:00\",\"2020-03-08T00:00:00\",\"2020-03-09T00:00:00\",\"2020-03-10T00:00:00\",\"2020-03-11T00:00:00\",\"2020-03-12T00:00:00\",\"2020-03-13T00:00:00\",\"2020-03-14T00:00:00\",\"2020-03-15T00:00:00\",\"2020-03-16T00:00:00\",\"2020-03-17T00:00:00\",\"2020-03-18T00:00:00\",\"2020-03-19T00:00:00\",\"2020-03-20T00:00:00\",\"2020-03-21T00:00:00\",\"2020-03-22T00:00:00\",\"2020-03-23T00:00:00\",\"2020-03-24T00:00:00\",\"2020-03-25T00:00:00\",\"2020-03-26T00:00:00\",\"2020-03-27T00:00:00\",\"2020-03-28T00:00:00\",\"2020-03-29T00:00:00\",\"2020-03-30T00:00:00\",\"2020-03-31T00:00:00\",\"2020-04-01T00:00:00\",\"2020-04-02T00:00:00\",\"2020-04-03T00:00:00\",\"2020-04-04T00:00:00\",\"2020-04-05T00:00:00\",\"2020-04-06T00:00:00\",\"2020-04-07T00:00:00\",\"2020-04-08T00:00:00\",\"2020-04-09T00:00:00\",\"2020-04-10T00:00:00\",\"2020-04-11T00:00:00\",\"2020-04-12T00:00:00\",\"2020-04-13T00:00:00\",\"2020-04-14T00:00:00\",\"2020-04-15T00:00:00\",\"2020-04-16T00:00:00\",\"2020-04-17T00:00:00\",\"2020-04-18T00:00:00\",\"2020-04-19T00:00:00\",\"2020-04-20T00:00:00\",\"2020-04-21T00:00:00\",\"2020-04-22T00:00:00\",\"2020-04-23T00:00:00\",\"2020-04-24T00:00:00\",\"2020-04-25T00:00:00\",\"2020-04-26T00:00:00\",\"2020-04-27T00:00:00\",\"2020-04-28T00:00:00\",\"2020-04-29T00:00:00\",\"2020-04-30T00:00:00\",\"2020-05-01T00:00:00\",\"2020-05-02T00:00:00\",\"2020-05-03T00:00:00\",\"2020-05-04T00:00:00\",\"2020-05-05T00:00:00\",\"2020-05-06T00:00:00\",\"2020-05-07T00:00:00\",\"2020-05-08T00:00:00\",\"2020-05-09T00:00:00\",\"2020-05-10T00:00:00\",\"2020-05-11T00:00:00\",\"2020-05-12T00:00:00\",\"2020-05-13T00:00:00\",\"2020-05-14T00:00:00\",\"2020-05-15T00:00:00\",\"2020-05-16T00:00:00\",\"2020-05-17T00:00:00\",\"2020-05-18T00:00:00\",\"2020-05-19T00:00:00\",\"2020-05-20T00:00:00\",\"2020-05-21T00:00:00\",\"2020-05-22T00:00:00\",\"2020-05-23T00:00:00\",\"2020-05-24T00:00:00\",\"2020-05-25T00:00:00\",\"2020-05-26T00:00:00\",\"2020-05-27T00:00:00\",\"2020-05-28T00:00:00\",\"2020-05-29T00:00:00\",\"2020-05-30T00:00:00\",\"2020-05-31T00:00:00\",\"2020-06-01T00:00:00\",\"2020-06-02T00:00:00\",\"2020-06-03T00:00:00\",\"2020-06-04T00:00:00\",\"2020-06-05T00:00:00\",\"2020-06-06T00:00:00\",\"2020-06-07T00:00:00\",\"2020-06-08T00:00:00\",\"2020-06-09T00:00:00\",\"2020-06-10T00:00:00\",\"2020-06-11T00:00:00\",\"2020-06-12T00:00:00\",\"2020-06-13T00:00:00\",\"2020-06-14T00:00:00\",\"2020-06-15T00:00:00\",\"2020-06-16T00:00:00\",\"2020-06-17T00:00:00\",\"2020-06-18T00:00:00\",\"2020-06-19T00:00:00\",\"2020-06-20T00:00:00\",\"2020-06-21T00:00:00\",\"2020-06-22T00:00:00\",\"2020-06-23T00:00:00\",\"2020-06-24T00:00:00\",\"2020-06-25T00:00:00\",\"2020-06-26T00:00:00\",\"2020-06-27T00:00:00\",\"2020-06-28T00:00:00\",\"2020-06-29T00:00:00\",\"2020-06-30T00:00:00\",\"2020-07-01T00:00:00\",\"2020-07-02T00:00:00\",\"2020-07-03T00:00:00\",\"2020-07-04T00:00:00\",\"2020-07-05T00:00:00\",\"2020-07-06T00:00:00\",\"2020-07-07T00:00:00\",\"2020-07-08T00:00:00\",\"2020-07-09T00:00:00\",\"2020-07-10T00:00:00\",\"2020-07-11T00:00:00\",\"2020-07-12T00:00:00\",\"2020-07-13T00:00:00\",\"2020-07-14T00:00:00\",\"2020-07-15T00:00:00\",\"2020-07-16T00:00:00\",\"2020-07-17T00:00:00\",\"2020-07-18T00:00:00\",\"2020-07-19T00:00:00\",\"2020-07-20T00:00:00\",\"2020-07-21T00:00:00\",\"2020-07-22T00:00:00\",\"2020-07-23T00:00:00\",\"2020-07-24T00:00:00\",\"2020-07-25T00:00:00\",\"2020-07-26T00:00:00\",\"2020-07-27T00:00:00\",\"2020-07-28T00:00:00\",\"2020-07-29T00:00:00\",\"2020-07-30T00:00:00\",\"2020-07-31T00:00:00\",\"2020-08-01T00:00:00\",\"2020-08-02T00:00:00\",\"2020-08-03T00:00:00\",\"2020-08-04T00:00:00\",\"2020-08-05T00:00:00\",\"2020-08-06T00:00:00\",\"2020-08-07T00:00:00\",\"2020-08-08T00:00:00\",\"2020-08-09T00:00:00\",\"2020-08-10T00:00:00\",\"2020-08-11T00:00:00\",\"2020-08-12T00:00:00\",\"2020-08-13T00:00:00\",\"2020-08-14T00:00:00\",\"2020-08-15T00:00:00\",\"2020-08-16T00:00:00\",\"2020-08-17T00:00:00\",\"2020-08-18T00:00:00\",\"2020-08-19T00:00:00\",\"2020-08-20T00:00:00\",\"2020-08-21T00:00:00\",\"2020-08-22T00:00:00\",\"2020-08-23T00:00:00\",\"2020-08-24T00:00:00\",\"2020-08-25T00:00:00\",\"2020-08-26T00:00:00\",\"2020-08-27T00:00:00\",\"2020-08-28T00:00:00\",\"2020-08-29T00:00:00\",\"2020-08-30T00:00:00\",\"2020-08-31T00:00:00\",\"2020-09-01T00:00:00\",\"2020-09-02T00:00:00\",\"2020-09-03T00:00:00\",\"2020-09-04T00:00:00\",\"2020-09-05T00:00:00\",\"2020-09-06T00:00:00\",\"2020-09-07T00:00:00\",\"2020-09-08T00:00:00\",\"2020-09-09T00:00:00\",\"2020-09-10T00:00:00\",\"2020-09-11T00:00:00\",\"2020-09-12T00:00:00\",\"2020-09-13T00:00:00\",\"2020-09-14T00:00:00\",\"2020-09-15T00:00:00\",\"2020-09-16T00:00:00\",\"2020-09-17T00:00:00\",\"2020-09-18T00:00:00\",\"2020-09-19T00:00:00\",\"2020-09-20T00:00:00\",\"2020-09-21T00:00:00\",\"2020-09-22T00:00:00\",\"2020-09-23T00:00:00\",\"2020-09-24T00:00:00\",\"2020-09-25T00:00:00\",\"2020-09-26T00:00:00\",\"2020-09-27T00:00:00\",\"2020-09-28T00:00:00\",\"2020-09-29T00:00:00\",\"2020-09-30T00:00:00\",\"2020-10-01T00:00:00\",\"2020-10-02T00:00:00\",\"2020-10-03T00:00:00\",\"2020-10-04T00:00:00\",\"2020-10-05T00:00:00\",\"2020-10-06T00:00:00\",\"2020-10-07T00:00:00\",\"2020-10-08T00:00:00\",\"2020-10-09T00:00:00\",\"2020-10-10T00:00:00\",\"2020-10-11T00:00:00\",\"2020-10-12T00:00:00\",\"2020-10-13T00:00:00\",\"2020-10-14T00:00:00\",\"2020-10-15T00:00:00\",\"2020-10-16T00:00:00\",\"2020-10-17T00:00:00\",\"2020-10-18T00:00:00\",\"2020-10-19T00:00:00\",\"2020-10-20T00:00:00\",\"2020-10-21T00:00:00\",\"2020-10-22T00:00:00\",\"2020-10-23T00:00:00\",\"2020-10-24T00:00:00\",\"2020-10-25T00:00:00\",\"2020-10-26T00:00:00\",\"2020-10-27T00:00:00\",\"2020-10-28T00:00:00\",\"2020-10-29T00:00:00\",\"2020-10-30T00:00:00\",\"2020-10-31T00:00:00\",\"2020-11-01T00:00:00\",\"2020-11-02T00:00:00\",\"2020-11-03T00:00:00\",\"2020-11-04T00:00:00\",\"2020-11-05T00:00:00\",\"2020-11-06T00:00:00\",\"2020-11-07T00:00:00\",\"2020-11-08T00:00:00\",\"2020-11-09T00:00:00\",\"2020-11-10T00:00:00\",\"2020-11-11T00:00:00\",\"2020-11-12T00:00:00\",\"2020-11-13T00:00:00\",\"2020-11-14T00:00:00\",\"2020-11-15T00:00:00\",\"2020-11-16T00:00:00\",\"2020-11-17T00:00:00\",\"2020-11-18T00:00:00\",\"2020-11-19T00:00:00\",\"2020-11-20T00:00:00\",\"2020-11-21T00:00:00\",\"2020-11-22T00:00:00\",\"2020-11-23T00:00:00\",\"2020-11-24T00:00:00\",\"2020-11-25T00:00:00\",\"2020-11-26T00:00:00\",\"2020-11-27T00:00:00\",\"2020-11-28T00:00:00\",\"2020-11-29T00:00:00\",\"2020-11-30T00:00:00\",\"2020-12-01T00:00:00\",\"2020-12-02T00:00:00\",\"2020-12-03T00:00:00\",\"2020-12-04T00:00:00\",\"2020-12-05T00:00:00\",\"2020-12-06T00:00:00\",\"2020-12-07T00:00:00\",\"2020-12-08T00:00:00\",\"2020-12-09T00:00:00\",\"2020-12-10T00:00:00\",\"2020-12-11T00:00:00\",\"2020-12-12T00:00:00\",\"2020-12-13T00:00:00\",\"2020-12-14T00:00:00\",\"2020-12-15T00:00:00\",\"2020-12-16T00:00:00\",\"2020-12-17T00:00:00\",\"2020-12-18T00:00:00\",\"2020-12-19T00:00:00\",\"2020-12-20T00:00:00\",\"2020-12-21T00:00:00\",\"2020-12-22T00:00:00\",\"2020-12-23T00:00:00\",\"2020-12-24T00:00:00\",\"2020-12-25T00:00:00\",\"2020-12-26T00:00:00\",\"2020-12-27T00:00:00\",\"2020-12-28T00:00:00\",\"2020-12-29T00:00:00\",\"2020-12-30T00:00:00\",\"2020-12-31T00:00:00\",\"2021-01-01T00:00:00\",\"2021-01-02T00:00:00\",\"2021-01-03T00:00:00\",\"2021-01-04T00:00:00\",\"2021-01-05T00:00:00\",\"2021-01-06T00:00:00\",\"2021-01-07T00:00:00\",\"2021-01-08T00:00:00\",\"2021-01-09T00:00:00\",\"2021-01-10T00:00:00\",\"2021-01-11T00:00:00\",\"2021-01-12T00:00:00\",\"2021-01-13T00:00:00\",\"2021-01-14T00:00:00\",\"2021-01-15T00:00:00\",\"2021-01-16T00:00:00\",\"2021-01-17T00:00:00\",\"2021-01-18T00:00:00\",\"2021-01-19T00:00:00\",\"2021-01-20T00:00:00\",\"2021-01-21T00:00:00\",\"2021-01-22T00:00:00\",\"2021-01-23T00:00:00\",\"2021-01-24T00:00:00\",\"2021-01-25T00:00:00\",\"2021-01-26T00:00:00\"],\"type\":\"candlestick\"}],                        {\"template\":{\"data\":{\"histogram2dcontour\":[{\"type\":\"histogram2dcontour\",\"colorbar\":{\"outlinewidth\":0,\"ticks\":\"\"},\"colorscale\":[[0.0,\"#0d0887\"],[0.1111111111111111,\"#46039f\"],[0.2222222222222222,\"#7201a8\"],[0.3333333333333333,\"#9c179e\"],[0.4444444444444444,\"#bd3786\"],[0.5555555555555556,\"#d8576b\"],[0.6666666666666666,\"#ed7953\"],[0.7777777777777778,\"#fb9f3a\"],[0.8888888888888888,\"#fdca26\"],[1.0,\"#f0f921\"]]}],\"choropleth\":[{\"type\":\"choropleth\",\"colorbar\":{\"outlinewidth\":0,\"ticks\":\"\"}}],\"histogram2d\":[{\"type\":\"histogram2d\",\"colorbar\":{\"outlinewidth\":0,\"ticks\":\"\"},\"colorscale\":[[0.0,\"#0d0887\"],[0.1111111111111111,\"#46039f\"],[0.2222222222222222,\"#7201a8\"],[0.3333333333333333,\"#9c179e\"],[0.4444444444444444,\"#bd3786\"],[0.5555555555555556,\"#d8576b\"],[0.6666666666666666,\"#ed7953\"],[0.7777777777777778,\"#fb9f3a\"],[0.8888888888888888,\"#fdca26\"],[1.0,\"#f0f921\"]]}],\"heatmap\":[{\"type\":\"heatmap\",\"colorbar\":{\"outlinewidth\":0,\"ticks\":\"\"},\"colorscale\":[[0.0,\"#0d0887\"],[0.1111111111111111,\"#46039f\"],[0.2222222222222222,\"#7201a8\"],[0.3333333333333333,\"#9c179e\"],[0.4444444444444444,\"#bd3786\"],[0.5555555555555556,\"#d8576b\"],[0.6666666666666666,\"#ed7953\"],[0.7777777777777778,\"#fb9f3a\"],[0.8888888888888888,\"#fdca26\"],[1.0,\"#f0f921\"]]}],\"heatmapgl\":[{\"type\":\"heatmapgl\",\"colorbar\":{\"outlinewidth\":0,\"ticks\":\"\"},\"colorscale\":[[0.0,\"#0d0887\"],[0.1111111111111111,\"#46039f\"],[0.2222222222222222,\"#7201a8\"],[0.3333333333333333,\"#9c179e\"],[0.4444444444444444,\"#bd3786\"],[0.5555555555555556,\"#d8576b\"],[0.6666666666666666,\"#ed7953\"],[0.7777777777777778,\"#fb9f3a\"],[0.8888888888888888,\"#fdca26\"],[1.0,\"#f0f921\"]]}],\"contourcarpet\":[{\"type\":\"contourcarpet\",\"colorbar\":{\"outlinewidth\":0,\"ticks\":\"\"}}],\"contour\":[{\"type\":\"contour\",\"colorbar\":{\"outlinewidth\":0,\"ticks\":\"\"},\"colorscale\":[[0.0,\"#0d0887\"],[0.1111111111111111,\"#46039f\"],[0.2222222222222222,\"#7201a8\"],[0.3333333333333333,\"#9c179e\"],[0.4444444444444444,\"#bd3786\"],[0.5555555555555556,\"#d8576b\"],[0.6666666666666666,\"#ed7953\"],[0.7777777777777778,\"#fb9f3a\"],[0.8888888888888888,\"#fdca26\"],[1.0,\"#f0f921\"]]}],\"surface\":[{\"type\":\"surface\",\"colorbar\":{\"outlinewidth\":0,\"ticks\":\"\"},\"colorscale\":[[0.0,\"#0d0887\"],[0.1111111111111111,\"#46039f\"],[0.2222222222222222,\"#7201a8\"],[0.3333333333333333,\"#9c179e\"],[0.4444444444444444,\"#bd3786\"],[0.5555555555555556,\"#d8576b\"],[0.6666666666666666,\"#ed7953\"],[0.7777777777777778,\"#fb9f3a\"],[0.8888888888888888,\"#fdca26\"],[1.0,\"#f0f921\"]]}],\"mesh3d\":[{\"type\":\"mesh3d\",\"colorbar\":{\"outlinewidth\":0,\"ticks\":\"\"}}],\"scatter\":[{\"fillpattern\":{\"fillmode\":\"overlay\",\"size\":10,\"solidity\":0.2},\"type\":\"scatter\"}],\"parcoords\":[{\"type\":\"parcoords\",\"line\":{\"colorbar\":{\"outlinewidth\":0,\"ticks\":\"\"}}}],\"scatterpolargl\":[{\"type\":\"scatterpolargl\",\"marker\":{\"colorbar\":{\"outlinewidth\":0,\"ticks\":\"\"}}}],\"bar\":[{\"error_x\":{\"color\":\"#2a3f5f\"},\"error_y\":{\"color\":\"#2a3f5f\"},\"marker\":{\"line\":{\"color\":\"#E5ECF6\",\"width\":0.5},\"pattern\":{\"fillmode\":\"overlay\",\"size\":10,\"solidity\":0.2}},\"type\":\"bar\"}],\"scattergeo\":[{\"type\":\"scattergeo\",\"marker\":{\"colorbar\":{\"outlinewidth\":0,\"ticks\":\"\"}}}],\"scatterpolar\":[{\"type\":\"scatterpolar\",\"marker\":{\"colorbar\":{\"outlinewidth\":0,\"ticks\":\"\"}}}],\"histogram\":[{\"marker\":{\"pattern\":{\"fillmode\":\"overlay\",\"size\":10,\"solidity\":0.2}},\"type\":\"histogram\"}],\"scattergl\":[{\"type\":\"scattergl\",\"marker\":{\"colorbar\":{\"outlinewidth\":0,\"ticks\":\"\"}}}],\"scatter3d\":[{\"type\":\"scatter3d\",\"line\":{\"colorbar\":{\"outlinewidth\":0,\"ticks\":\"\"}},\"marker\":{\"colorbar\":{\"outlinewidth\":0,\"ticks\":\"\"}}}],\"scattermapbox\":[{\"type\":\"scattermapbox\",\"marker\":{\"colorbar\":{\"outlinewidth\":0,\"ticks\":\"\"}}}],\"scatterternary\":[{\"type\":\"scatterternary\",\"marker\":{\"colorbar\":{\"outlinewidth\":0,\"ticks\":\"\"}}}],\"scattercarpet\":[{\"type\":\"scattercarpet\",\"marker\":{\"colorbar\":{\"outlinewidth\":0,\"ticks\":\"\"}}}],\"carpet\":[{\"aaxis\":{\"endlinecolor\":\"#2a3f5f\",\"gridcolor\":\"white\",\"linecolor\":\"white\",\"minorgridcolor\":\"white\",\"startlinecolor\":\"#2a3f5f\"},\"baxis\":{\"endlinecolor\":\"#2a3f5f\",\"gridcolor\":\"white\",\"linecolor\":\"white\",\"minorgridcolor\":\"white\",\"startlinecolor\":\"#2a3f5f\"},\"type\":\"carpet\"}],\"table\":[{\"cells\":{\"fill\":{\"color\":\"#EBF0F8\"},\"line\":{\"color\":\"white\"}},\"header\":{\"fill\":{\"color\":\"#C8D4E3\"},\"line\":{\"color\":\"white\"}},\"type\":\"table\"}],\"barpolar\":[{\"marker\":{\"line\":{\"color\":\"#E5ECF6\",\"width\":0.5},\"pattern\":{\"fillmode\":\"overlay\",\"size\":10,\"solidity\":0.2}},\"type\":\"barpolar\"}],\"pie\":[{\"automargin\":true,\"type\":\"pie\"}]},\"layout\":{\"autotypenumbers\":\"strict\",\"colorway\":[\"#636efa\",\"#EF553B\",\"#00cc96\",\"#ab63fa\",\"#FFA15A\",\"#19d3f3\",\"#FF6692\",\"#B6E880\",\"#FF97FF\",\"#FECB52\"],\"font\":{\"color\":\"#2a3f5f\"},\"hovermode\":\"closest\",\"hoverlabel\":{\"align\":\"left\"},\"paper_bgcolor\":\"white\",\"plot_bgcolor\":\"#E5ECF6\",\"polar\":{\"bgcolor\":\"#E5ECF6\",\"angularaxis\":{\"gridcolor\":\"white\",\"linecolor\":\"white\",\"ticks\":\"\"},\"radialaxis\":{\"gridcolor\":\"white\",\"linecolor\":\"white\",\"ticks\":\"\"}},\"ternary\":{\"bgcolor\":\"#E5ECF6\",\"aaxis\":{\"gridcolor\":\"white\",\"linecolor\":\"white\",\"ticks\":\"\"},\"baxis\":{\"gridcolor\":\"white\",\"linecolor\":\"white\",\"ticks\":\"\"},\"caxis\":{\"gridcolor\":\"white\",\"linecolor\":\"white\",\"ticks\":\"\"}},\"coloraxis\":{\"colorbar\":{\"outlinewidth\":0,\"ticks\":\"\"}},\"colorscale\":{\"sequential\":[[0.0,\"#0d0887\"],[0.1111111111111111,\"#46039f\"],[0.2222222222222222,\"#7201a8\"],[0.3333333333333333,\"#9c179e\"],[0.4444444444444444,\"#bd3786\"],[0.5555555555555556,\"#d8576b\"],[0.6666666666666666,\"#ed7953\"],[0.7777777777777778,\"#fb9f3a\"],[0.8888888888888888,\"#fdca26\"],[1.0,\"#f0f921\"]],\"sequentialminus\":[[0.0,\"#0d0887\"],[0.1111111111111111,\"#46039f\"],[0.2222222222222222,\"#7201a8\"],[0.3333333333333333,\"#9c179e\"],[0.4444444444444444,\"#bd3786\"],[0.5555555555555556,\"#d8576b\"],[0.6666666666666666,\"#ed7953\"],[0.7777777777777778,\"#fb9f3a\"],[0.8888888888888888,\"#fdca26\"],[1.0,\"#f0f921\"]],\"diverging\":[[0,\"#8e0152\"],[0.1,\"#c51b7d\"],[0.2,\"#de77ae\"],[0.3,\"#f1b6da\"],[0.4,\"#fde0ef\"],[0.5,\"#f7f7f7\"],[0.6,\"#e6f5d0\"],[0.7,\"#b8e186\"],[0.8,\"#7fbc41\"],[0.9,\"#4d9221\"],[1,\"#276419\"]]},\"xaxis\":{\"gridcolor\":\"white\",\"linecolor\":\"white\",\"ticks\":\"\",\"title\":{\"standoff\":15},\"zerolinecolor\":\"white\",\"automargin\":true,\"zerolinewidth\":2},\"yaxis\":{\"gridcolor\":\"white\",\"linecolor\":\"white\",\"ticks\":\"\",\"title\":{\"standoff\":15},\"zerolinecolor\":\"white\",\"automargin\":true,\"zerolinewidth\":2},\"scene\":{\"xaxis\":{\"backgroundcolor\":\"#E5ECF6\",\"gridcolor\":\"white\",\"linecolor\":\"white\",\"showbackground\":true,\"ticks\":\"\",\"zerolinecolor\":\"white\",\"gridwidth\":2},\"yaxis\":{\"backgroundcolor\":\"#E5ECF6\",\"gridcolor\":\"white\",\"linecolor\":\"white\",\"showbackground\":true,\"ticks\":\"\",\"zerolinecolor\":\"white\",\"gridwidth\":2},\"zaxis\":{\"backgroundcolor\":\"#E5ECF6\",\"gridcolor\":\"white\",\"linecolor\":\"white\",\"showbackground\":true,\"ticks\":\"\",\"zerolinecolor\":\"white\",\"gridwidth\":2}},\"shapedefaults\":{\"line\":{\"color\":\"#2a3f5f\"}},\"annotationdefaults\":{\"arrowcolor\":\"#2a3f5f\",\"arrowhead\":0,\"arrowwidth\":1},\"geo\":{\"bgcolor\":\"white\",\"landcolor\":\"#E5ECF6\",\"subunitcolor\":\"white\",\"showland\":true,\"showlakes\":true,\"lakecolor\":\"white\"},\"title\":{\"x\":0.05},\"mapbox\":{\"style\":\"light\"}}},\"xaxis\":{\"rangeslider\":{\"visible\":false}},\"title\":{\"text\":\"Stock Price Analysis\"}},                        {\"responsive\": true}                    ).then(function(){\n",
       "                            \n",
       "var gd = document.getElementById('45dc116a-9f1e-4e65-915e-7e7620c19af1');\n",
       "var x = new MutationObserver(function (mutations, observer) {{\n",
       "        var display = window.getComputedStyle(gd).display;\n",
       "        if (!display || display === 'none') {{\n",
       "            console.log([gd, 'removed!']);\n",
       "            Plotly.purge(gd);\n",
       "            observer.disconnect();\n",
       "        }}\n",
       "}});\n",
       "\n",
       "// Listen for the removal of the full notebook cells\n",
       "var notebookContainer = gd.closest('#notebook-container');\n",
       "if (notebookContainer) {{\n",
       "    x.observe(notebookContainer, {childList: true});\n",
       "}}\n",
       "\n",
       "// Listen for the clearing of the current output cell\n",
       "var outputEl = gd.closest('.output');\n",
       "if (outputEl) {{\n",
       "    x.observe(outputEl, {childList: true});\n",
       "}}\n",
       "\n",
       "                        })                };                });            </script>        </div>"
      ]
     },
     "metadata": {},
     "output_type": "display_data"
    }
   ],
   "source": [
    "import plotly.graph_objects as go\n",
    "\n",
    "figure = go.Figure(data=[go.Candlestick(x=df_2.index, open=df_2[\"Open\"], high=df_2[\"High\"], low=df_2[\"Low\"], close=df_2[\"Close\"])])\n",
    "figure.update_layout(title = \"Stock Price Analysis\", xaxis_rangeslider_visible=False)\n",
    "figure.show()"
   ]
  },
  {
   "cell_type": "code",
   "execution_count": 84,
   "id": "c6cf2e86-99b1-4852-81a4-35b9ee4a128e",
   "metadata": {},
   "outputs": [
    {
     "data": {
      "application/vnd.plotly.v1+json": {
       "config": {
        "plotlyServerURL": "https://plot.ly"
       },
       "data": [
        {
         "close": [
          71.324997,
          71.440002,
          71.2304,
          71.300003,
          71.639999,
          null,
          null,
          71.496498,
          71.314102,
          71.099998,
          71.18,
          71.470001,
          null,
          null,
          71.515503,
          71.279999,
          71.275299,
          71.296204,
          71.268501,
          null,
          null,
          71.514801,
          71.349197,
          71.574997,
          71.827499,
          72.110001,
          null,
          null,
          71.886803,
          72.0467,
          71.870003,
          71.663399,
          71.93,
          null,
          null,
          72.150002,
          72.824997,
          73.342003,
          74.042503,
          73.855103,
          null,
          null,
          73.9953,
          74.405998,
          74.205002,
          74.760002,
          75.300003,
          null,
          null,
          73.903999,
          75.154999,
          74.012398,
          74.982002,
          75.159698,
          null,
          null,
          75.622101,
          76.505997,
          77.260002,
          75.845497,
          74.725601,
          null,
          null,
          75.464996,
          75.400002,
          75.324997,
          77.57,
          77.139999,
          null,
          null,
          76.230003,
          75.964897,
          76.660004,
          75.959,
          76.650002,
          null,
          null,
          76.166496,
          76.910004,
          75.931,
          77.212502,
          77.57,
          null,
          null,
          76.559998,
          77.209999,
          76.969398,
          76.400002,
          76.422501,
          null,
          null,
          76.2715,
          76.186302,
          76.464996,
          75.258499,
          75.720001,
          null,
          null,
          75.600502,
          75.849998,
          76.169998,
          76.151299,
          76.080002,
          null,
          null,
          75.525002,
          76.309998,
          75.68,
          75.426201,
          75.485001,
          null,
          null,
          75.82,
          75.600098,
          76,
          75.779999,
          75.625,
          null,
          null,
          75.985001,
          76.110001,
          75.82,
          76.129997,
          75.959999,
          null,
          null,
          75.513199,
          75.730003,
          75.065804,
          75.544998,
          75.490898,
          null,
          null,
          75.5177,
          75.625,
          75.509804,
          75.875,
          76.389999,
          null,
          null,
          75.956802,
          75.977997,
          76.654999,
          76.550003,
          76.400398,
          null,
          null,
          76.252098,
          75.789803,
          75.607803,
          75.970001,
          75.539803,
          null,
          null,
          75.619797,
          75.699997,
          75.75,
          75.454903,
          74.721001,
          null,
          null,
          74.679298,
          74.607597,
          75.125,
          74.939903,
          75.339996,
          null,
          null,
          75.158501,
          75.449997,
          75.574997,
          75.124901,
          75.1745,
          null,
          null,
          74.897301,
          74.989998,
          74.769997,
          74.82,
          74.807297,
          null,
          null,
          74.759804,
          75,
          75.089996,
          74.8312,
          74.989998,
          null,
          null,
          74.917801,
          75.330002,
          75.25,
          74.882202,
          74.899803,
          null,
          null,
          75.024803,
          75.099998,
          74.900002,
          74.772102,
          75.029999,
          null,
          null,
          74.902802,
          75,
          74.794998,
          74.966797,
          74.999901,
          null,
          null,
          74.921799,
          74.400002,
          74.452499,
          74.240097,
          73.774498,
          null,
          null,
          73.128304,
          73.669998,
          73.269997,
          73.248497,
          73.447899,
          null,
          null,
          73.290298,
          73.650002,
          73.786797,
          73.550003,
          73.527298,
          null,
          null,
          73.4786,
          73.614998,
          73.800003,
          73.550697,
          73.583603,
          null,
          null,
          73.534798,
          73.579803,
          73.502998,
          73.778397,
          73.682404,
          null,
          null,
          73.699303,
          73.974998,
          73.845001,
          73.705002,
          73.217003,
          null,
          null,
          73.322403,
          73.108299,
          73.815002,
          73.542503,
          73.280502,
          null,
          null,
          73.014801,
          73.3508,
          73.620003,
          73.296204,
          73.371002,
          null,
          null,
          73.443802,
          73.574997,
          73.647499,
          73.681297,
          73.720001,
          null,
          null,
          73.822899,
          73.948502,
          73.805,
          74.440002,
          74.264,
          null,
          null,
          74.550499,
          74.456802,
          74.655602,
          74.379997,
          74.120003,
          null,
          null,
          73.979797,
          73.953201,
          74.281601,
          74.57,
          74.864998,
          null,
          null,
          74.487701,
          74.418098,
          74.479698,
          74.419998,
          74.099602,
          null,
          null,
          74.162399,
          74.244904,
          73.9608,
          73.7799,
          74.048798,
          null,
          null,
          73.940903,
          74.0252,
          73.654999,
          73.662598,
          73.864899,
          null,
          null,
          73.790298,
          74.019997,
          73.726402,
          73.934998,
          73.7267,
          null,
          null,
          73.737999,
          73.860001,
          73.759804,
          73.6166,
          73.5298,
          null,
          null,
          73.6036,
          73.935303,
          74.269997,
          73.839798,
          73.5578,
          null,
          null,
          73.689003,
          73.544899,
          73.453598,
          73.134003,
          73.089203,
          null,
          null,
          73.092003,
          73.32,
          73.374802,
          73.360001,
          73.445999,
          null,
          null,
          73.373398,
          73.513496,
          73.165001,
          73.169899,
          73.087601,
          null,
          null,
          73.158997,
          73.188698,
          73.191902,
          72.910896,
          72.954903,
          null,
          null,
          72.995903,
          72.970001
         ],
         "high": [
          71.635002,
          71.654999,
          71.425003,
          71.711998,
          71.639999,
          null,
          null,
          71.699997,
          71.514999,
          71.279999,
          71.397499,
          71.570999,
          null,
          null,
          71.508003,
          71.470001,
          71.474998,
          71.491898,
          71.596001,
          null,
          null,
          71.5177,
          71.613503,
          71.815002,
          71.919502,
          72.110001,
          null,
          null,
          72.355003,
          72.294998,
          72.137497,
          71.952499,
          72.815002,
          null,
          null,
          73.387497,
          73.599998,
          74.037498,
          74.080002,
          74.440002,
          null,
          null,
          75.0625,
          75.144997,
          74.404999,
          75.379997,
          75.434998,
          null,
          null,
          75.122498,
          75.154999,
          74.989502,
          75.571999,
          76.230003,
          null,
          null,
          77.754997,
          77.75,
          77.474998,
          77.095001,
          76.25,
          null,
          null,
          76.379997,
          76.482498,
          77.377602,
          77.57,
          77.504997,
          null,
          null,
          77.379997,
          77.114998,
          77.199997,
          77.199997,
          76.68,
          null,
          null,
          76.952499,
          76.962502,
          76.709503,
          77.510002,
          77.57,
          null,
          null,
          77.315002,
          77.614998,
          77.684998,
          76.995003,
          76.800003,
          null,
          null,
          76.785004,
          76.654999,
          76.464996,
          75.75,
          76.144997,
          null,
          null,
          75.805,
          76.115799,
          76.169998,
          76.550003,
          76.080002,
          null,
          null,
          76.260002,
          76.309998,
          75.68,
          75.730003,
          76.185501,
          null,
          null,
          76.092003,
          76.040001,
          76,
          75.919998,
          76.209503,
          null,
          null,
          76.129501,
          76.110001,
          76,
          76.129997,
          75.959999,
          null,
          null,
          75.769997,
          75.730003,
          75.684998,
          75.635002,
          75.792503,
          null,
          null,
          75.739998,
          75.691002,
          75.7799,
          76.196999,
          76.389999,
          null,
          null,
          76.220001,
          76.283798,
          76.654999,
          76.550003,
          76.635002,
          null,
          null,
          76.453499,
          76.119797,
          75.839996,
          75.970001,
          75.745003,
          null,
          null,
          75.6418,
          75.699997,
          75.75,
          75.677498,
          74.989998,
          null,
          null,
          74.807999,
          74.962997,
          75.125,
          75.1567,
          75.355003,
          null,
          null,
          75.434998,
          75.510498,
          75.574997,
          75.349998,
          75.419998,
          null,
          null,
          75.150002,
          74.994003,
          74.833099,
          74.925598,
          75.099998,
          null,
          null,
          74.983498,
          75,
          75.089996,
          75.019997,
          74.989998,
          null,
          null,
          75.298401,
          75.364998,
          75.25,
          75.099998,
          75.1092,
          null,
          null,
          75.246002,
          75.099998,
          74.924004,
          74.997498,
          75.029999,
          null,
          null,
          75.080002,
          75,
          75.057503,
          75.199997,
          75.190002,
          null,
          null,
          74.921799,
          74.639297,
          74.452499,
          74.459999,
          73.970001,
          null,
          null,
          73.885002,
          73.669998,
          73.370003,
          73.711304,
          73.669998,
          null,
          null,
          73.506798,
          73.957802,
          74.050003,
          73.550003,
          73.75,
          null,
          null,
          73.7024,
          73.723,
          73.800003,
          73.788101,
          73.779999,
          null,
          null,
          73.649597,
          73.650002,
          73.800003,
          74.222,
          73.910004,
          null,
          null,
          73.870003,
          73.974998,
          73.856499,
          73.705002,
          73.532997,
          null,
          null,
          73.398003,
          73.488998,
          73.815002,
          73.546501,
          73.497299,
          null,
          null,
          73.4132,
          73.504997,
          73.620003,
          73.5187,
          73.57,
          null,
          null,
          73.595001,
          73.574997,
          73.784203,
          73.884003,
          73.8853,
          null,
          null,
          74.114304,
          74.137497,
          74.251999,
          74.524696,
          74.702003,
          null,
          null,
          74.707603,
          74.684799,
          75.000999,
          74.407303,
          74.278503,
          null,
          null,
          74.167999,
          74.465797,
          74.537903,
          74.759003,
          74.887299,
          null,
          null,
          74.589798,
          74.608902,
          74.704803,
          74.442299,
          74.339203,
          null,
          null,
          74.406303,
          74.249001,
          74.169998,
          74.070503,
          74.268501,
          null,
          null,
          74.198502,
          74.172897,
          73.813797,
          73.953201,
          74.087303,
          null,
          null,
          73.947998,
          74.0373,
          73.939796,
          73.934998,
          73.922501,
          null,
          null,
          73.780998,
          73.900299,
          73.795998,
          73.824799,
          73.754799,
          null,
          null,
          74.092003,
          74.202301,
          74.269997,
          74.099998,
          73.800003,
          null,
          null,
          73.734802,
          73.767303,
          73.664803,
          73.349998,
          73.319801,
          null,
          null,
          73.200996,
          73.329803,
          73.360001,
          73.467003,
          73.739799,
          null,
          null,
          73.584198,
          73.778999,
          73.414001,
          73.353996,
          73.378098,
          null,
          null,
          73.419998,
          73.307999,
          73.192299,
          73.045303,
          73.237503,
          null,
          null,
          73.220001,
          73.222
         ],
         "low": [
          71.32,
          71.178001,
          71.168503,
          71.300003,
          71.277496,
          null,
          null,
          71.265503,
          71.084999,
          71.099899,
          71.121002,
          71.177498,
          null,
          null,
          71.259003,
          71.171501,
          71.064003,
          71.235802,
          71.256401,
          null,
          null,
          71.268997,
          71.330002,
          71.420998,
          71.547401,
          71.669998,
          null,
          null,
          71.766998,
          71.593002,
          71.525597,
          71.535004,
          71.627502,
          null,
          null,
          71.952499,
          72.342499,
          72.894997,
          73.050003,
          73.496498,
          null,
          null,
          73.862503,
          73.735497,
          73.404503,
          73.994499,
          73.699501,
          null,
          null,
          73.7575,
          73.580002,
          73.705002,
          74.411003,
          74.154999,
          null,
          null,
          75.275002,
          75.012497,
          75.849998,
          74.769501,
          73.989998,
          null,
          null,
          74.989998,
          75.134499,
          75.324997,
          76.010002,
          75.75,
          null,
          null,
          75.904503,
          75.251999,
          75.572502,
          75.747498,
          75.807503,
          null,
          null,
          75.9925,
          75.939499,
          75.921303,
          76.472,
          76.247002,
          null,
          null,
          76.311302,
          76.4963,
          76.384499,
          75.672501,
          75.839996,
          null,
          null,
          75.887497,
          75.790398,
          75.412003,
          74.805,
          75.072998,
          null,
          null,
          75.352501,
          75.379997,
          75.590302,
          75.709503,
          75.260002,
          null,
          null,
          75.039497,
          75.041298,
          75.043999,
          75.341003,
          75.319298,
          null,
          null,
          75.612396,
          75.527496,
          75.462997,
          75.416,
          75.610001,
          null,
          null,
          75.7575,
          75.404999,
          75.381302,
          75.634499,
          75.4263,
          null,
          null,
          75.235497,
          74.982803,
          74.914398,
          75.281898,
          75.309402,
          null,
          null,
          75.388802,
          75.391899,
          75.3769,
          75.5,
          75.767502,
          null,
          null,
          75.894997,
          75.745003,
          76.094498,
          76.001503,
          76.105499,
          null,
          null,
          75.738503,
          75.472,
          75.466003,
          75.519798,
          75.430496,
          null,
          null,
          75.4319,
          75.388496,
          75.474998,
          74.607498,
          74.544502,
          null,
          null,
          74.430298,
          74.540298,
          74.8125,
          74.847801,
          75.056702,
          null,
          null,
          75.070503,
          75.2118,
          75.043297,
          75.085999,
          74.916,
          null,
          null,
          74.747002,
          74.507401,
          74.4646,
          74.572304,
          74.6847,
          null,
          null,
          74.513496,
          74.648499,
          74.683998,
          74.750504,
          74.613503,
          null,
          null,
          74.835999,
          74.973,
          74.771301,
          74.768997,
          74.875999,
          null,
          null,
          74.856003,
          74.515999,
          74.619797,
          74.744003,
          74.7285,
          null,
          null,
          74.662399,
          74.570297,
          74.575302,
          74.847198,
          74.822998,
          null,
          null,
          73.925301,
          74.046997,
          74.185997,
          73.763901,
          73.095802,
          null,
          null,
          73.0345,
          72.718498,
          72.889297,
          72.893501,
          73.010803,
          null,
          null,
          73.018997,
          73.392998,
          73.082497,
          73.012001,
          73.363998,
          null,
          null,
          73.244003,
          73.288498,
          73.463799,
          73.398003,
          73.172997,
          null,
          null,
          73.278,
          73.388,
          73.438004,
          73.563004,
          73.561501,
          null,
          null,
          73.519302,
          73.603996,
          73.524399,
          73.027,
          73.139999,
          null,
          null,
          73.047096,
          73.043999,
          73.080002,
          73.194,
          72.976997,
          null,
          null,
          72.933998,
          73.245598,
          73.2052,
          73.202003,
          73.272697,
          null,
          null,
          73.283997,
          73.294998,
          73.359001,
          73.472801,
          73.473,
          null,
          null,
          73.690002,
          73.613998,
          73.642998,
          73.932999,
          74.031998,
          null,
          null,
          74.274002,
          74.245003,
          74.278801,
          73.845802,
          73.863998,
          null,
          null,
          73.643097,
          73.877998,
          74.108002,
          74.365997,
          74.466103,
          null,
          null,
          74.379303,
          74.326797,
          74.035202,
          74.119797,
          74.072998,
          null,
          null,
          74.002998,
          73.884399,
          73.748802,
          73.738899,
          73.746201,
          null,
          null,
          73.879097,
          73.464996,
          73.398003,
          73.630402,
          73.659698,
          null,
          null,
          73.631798,
          73.542,
          73.530998,
          73.624001,
          73.536499,
          null,
          null,
          73.470001,
          73.502197,
          73.458603,
          73.384697,
          73.471001,
          null,
          null,
          73.512802,
          73.786697,
          73.6464,
          73.450798,
          73.550003,
          null,
          null,
          73.4562,
          73.287201,
          73.101601,
          72.946602,
          73.025002,
          null,
          null,
          72.7985,
          72.963501,
          73.040001,
          73.063004,
          73.196198,
          null,
          null,
          73.340302,
          73.202003,
          73.062798,
          72.939003,
          73.002502,
          null,
          null,
          73.123001,
          73.098999,
          72.8993,
          72.883003,
          72.929001,
          null,
          null,
          72.877998,
          72.774498
         ],
         "open": [
          71.32,
          71.654999,
          71.230103,
          71.300003,
          71.639999,
          null,
          null,
          71.544998,
          71.314102,
          71.100403,
          71.181,
          71.470001,
          null,
          null,
          71.504997,
          71.470001,
          71.275497,
          71.296501,
          71.268501,
          null,
          null,
          71.5177,
          71.349297,
          71.790001,
          71.632896,
          72.110001,
          null,
          null,
          71.870003,
          72.0467,
          71.870003,
          71.663399,
          71.93,
          null,
          null,
          72.528999,
          72.4235,
          73.342003,
          74.042503,
          73.855103,
          null,
          null,
          73.9953,
          75.144997,
          74.205002,
          74.760002,
          74.436096,
          null,
          null,
          73.830002,
          75.154999,
          74.012398,
          74.982002,
          76.120003,
          null,
          null,
          75.388496,
          76.505997,
          77.260002,
          77.095001,
          74.725601,
          null,
          null,
          75.464996,
          75.400101,
          76.110001,
          76.585503,
          77.139999,
          null,
          null,
          76.230003,
          75.964897,
          76.660004,
          75.959,
          76.650002,
          null,
          null,
          76.166496,
          76.910004,
          75.931,
          76.500099,
          76.858902,
          null,
          null,
          76.559998,
          76.5924,
          77.684998,
          76.995003,
          76.422501,
          null,
          null,
          76.2715,
          76.654999,
          76.464996,
          75.610001,
          75.720001,
          null,
          null,
          75.591003,
          75.629997,
          76.169998,
          76.550003,
          76.080002,
          null,
          null,
          75.525002,
          75.927597,
          75.3685,
          75.4272,
          75.485001,
          null,
          null,
          75.82,
          75.599998,
          75.699997,
          75.779999,
          75.625,
          null,
          null,
          75.985001,
          75.873596,
          75.489502,
          75.885696,
          75.959999,
          null,
          null,
          75.513199,
          75.730003,
          75.275002,
          75.327698,
          75.4832,
          null,
          null,
          75.5177,
          75.399803,
          75.509697,
          75.875,
          76.389999,
          null,
          null,
          75.956902,
          76.097504,
          76.403702,
          76.289803,
          76.483101,
          null,
          null,
          76.257301,
          76,
          75.839996,
          75.970001,
          75.542,
          null,
          null,
          75.619797,
          75.518799,
          75.556999,
          75.677498,
          74.875,
          null,
          null,
          74.679298,
          74.607498,
          75.125,
          74.920998,
          75.339996,
          null,
          null,
          75.194298,
          75.449997,
          75.574997,
          75.124901,
          75.419998,
          null,
          null,
          74.8974,
          74.989998,
          74.769997,
          74.82,
          75.044998,
          null,
          null,
          74.725601,
          75,
          75.089996,
          74.8312,
          74.783798,
          null,
          null,
          74.9179,
          75.330002,
          75.25,
          75.099998,
          74.899803,
          null,
          null,
          75.026901,
          75.099998,
          74.900002,
          74.997498,
          75.029999,
          null,
          null,
          74.902802,
          75,
          74.794998,
          75.18,
          75.190002,
          null,
          null,
          74.921799,
          74.400002,
          74.452499,
          74.459999,
          73.970001,
          null,
          null,
          73.128403,
          73.669998,
          73.269997,
          73.459999,
          73.667503,
          null,
          null,
          73.290298,
          73.650002,
          73.786797,
          73.550003,
          73.75,
          null,
          null,
          73.478699,
          73.384003,
          73.6101,
          73.764999,
          73.779999,
          null,
          null,
          73.534798,
          73.579803,
          73.502899,
          74.010002,
          73.910004,
          null,
          null,
          73.699402,
          73.764801,
          73.654999,
          73.705002,
          73.419998,
          null,
          null,
          73.322502,
          73.115799,
          73.815002,
          73.542503,
          73.280502,
          null,
          null,
          73.0149,
          73.3508,
          73.418297,
          73.4925,
          73.57,
          null,
          null,
          73.443802,
          73.3937,
          73.479698,
          73.724998,
          73.720001,
          null,
          null,
          73.834,
          74.137497,
          73.814903,
          74.440002,
          74.264,
          null,
          null,
          74.707298,
          74.456802,
          74.849998,
          74.190498,
          74.120003,
          null,
          null,
          73.9758,
          74.139999,
          74.472504,
          74.624802,
          74.6717,
          null,
          null,
          74.589798,
          74.550003,
          74.480103,
          74.419998,
          74.099602,
          null,
          null,
          74.119797,
          74.244499,
          73.9608,
          73.7799,
          74.048798,
          null,
          null,
          73.935303,
          74.0252,
          73.6698,
          73.662598,
          73.939003,
          null,
          null,
          73.790298,
          73.809898,
          73.832298,
          73.817299,
          73.7267,
          null,
          null,
          73.737999,
          73.860001,
          73.759804,
          73.824799,
          73.604797,
          null,
          null,
          73.6036,
          73.935303,
          74.005501,
          73.839798,
          73.5578,
          null,
          null,
          73.689003,
          73.544899,
          73.654999,
          73.134003,
          73.089203,
          null,
          null,
          73.092003,
          73.091499,
          73.167999,
          73.374802,
          73.730003,
          null,
          null,
          73.373398,
          73.778999,
          73.414001,
          73.169998,
          73.089996,
          null,
          null,
          73.158997,
          73.189201,
          73.192001,
          72.907898,
          72.954903,
          null,
          null,
          72.995903,
          72.970001
         ],
         "type": "candlestick",
         "x": []
        }
       ],
       "layout": {
        "autosize": true,
        "template": {
         "data": {
          "bar": [
           {
            "error_x": {
             "color": "#2a3f5f"
            },
            "error_y": {
             "color": "#2a3f5f"
            },
            "marker": {
             "line": {
              "color": "#E5ECF6",
              "width": 0.5
             },
             "pattern": {
              "fillmode": "overlay",
              "size": 10,
              "solidity": 0.2
             }
            },
            "type": "bar"
           }
          ],
          "barpolar": [
           {
            "marker": {
             "line": {
              "color": "#E5ECF6",
              "width": 0.5
             },
             "pattern": {
              "fillmode": "overlay",
              "size": 10,
              "solidity": 0.2
             }
            },
            "type": "barpolar"
           }
          ],
          "carpet": [
           {
            "aaxis": {
             "endlinecolor": "#2a3f5f",
             "gridcolor": "white",
             "linecolor": "white",
             "minorgridcolor": "white",
             "startlinecolor": "#2a3f5f"
            },
            "baxis": {
             "endlinecolor": "#2a3f5f",
             "gridcolor": "white",
             "linecolor": "white",
             "minorgridcolor": "white",
             "startlinecolor": "#2a3f5f"
            },
            "type": "carpet"
           }
          ],
          "choropleth": [
           {
            "colorbar": {
             "outlinewidth": 0,
             "ticks": ""
            },
            "type": "choropleth"
           }
          ],
          "contour": [
           {
            "colorbar": {
             "outlinewidth": 0,
             "ticks": ""
            },
            "colorscale": [
             [
              0,
              "#0d0887"
             ],
             [
              0.1111111111111111,
              "#46039f"
             ],
             [
              0.2222222222222222,
              "#7201a8"
             ],
             [
              0.3333333333333333,
              "#9c179e"
             ],
             [
              0.4444444444444444,
              "#bd3786"
             ],
             [
              0.5555555555555556,
              "#d8576b"
             ],
             [
              0.6666666666666666,
              "#ed7953"
             ],
             [
              0.7777777777777778,
              "#fb9f3a"
             ],
             [
              0.8888888888888888,
              "#fdca26"
             ],
             [
              1,
              "#f0f921"
             ]
            ],
            "type": "contour"
           }
          ],
          "contourcarpet": [
           {
            "colorbar": {
             "outlinewidth": 0,
             "ticks": ""
            },
            "type": "contourcarpet"
           }
          ],
          "heatmap": [
           {
            "colorbar": {
             "outlinewidth": 0,
             "ticks": ""
            },
            "colorscale": [
             [
              0,
              "#0d0887"
             ],
             [
              0.1111111111111111,
              "#46039f"
             ],
             [
              0.2222222222222222,
              "#7201a8"
             ],
             [
              0.3333333333333333,
              "#9c179e"
             ],
             [
              0.4444444444444444,
              "#bd3786"
             ],
             [
              0.5555555555555556,
              "#d8576b"
             ],
             [
              0.6666666666666666,
              "#ed7953"
             ],
             [
              0.7777777777777778,
              "#fb9f3a"
             ],
             [
              0.8888888888888888,
              "#fdca26"
             ],
             [
              1,
              "#f0f921"
             ]
            ],
            "type": "heatmap"
           }
          ],
          "heatmapgl": [
           {
            "colorbar": {
             "outlinewidth": 0,
             "ticks": ""
            },
            "colorscale": [
             [
              0,
              "#0d0887"
             ],
             [
              0.1111111111111111,
              "#46039f"
             ],
             [
              0.2222222222222222,
              "#7201a8"
             ],
             [
              0.3333333333333333,
              "#9c179e"
             ],
             [
              0.4444444444444444,
              "#bd3786"
             ],
             [
              0.5555555555555556,
              "#d8576b"
             ],
             [
              0.6666666666666666,
              "#ed7953"
             ],
             [
              0.7777777777777778,
              "#fb9f3a"
             ],
             [
              0.8888888888888888,
              "#fdca26"
             ],
             [
              1,
              "#f0f921"
             ]
            ],
            "type": "heatmapgl"
           }
          ],
          "histogram": [
           {
            "marker": {
             "pattern": {
              "fillmode": "overlay",
              "size": 10,
              "solidity": 0.2
             }
            },
            "type": "histogram"
           }
          ],
          "histogram2d": [
           {
            "colorbar": {
             "outlinewidth": 0,
             "ticks": ""
            },
            "colorscale": [
             [
              0,
              "#0d0887"
             ],
             [
              0.1111111111111111,
              "#46039f"
             ],
             [
              0.2222222222222222,
              "#7201a8"
             ],
             [
              0.3333333333333333,
              "#9c179e"
             ],
             [
              0.4444444444444444,
              "#bd3786"
             ],
             [
              0.5555555555555556,
              "#d8576b"
             ],
             [
              0.6666666666666666,
              "#ed7953"
             ],
             [
              0.7777777777777778,
              "#fb9f3a"
             ],
             [
              0.8888888888888888,
              "#fdca26"
             ],
             [
              1,
              "#f0f921"
             ]
            ],
            "type": "histogram2d"
           }
          ],
          "histogram2dcontour": [
           {
            "colorbar": {
             "outlinewidth": 0,
             "ticks": ""
            },
            "colorscale": [
             [
              0,
              "#0d0887"
             ],
             [
              0.1111111111111111,
              "#46039f"
             ],
             [
              0.2222222222222222,
              "#7201a8"
             ],
             [
              0.3333333333333333,
              "#9c179e"
             ],
             [
              0.4444444444444444,
              "#bd3786"
             ],
             [
              0.5555555555555556,
              "#d8576b"
             ],
             [
              0.6666666666666666,
              "#ed7953"
             ],
             [
              0.7777777777777778,
              "#fb9f3a"
             ],
             [
              0.8888888888888888,
              "#fdca26"
             ],
             [
              1,
              "#f0f921"
             ]
            ],
            "type": "histogram2dcontour"
           }
          ],
          "mesh3d": [
           {
            "colorbar": {
             "outlinewidth": 0,
             "ticks": ""
            },
            "type": "mesh3d"
           }
          ],
          "parcoords": [
           {
            "line": {
             "colorbar": {
              "outlinewidth": 0,
              "ticks": ""
             }
            },
            "type": "parcoords"
           }
          ],
          "pie": [
           {
            "automargin": true,
            "type": "pie"
           }
          ],
          "scatter": [
           {
            "fillpattern": {
             "fillmode": "overlay",
             "size": 10,
             "solidity": 0.2
            },
            "type": "scatter"
           }
          ],
          "scatter3d": [
           {
            "line": {
             "colorbar": {
              "outlinewidth": 0,
              "ticks": ""
             }
            },
            "marker": {
             "colorbar": {
              "outlinewidth": 0,
              "ticks": ""
             }
            },
            "type": "scatter3d"
           }
          ],
          "scattercarpet": [
           {
            "marker": {
             "colorbar": {
              "outlinewidth": 0,
              "ticks": ""
             }
            },
            "type": "scattercarpet"
           }
          ],
          "scattergeo": [
           {
            "marker": {
             "colorbar": {
              "outlinewidth": 0,
              "ticks": ""
             }
            },
            "type": "scattergeo"
           }
          ],
          "scattergl": [
           {
            "marker": {
             "colorbar": {
              "outlinewidth": 0,
              "ticks": ""
             }
            },
            "type": "scattergl"
           }
          ],
          "scattermapbox": [
           {
            "marker": {
             "colorbar": {
              "outlinewidth": 0,
              "ticks": ""
             }
            },
            "type": "scattermapbox"
           }
          ],
          "scatterpolar": [
           {
            "marker": {
             "colorbar": {
              "outlinewidth": 0,
              "ticks": ""
             }
            },
            "type": "scatterpolar"
           }
          ],
          "scatterpolargl": [
           {
            "marker": {
             "colorbar": {
              "outlinewidth": 0,
              "ticks": ""
             }
            },
            "type": "scatterpolargl"
           }
          ],
          "scatterternary": [
           {
            "marker": {
             "colorbar": {
              "outlinewidth": 0,
              "ticks": ""
             }
            },
            "type": "scatterternary"
           }
          ],
          "surface": [
           {
            "colorbar": {
             "outlinewidth": 0,
             "ticks": ""
            },
            "colorscale": [
             [
              0,
              "#0d0887"
             ],
             [
              0.1111111111111111,
              "#46039f"
             ],
             [
              0.2222222222222222,
              "#7201a8"
             ],
             [
              0.3333333333333333,
              "#9c179e"
             ],
             [
              0.4444444444444444,
              "#bd3786"
             ],
             [
              0.5555555555555556,
              "#d8576b"
             ],
             [
              0.6666666666666666,
              "#ed7953"
             ],
             [
              0.7777777777777778,
              "#fb9f3a"
             ],
             [
              0.8888888888888888,
              "#fdca26"
             ],
             [
              1,
              "#f0f921"
             ]
            ],
            "type": "surface"
           }
          ],
          "table": [
           {
            "cells": {
             "fill": {
              "color": "#EBF0F8"
             },
             "line": {
              "color": "white"
             }
            },
            "header": {
             "fill": {
              "color": "#C8D4E3"
             },
             "line": {
              "color": "white"
             }
            },
            "type": "table"
           }
          ]
         },
         "layout": {
          "annotationdefaults": {
           "arrowcolor": "#2a3f5f",
           "arrowhead": 0,
           "arrowwidth": 1
          },
          "autotypenumbers": "strict",
          "coloraxis": {
           "colorbar": {
            "outlinewidth": 0,
            "ticks": ""
           }
          },
          "colorscale": {
           "diverging": [
            [
             0,
             "#8e0152"
            ],
            [
             0.1,
             "#c51b7d"
            ],
            [
             0.2,
             "#de77ae"
            ],
            [
             0.3,
             "#f1b6da"
            ],
            [
             0.4,
             "#fde0ef"
            ],
            [
             0.5,
             "#f7f7f7"
            ],
            [
             0.6,
             "#e6f5d0"
            ],
            [
             0.7,
             "#b8e186"
            ],
            [
             0.8,
             "#7fbc41"
            ],
            [
             0.9,
             "#4d9221"
            ],
            [
             1,
             "#276419"
            ]
           ],
           "sequential": [
            [
             0,
             "#0d0887"
            ],
            [
             0.1111111111111111,
             "#46039f"
            ],
            [
             0.2222222222222222,
             "#7201a8"
            ],
            [
             0.3333333333333333,
             "#9c179e"
            ],
            [
             0.4444444444444444,
             "#bd3786"
            ],
            [
             0.5555555555555556,
             "#d8576b"
            ],
            [
             0.6666666666666666,
             "#ed7953"
            ],
            [
             0.7777777777777778,
             "#fb9f3a"
            ],
            [
             0.8888888888888888,
             "#fdca26"
            ],
            [
             1,
             "#f0f921"
            ]
           ],
           "sequentialminus": [
            [
             0,
             "#0d0887"
            ],
            [
             0.1111111111111111,
             "#46039f"
            ],
            [
             0.2222222222222222,
             "#7201a8"
            ],
            [
             0.3333333333333333,
             "#9c179e"
            ],
            [
             0.4444444444444444,
             "#bd3786"
            ],
            [
             0.5555555555555556,
             "#d8576b"
            ],
            [
             0.6666666666666666,
             "#ed7953"
            ],
            [
             0.7777777777777778,
             "#fb9f3a"
            ],
            [
             0.8888888888888888,
             "#fdca26"
            ],
            [
             1,
             "#f0f921"
            ]
           ]
          },
          "colorway": [
           "#636efa",
           "#EF553B",
           "#00cc96",
           "#ab63fa",
           "#FFA15A",
           "#19d3f3",
           "#FF6692",
           "#B6E880",
           "#FF97FF",
           "#FECB52"
          ],
          "font": {
           "color": "#2a3f5f"
          },
          "geo": {
           "bgcolor": "white",
           "lakecolor": "white",
           "landcolor": "#E5ECF6",
           "showlakes": true,
           "showland": true,
           "subunitcolor": "white"
          },
          "hoverlabel": {
           "align": "left"
          },
          "hovermode": "closest",
          "mapbox": {
           "style": "light"
          },
          "paper_bgcolor": "white",
          "plot_bgcolor": "#E5ECF6",
          "polar": {
           "angularaxis": {
            "gridcolor": "white",
            "linecolor": "white",
            "ticks": ""
           },
           "bgcolor": "#E5ECF6",
           "radialaxis": {
            "gridcolor": "white",
            "linecolor": "white",
            "ticks": ""
           }
          },
          "scene": {
           "xaxis": {
            "backgroundcolor": "#E5ECF6",
            "gridcolor": "white",
            "gridwidth": 2,
            "linecolor": "white",
            "showbackground": true,
            "ticks": "",
            "zerolinecolor": "white"
           },
           "yaxis": {
            "backgroundcolor": "#E5ECF6",
            "gridcolor": "white",
            "gridwidth": 2,
            "linecolor": "white",
            "showbackground": true,
            "ticks": "",
            "zerolinecolor": "white"
           },
           "zaxis": {
            "backgroundcolor": "#E5ECF6",
            "gridcolor": "white",
            "gridwidth": 2,
            "linecolor": "white",
            "showbackground": true,
            "ticks": "",
            "zerolinecolor": "white"
           }
          },
          "shapedefaults": {
           "line": {
            "color": "#2a3f5f"
           }
          },
          "ternary": {
           "aaxis": {
            "gridcolor": "white",
            "linecolor": "white",
            "ticks": ""
           },
           "baxis": {
            "gridcolor": "white",
            "linecolor": "white",
            "ticks": ""
           },
           "bgcolor": "#E5ECF6",
           "caxis": {
            "gridcolor": "white",
            "linecolor": "white",
            "ticks": ""
           }
          },
          "title": {
           "x": 0.05
          },
          "xaxis": {
           "automargin": true,
           "gridcolor": "white",
           "linecolor": "white",
           "ticks": "",
           "title": {
            "standoff": 15
           },
           "zerolinecolor": "white",
           "zerolinewidth": 2
          },
          "yaxis": {
           "automargin": true,
           "gridcolor": "white",
           "linecolor": "white",
           "ticks": "",
           "title": {
            "standoff": 15
           },
           "zerolinecolor": "white",
           "zerolinewidth": 2
          }
         }
        },
        "title": {
         "text": "Stock Price Analysis"
        },
        "xaxis": {
         "autorange": true,
         "range": [
          -1,
          6
         ],
         "rangeslider": {
          "visible": false,
          "yaxis": {}
         }
        },
        "yaxis": {
         "autorange": true,
         "range": [
          -1,
          4
         ]
        }
       }
      },
      "image/png": "[encoded data removed]",
      "text/html": [
       "<div>                            <div id=\"28d3ce15-a331-4fce-86b0-545d188702fc\" class=\"plotly-graph-div\" style=\"height:525px; width:100%;\"></div>            <script type=\"text/javascript\">                require([\"plotly\"], function(Plotly) {                    window.PLOTLYENV=window.PLOTLYENV || {};                                    if (document.getElementById(\"28d3ce15-a331-4fce-86b0-545d188702fc\")) {                    Plotly.newPlot(                        \"28d3ce15-a331-4fce-86b0-545d188702fc\",                        [{\"close\":[71.324997,71.440002,71.2304,71.300003,71.639999,null,null,71.496498,71.314102,71.099998,71.18,71.470001,null,null,71.515503,71.279999,71.275299,71.296204,71.268501,null,null,71.514801,71.349197,71.574997,71.827499,72.110001,null,null,71.886803,72.0467,71.870003,71.663399,71.93,null,null,72.150002,72.824997,73.342003,74.042503,73.855103,null,null,73.9953,74.405998,74.205002,74.760002,75.300003,null,null,73.903999,75.154999,74.012398,74.982002,75.159698,null,null,75.622101,76.505997,77.260002,75.845497,74.725601,null,null,75.464996,75.400002,75.324997,77.57,77.139999,null,null,76.230003,75.964897,76.660004,75.959,76.650002,null,null,76.166496,76.910004,75.931,77.212502,77.57,null,null,76.559998,77.209999,76.969398,76.400002,76.422501,null,null,76.2715,76.186302,76.464996,75.258499,75.720001,null,null,75.600502,75.849998,76.169998,76.151299,76.080002,null,null,75.525002,76.309998,75.68,75.426201,75.485001,null,null,75.82,75.600098,76.0,75.779999,75.625,null,null,75.985001,76.110001,75.82,76.129997,75.959999,null,null,75.513199,75.730003,75.065804,75.544998,75.490898,null,null,75.5177,75.625,75.509804,75.875,76.389999,null,null,75.956802,75.977997,76.654999,76.550003,76.400398,null,null,76.252098,75.789803,75.607803,75.970001,75.539803,null,null,75.619797,75.699997,75.75,75.454903,74.721001,null,null,74.679298,74.607597,75.125,74.939903,75.339996,null,null,75.158501,75.449997,75.574997,75.124901,75.1745,null,null,74.897301,74.989998,74.769997,74.82,74.807297,null,null,74.759804,75.0,75.089996,74.8312,74.989998,null,null,74.917801,75.330002,75.25,74.882202,74.899803,null,null,75.024803,75.099998,74.900002,74.772102,75.029999,null,null,74.902802,75.0,74.794998,74.966797,74.999901,null,null,74.921799,74.400002,74.452499,74.240097,73.774498,null,null,73.128304,73.669998,73.269997,73.248497,73.447899,null,null,73.290298,73.650002,73.786797,73.550003,73.527298,null,null,73.4786,73.614998,73.800003,73.550697,73.583603,null,null,73.534798,73.579803,73.502998,73.778397,73.682404,null,null,73.699303,73.974998,73.845001,73.705002,73.217003,null,null,73.322403,73.108299,73.815002,73.542503,73.280502,null,null,73.014801,73.3508,73.620003,73.296204,73.371002,null,null,73.443802,73.574997,73.647499,73.681297,73.720001,null,null,73.822899,73.948502,73.805,74.440002,74.264,null,null,74.550499,74.456802,74.655602,74.379997,74.120003,null,null,73.979797,73.953201,74.281601,74.57,74.864998,null,null,74.487701,74.418098,74.479698,74.419998,74.099602,null,null,74.162399,74.244904,73.9608,73.7799,74.048798,null,null,73.940903,74.0252,73.654999,73.662598,73.864899,null,null,73.790298,74.019997,73.726402,73.934998,73.7267,null,null,73.737999,73.860001,73.759804,73.6166,73.5298,null,null,73.6036,73.935303,74.269997,73.839798,73.5578,null,null,73.689003,73.544899,73.453598,73.134003,73.089203,null,null,73.092003,73.32,73.374802,73.360001,73.445999,null,null,73.373398,73.513496,73.165001,73.169899,73.087601,null,null,73.158997,73.188698,73.191902,72.910896,72.954903,null,null,72.995903,72.970001],\"high\":[71.635002,71.654999,71.425003,71.711998,71.639999,null,null,71.699997,71.514999,71.279999,71.397499,71.570999,null,null,71.508003,71.470001,71.474998,71.491898,71.596001,null,null,71.5177,71.613503,71.815002,71.919502,72.110001,null,null,72.355003,72.294998,72.137497,71.952499,72.815002,null,null,73.387497,73.599998,74.037498,74.080002,74.440002,null,null,75.0625,75.144997,74.404999,75.379997,75.434998,null,null,75.122498,75.154999,74.989502,75.571999,76.230003,null,null,77.754997,77.75,77.474998,77.095001,76.25,null,null,76.379997,76.482498,77.377602,77.57,77.504997,null,null,77.379997,77.114998,77.199997,77.199997,76.68,null,null,76.952499,76.962502,76.709503,77.510002,77.57,null,null,77.315002,77.614998,77.684998,76.995003,76.800003,null,null,76.785004,76.654999,76.464996,75.75,76.144997,null,null,75.805,76.115799,76.169998,76.550003,76.080002,null,null,76.260002,76.309998,75.68,75.730003,76.185501,null,null,76.092003,76.040001,76.0,75.919998,76.209503,null,null,76.129501,76.110001,76.0,76.129997,75.959999,null,null,75.769997,75.730003,75.684998,75.635002,75.792503,null,null,75.739998,75.691002,75.7799,76.196999,76.389999,null,null,76.220001,76.283798,76.654999,76.550003,76.635002,null,null,76.453499,76.119797,75.839996,75.970001,75.745003,null,null,75.6418,75.699997,75.75,75.677498,74.989998,null,null,74.807999,74.962997,75.125,75.1567,75.355003,null,null,75.434998,75.510498,75.574997,75.349998,75.419998,null,null,75.150002,74.994003,74.833099,74.925598,75.099998,null,null,74.983498,75.0,75.089996,75.019997,74.989998,null,null,75.298401,75.364998,75.25,75.099998,75.1092,null,null,75.246002,75.099998,74.924004,74.997498,75.029999,null,null,75.080002,75.0,75.057503,75.199997,75.190002,null,null,74.921799,74.639297,74.452499,74.459999,73.970001,null,null,73.885002,73.669998,73.370003,73.711304,73.669998,null,null,73.506798,73.957802,74.050003,73.550003,73.75,null,null,73.7024,73.723,73.800003,73.788101,73.779999,null,null,73.649597,73.650002,73.800003,74.222,73.910004,null,null,73.870003,73.974998,73.856499,73.705002,73.532997,null,null,73.398003,73.488998,73.815002,73.546501,73.497299,null,null,73.4132,73.504997,73.620003,73.5187,73.57,null,null,73.595001,73.574997,73.784203,73.884003,73.8853,null,null,74.114304,74.137497,74.251999,74.524696,74.702003,null,null,74.707603,74.684799,75.000999,74.407303,74.278503,null,null,74.167999,74.465797,74.537903,74.759003,74.887299,null,null,74.589798,74.608902,74.704803,74.442299,74.339203,null,null,74.406303,74.249001,74.169998,74.070503,74.268501,null,null,74.198502,74.172897,73.813797,73.953201,74.087303,null,null,73.947998,74.0373,73.939796,73.934998,73.922501,null,null,73.780998,73.900299,73.795998,73.824799,73.754799,null,null,74.092003,74.202301,74.269997,74.099998,73.800003,null,null,73.734802,73.767303,73.664803,73.349998,73.319801,null,null,73.200996,73.329803,73.360001,73.467003,73.739799,null,null,73.584198,73.778999,73.414001,73.353996,73.378098,null,null,73.419998,73.307999,73.192299,73.045303,73.237503,null,null,73.220001,73.222],\"low\":[71.32,71.178001,71.168503,71.300003,71.277496,null,null,71.265503,71.084999,71.099899,71.121002,71.177498,null,null,71.259003,71.171501,71.064003,71.235802,71.256401,null,null,71.268997,71.330002,71.420998,71.547401,71.669998,null,null,71.766998,71.593002,71.525597,71.535004,71.627502,null,null,71.952499,72.342499,72.894997,73.050003,73.496498,null,null,73.862503,73.735497,73.404503,73.994499,73.699501,null,null,73.7575,73.580002,73.705002,74.411003,74.154999,null,null,75.275002,75.012497,75.849998,74.769501,73.989998,null,null,74.989998,75.134499,75.324997,76.010002,75.75,null,null,75.904503,75.251999,75.572502,75.747498,75.807503,null,null,75.9925,75.939499,75.921303,76.472,76.247002,null,null,76.311302,76.4963,76.384499,75.672501,75.839996,null,null,75.887497,75.790398,75.412003,74.805,75.072998,null,null,75.352501,75.379997,75.590302,75.709503,75.260002,null,null,75.039497,75.041298,75.043999,75.341003,75.319298,null,null,75.612396,75.527496,75.462997,75.416,75.610001,null,null,75.7575,75.404999,75.381302,75.634499,75.4263,null,null,75.235497,74.982803,74.914398,75.281898,75.309402,null,null,75.388802,75.391899,75.3769,75.5,75.767502,null,null,75.894997,75.745003,76.094498,76.001503,76.105499,null,null,75.738503,75.472,75.466003,75.519798,75.430496,null,null,75.4319,75.388496,75.474998,74.607498,74.544502,null,null,74.430298,74.540298,74.8125,74.847801,75.056702,null,null,75.070503,75.2118,75.043297,75.085999,74.916,null,null,74.747002,74.507401,74.4646,74.572304,74.6847,null,null,74.513496,74.648499,74.683998,74.750504,74.613503,null,null,74.835999,74.973,74.771301,74.768997,74.875999,null,null,74.856003,74.515999,74.619797,74.744003,74.7285,null,null,74.662399,74.570297,74.575302,74.847198,74.822998,null,null,73.925301,74.046997,74.185997,73.763901,73.095802,null,null,73.0345,72.718498,72.889297,72.893501,73.010803,null,null,73.018997,73.392998,73.082497,73.012001,73.363998,null,null,73.244003,73.288498,73.463799,73.398003,73.172997,null,null,73.278,73.388,73.438004,73.563004,73.561501,null,null,73.519302,73.603996,73.524399,73.027,73.139999,null,null,73.047096,73.043999,73.080002,73.194,72.976997,null,null,72.933998,73.245598,73.2052,73.202003,73.272697,null,null,73.283997,73.294998,73.359001,73.472801,73.473,null,null,73.690002,73.613998,73.642998,73.932999,74.031998,null,null,74.274002,74.245003,74.278801,73.845802,73.863998,null,null,73.643097,73.877998,74.108002,74.365997,74.466103,null,null,74.379303,74.326797,74.035202,74.119797,74.072998,null,null,74.002998,73.884399,73.748802,73.738899,73.746201,null,null,73.879097,73.464996,73.398003,73.630402,73.659698,null,null,73.631798,73.542,73.530998,73.624001,73.536499,null,null,73.470001,73.502197,73.458603,73.384697,73.471001,null,null,73.512802,73.786697,73.6464,73.450798,73.550003,null,null,73.4562,73.287201,73.101601,72.946602,73.025002,null,null,72.7985,72.963501,73.040001,73.063004,73.196198,null,null,73.340302,73.202003,73.062798,72.939003,73.002502,null,null,73.123001,73.098999,72.8993,72.883003,72.929001,null,null,72.877998,72.774498],\"open\":[71.32,71.654999,71.230103,71.300003,71.639999,null,null,71.544998,71.314102,71.100403,71.181,71.470001,null,null,71.504997,71.470001,71.275497,71.296501,71.268501,null,null,71.5177,71.349297,71.790001,71.632896,72.110001,null,null,71.870003,72.0467,71.870003,71.663399,71.93,null,null,72.528999,72.4235,73.342003,74.042503,73.855103,null,null,73.9953,75.144997,74.205002,74.760002,74.436096,null,null,73.830002,75.154999,74.012398,74.982002,76.120003,null,null,75.388496,76.505997,77.260002,77.095001,74.725601,null,null,75.464996,75.400101,76.110001,76.585503,77.139999,null,null,76.230003,75.964897,76.660004,75.959,76.650002,null,null,76.166496,76.910004,75.931,76.500099,76.858902,null,null,76.559998,76.5924,77.684998,76.995003,76.422501,null,null,76.2715,76.654999,76.464996,75.610001,75.720001,null,null,75.591003,75.629997,76.169998,76.550003,76.080002,null,null,75.525002,75.927597,75.3685,75.4272,75.485001,null,null,75.82,75.599998,75.699997,75.779999,75.625,null,null,75.985001,75.873596,75.489502,75.885696,75.959999,null,null,75.513199,75.730003,75.275002,75.327698,75.4832,null,null,75.5177,75.399803,75.509697,75.875,76.389999,null,null,75.956902,76.097504,76.403702,76.289803,76.483101,null,null,76.257301,76.0,75.839996,75.970001,75.542,null,null,75.619797,75.518799,75.556999,75.677498,74.875,null,null,74.679298,74.607498,75.125,74.920998,75.339996,null,null,75.194298,75.449997,75.574997,75.124901,75.419998,null,null,74.8974,74.989998,74.769997,74.82,75.044998,null,null,74.725601,75.0,75.089996,74.8312,74.783798,null,null,74.9179,75.330002,75.25,75.099998,74.899803,null,null,75.026901,75.099998,74.900002,74.997498,75.029999,null,null,74.902802,75.0,74.794998,75.18,75.190002,null,null,74.921799,74.400002,74.452499,74.459999,73.970001,null,null,73.128403,73.669998,73.269997,73.459999,73.667503,null,null,73.290298,73.650002,73.786797,73.550003,73.75,null,null,73.478699,73.384003,73.6101,73.764999,73.779999,null,null,73.534798,73.579803,73.502899,74.010002,73.910004,null,null,73.699402,73.764801,73.654999,73.705002,73.419998,null,null,73.322502,73.115799,73.815002,73.542503,73.280502,null,null,73.0149,73.3508,73.418297,73.4925,73.57,null,null,73.443802,73.3937,73.479698,73.724998,73.720001,null,null,73.834,74.137497,73.814903,74.440002,74.264,null,null,74.707298,74.456802,74.849998,74.190498,74.120003,null,null,73.9758,74.139999,74.472504,74.624802,74.6717,null,null,74.589798,74.550003,74.480103,74.419998,74.099602,null,null,74.119797,74.244499,73.9608,73.7799,74.048798,null,null,73.935303,74.0252,73.6698,73.662598,73.939003,null,null,73.790298,73.809898,73.832298,73.817299,73.7267,null,null,73.737999,73.860001,73.759804,73.824799,73.604797,null,null,73.6036,73.935303,74.005501,73.839798,73.5578,null,null,73.689003,73.544899,73.654999,73.134003,73.089203,null,null,73.092003,73.091499,73.167999,73.374802,73.730003,null,null,73.373398,73.778999,73.414001,73.169998,73.089996,null,null,73.158997,73.189201,73.192001,72.907898,72.954903,null,null,72.995903,72.970001],\"x\":[],\"type\":\"candlestick\"}],                        {\"template\":{\"data\":{\"histogram2dcontour\":[{\"type\":\"histogram2dcontour\",\"colorbar\":{\"outlinewidth\":0,\"ticks\":\"\"},\"colorscale\":[[0.0,\"#0d0887\"],[0.1111111111111111,\"#46039f\"],[0.2222222222222222,\"#7201a8\"],[0.3333333333333333,\"#9c179e\"],[0.4444444444444444,\"#bd3786\"],[0.5555555555555556,\"#d8576b\"],[0.6666666666666666,\"#ed7953\"],[0.7777777777777778,\"#fb9f3a\"],[0.8888888888888888,\"#fdca26\"],[1.0,\"#f0f921\"]]}],\"choropleth\":[{\"type\":\"choropleth\",\"colorbar\":{\"outlinewidth\":0,\"ticks\":\"\"}}],\"histogram2d\":[{\"type\":\"histogram2d\",\"colorbar\":{\"outlinewidth\":0,\"ticks\":\"\"},\"colorscale\":[[0.0,\"#0d0887\"],[0.1111111111111111,\"#46039f\"],[0.2222222222222222,\"#7201a8\"],[0.3333333333333333,\"#9c179e\"],[0.4444444444444444,\"#bd3786\"],[0.5555555555555556,\"#d8576b\"],[0.6666666666666666,\"#ed7953\"],[0.7777777777777778,\"#fb9f3a\"],[0.8888888888888888,\"#fdca26\"],[1.0,\"#f0f921\"]]}],\"heatmap\":[{\"type\":\"heatmap\",\"colorbar\":{\"outlinewidth\":0,\"ticks\":\"\"},\"colorscale\":[[0.0,\"#0d0887\"],[0.1111111111111111,\"#46039f\"],[0.2222222222222222,\"#7201a8\"],[0.3333333333333333,\"#9c179e\"],[0.4444444444444444,\"#bd3786\"],[0.5555555555555556,\"#d8576b\"],[0.6666666666666666,\"#ed7953\"],[0.7777777777777778,\"#fb9f3a\"],[0.8888888888888888,\"#fdca26\"],[1.0,\"#f0f921\"]]}],\"heatmapgl\":[{\"type\":\"heatmapgl\",\"colorbar\":{\"outlinewidth\":0,\"ticks\":\"\"},\"colorscale\":[[0.0,\"#0d0887\"],[0.1111111111111111,\"#46039f\"],[0.2222222222222222,\"#7201a8\"],[0.3333333333333333,\"#9c179e\"],[0.4444444444444444,\"#bd3786\"],[0.5555555555555556,\"#d8576b\"],[0.6666666666666666,\"#ed7953\"],[0.7777777777777778,\"#fb9f3a\"],[0.8888888888888888,\"#fdca26\"],[1.0,\"#f0f921\"]]}],\"contourcarpet\":[{\"type\":\"contourcarpet\",\"colorbar\":{\"outlinewidth\":0,\"ticks\":\"\"}}],\"contour\":[{\"type\":\"contour\",\"colorbar\":{\"outlinewidth\":0,\"ticks\":\"\"},\"colorscale\":[[0.0,\"#0d0887\"],[0.1111111111111111,\"#46039f\"],[0.2222222222222222,\"#7201a8\"],[0.3333333333333333,\"#9c179e\"],[0.4444444444444444,\"#bd3786\"],[0.5555555555555556,\"#d8576b\"],[0.6666666666666666,\"#ed7953\"],[0.7777777777777778,\"#fb9f3a\"],[0.8888888888888888,\"#fdca26\"],[1.0,\"#f0f921\"]]}],\"surface\":[{\"type\":\"surface\",\"colorbar\":{\"outlinewidth\":0,\"ticks\":\"\"},\"colorscale\":[[0.0,\"#0d0887\"],[0.1111111111111111,\"#46039f\"],[0.2222222222222222,\"#7201a8\"],[0.3333333333333333,\"#9c179e\"],[0.4444444444444444,\"#bd3786\"],[0.5555555555555556,\"#d8576b\"],[0.6666666666666666,\"#ed7953\"],[0.7777777777777778,\"#fb9f3a\"],[0.8888888888888888,\"#fdca26\"],[1.0,\"#f0f921\"]]}],\"mesh3d\":[{\"type\":\"mesh3d\",\"colorbar\":{\"outlinewidth\":0,\"ticks\":\"\"}}],\"scatter\":[{\"fillpattern\":{\"fillmode\":\"overlay\",\"size\":10,\"solidity\":0.2},\"type\":\"scatter\"}],\"parcoords\":[{\"type\":\"parcoords\",\"line\":{\"colorbar\":{\"outlinewidth\":0,\"ticks\":\"\"}}}],\"scatterpolargl\":[{\"type\":\"scatterpolargl\",\"marker\":{\"colorbar\":{\"outlinewidth\":0,\"ticks\":\"\"}}}],\"bar\":[{\"error_x\":{\"color\":\"#2a3f5f\"},\"error_y\":{\"color\":\"#2a3f5f\"},\"marker\":{\"line\":{\"color\":\"#E5ECF6\",\"width\":0.5},\"pattern\":{\"fillmode\":\"overlay\",\"size\":10,\"solidity\":0.2}},\"type\":\"bar\"}],\"scattergeo\":[{\"type\":\"scattergeo\",\"marker\":{\"colorbar\":{\"outlinewidth\":0,\"ticks\":\"\"}}}],\"scatterpolar\":[{\"type\":\"scatterpolar\",\"marker\":{\"colorbar\":{\"outlinewidth\":0,\"ticks\":\"\"}}}],\"histogram\":[{\"marker\":{\"pattern\":{\"fillmode\":\"overlay\",\"size\":10,\"solidity\":0.2}},\"type\":\"histogram\"}],\"scattergl\":[{\"type\":\"scattergl\",\"marker\":{\"colorbar\":{\"outlinewidth\":0,\"ticks\":\"\"}}}],\"scatter3d\":[{\"type\":\"scatter3d\",\"line\":{\"colorbar\":{\"outlinewidth\":0,\"ticks\":\"\"}},\"marker\":{\"colorbar\":{\"outlinewidth\":0,\"ticks\":\"\"}}}],\"scattermapbox\":[{\"type\":\"scattermapbox\",\"marker\":{\"colorbar\":{\"outlinewidth\":0,\"ticks\":\"\"}}}],\"scatterternary\":[{\"type\":\"scatterternary\",\"marker\":{\"colorbar\":{\"outlinewidth\":0,\"ticks\":\"\"}}}],\"scattercarpet\":[{\"type\":\"scattercarpet\",\"marker\":{\"colorbar\":{\"outlinewidth\":0,\"ticks\":\"\"}}}],\"carpet\":[{\"aaxis\":{\"endlinecolor\":\"#2a3f5f\",\"gridcolor\":\"white\",\"linecolor\":\"white\",\"minorgridcolor\":\"white\",\"startlinecolor\":\"#2a3f5f\"},\"baxis\":{\"endlinecolor\":\"#2a3f5f\",\"gridcolor\":\"white\",\"linecolor\":\"white\",\"minorgridcolor\":\"white\",\"startlinecolor\":\"#2a3f5f\"},\"type\":\"carpet\"}],\"table\":[{\"cells\":{\"fill\":{\"color\":\"#EBF0F8\"},\"line\":{\"color\":\"white\"}},\"header\":{\"fill\":{\"color\":\"#C8D4E3\"},\"line\":{\"color\":\"white\"}},\"type\":\"table\"}],\"barpolar\":[{\"marker\":{\"line\":{\"color\":\"#E5ECF6\",\"width\":0.5},\"pattern\":{\"fillmode\":\"overlay\",\"size\":10,\"solidity\":0.2}},\"type\":\"barpolar\"}],\"pie\":[{\"automargin\":true,\"type\":\"pie\"}]},\"layout\":{\"autotypenumbers\":\"strict\",\"colorway\":[\"#636efa\",\"#EF553B\",\"#00cc96\",\"#ab63fa\",\"#FFA15A\",\"#19d3f3\",\"#FF6692\",\"#B6E880\",\"#FF97FF\",\"#FECB52\"],\"font\":{\"color\":\"#2a3f5f\"},\"hovermode\":\"closest\",\"hoverlabel\":{\"align\":\"left\"},\"paper_bgcolor\":\"white\",\"plot_bgcolor\":\"#E5ECF6\",\"polar\":{\"bgcolor\":\"#E5ECF6\",\"angularaxis\":{\"gridcolor\":\"white\",\"linecolor\":\"white\",\"ticks\":\"\"},\"radialaxis\":{\"gridcolor\":\"white\",\"linecolor\":\"white\",\"ticks\":\"\"}},\"ternary\":{\"bgcolor\":\"#E5ECF6\",\"aaxis\":{\"gridcolor\":\"white\",\"linecolor\":\"white\",\"ticks\":\"\"},\"baxis\":{\"gridcolor\":\"white\",\"linecolor\":\"white\",\"ticks\":\"\"},\"caxis\":{\"gridcolor\":\"white\",\"linecolor\":\"white\",\"ticks\":\"\"}},\"coloraxis\":{\"colorbar\":{\"outlinewidth\":0,\"ticks\":\"\"}},\"colorscale\":{\"sequential\":[[0.0,\"#0d0887\"],[0.1111111111111111,\"#46039f\"],[0.2222222222222222,\"#7201a8\"],[0.3333333333333333,\"#9c179e\"],[0.4444444444444444,\"#bd3786\"],[0.5555555555555556,\"#d8576b\"],[0.6666666666666666,\"#ed7953\"],[0.7777777777777778,\"#fb9f3a\"],[0.8888888888888888,\"#fdca26\"],[1.0,\"#f0f921\"]],\"sequentialminus\":[[0.0,\"#0d0887\"],[0.1111111111111111,\"#46039f\"],[0.2222222222222222,\"#7201a8\"],[0.3333333333333333,\"#9c179e\"],[0.4444444444444444,\"#bd3786\"],[0.5555555555555556,\"#d8576b\"],[0.6666666666666666,\"#ed7953\"],[0.7777777777777778,\"#fb9f3a\"],[0.8888888888888888,\"#fdca26\"],[1.0,\"#f0f921\"]],\"diverging\":[[0,\"#8e0152\"],[0.1,\"#c51b7d\"],[0.2,\"#de77ae\"],[0.3,\"#f1b6da\"],[0.4,\"#fde0ef\"],[0.5,\"#f7f7f7\"],[0.6,\"#e6f5d0\"],[0.7,\"#b8e186\"],[0.8,\"#7fbc41\"],[0.9,\"#4d9221\"],[1,\"#276419\"]]},\"xaxis\":{\"gridcolor\":\"white\",\"linecolor\":\"white\",\"ticks\":\"\",\"title\":{\"standoff\":15},\"zerolinecolor\":\"white\",\"automargin\":true,\"zerolinewidth\":2},\"yaxis\":{\"gridcolor\":\"white\",\"linecolor\":\"white\",\"ticks\":\"\",\"title\":{\"standoff\":15},\"zerolinecolor\":\"white\",\"automargin\":true,\"zerolinewidth\":2},\"scene\":{\"xaxis\":{\"backgroundcolor\":\"#E5ECF6\",\"gridcolor\":\"white\",\"linecolor\":\"white\",\"showbackground\":true,\"ticks\":\"\",\"zerolinecolor\":\"white\",\"gridwidth\":2},\"yaxis\":{\"backgroundcolor\":\"#E5ECF6\",\"gridcolor\":\"white\",\"linecolor\":\"white\",\"showbackground\":true,\"ticks\":\"\",\"zerolinecolor\":\"white\",\"gridwidth\":2},\"zaxis\":{\"backgroundcolor\":\"#E5ECF6\",\"gridcolor\":\"white\",\"linecolor\":\"white\",\"showbackground\":true,\"ticks\":\"\",\"zerolinecolor\":\"white\",\"gridwidth\":2}},\"shapedefaults\":{\"line\":{\"color\":\"#2a3f5f\"}},\"annotationdefaults\":{\"arrowcolor\":\"#2a3f5f\",\"arrowhead\":0,\"arrowwidth\":1},\"geo\":{\"bgcolor\":\"white\",\"landcolor\":\"#E5ECF6\",\"subunitcolor\":\"white\",\"showland\":true,\"showlakes\":true,\"lakecolor\":\"white\"},\"title\":{\"x\":0.05},\"mapbox\":{\"style\":\"light\"}}},\"xaxis\":{\"rangeslider\":{\"visible\":false}},\"title\":{\"text\":\"Stock Price Analysis\"}},                        {\"responsive\": true}                    ).then(function(){\n",
       "                            \n",
       "var gd = document.getElementById('28d3ce15-a331-4fce-86b0-545d188702fc');\n",
       "var x = new MutationObserver(function (mutations, observer) {{\n",
       "        var display = window.getComputedStyle(gd).display;\n",
       "        if (!display || display === 'none') {{\n",
       "            console.log([gd, 'removed!']);\n",
       "            Plotly.purge(gd);\n",
       "            observer.disconnect();\n",
       "        }}\n",
       "}});\n",
       "\n",
       "// Listen for the removal of the full notebook cells\n",
       "var notebookContainer = gd.closest('#notebook-container');\n",
       "if (notebookContainer) {{\n",
       "    x.observe(notebookContainer, {childList: true});\n",
       "}}\n",
       "\n",
       "// Listen for the clearing of the current output cell\n",
       "var outputEl = gd.closest('.output');\n",
       "if (outputEl) {{\n",
       "    x.observe(outputEl, {childList: true});\n",
       "}}\n",
       "\n",
       "                        })                };                });            </script>        </div>"
      ]
     },
     "metadata": {},
     "output_type": "display_data"
    }
   ],
   "source": [
    "import plotly.graph_objects as go\n",
    "\n",
    "figure = go.Figure(data=[go.Candlestick(x=df_2.loc['2024-01-02':'2024-01-05'], open=df_2[\"Open\"], high=df_2[\"High\"], low=df_2[\"Low\"], close=df_2[\"Close\"])])\n",
    "figure.update_layout(title = \"Stock Price Analysis\", xaxis_rangeslider_visible=False)\n",
    "figure.show()"
   ]
  },
  {
   "cell_type": "markdown",
   "id": "e87e9c58-3b69-4e9f-9f80-1cd9fbfc5709",
   "metadata": {},
   "source": [
    "## Statistical plots, customization, best practices"
   ]
  },
  {
   "cell_type": "code",
   "execution_count": 68,
   "id": "9472a7b3-8a4c-45cd-a196-3aac5db9a54a",
   "metadata": {},
   "outputs": [
    {
     "data": {
      "text/html": [
       "<div>\n",
       "<style scoped>\n",
       "    .dataframe tbody tr th:only-of-type {\n",
       "        vertical-align: middle;\n",
       "    }\n",
       "\n",
       "    .dataframe tbody tr th {\n",
       "        vertical-align: top;\n",
       "    }\n",
       "\n",
       "    .dataframe thead th {\n",
       "        text-align: right;\n",
       "    }\n",
       "</style>\n",
       "<table border=\"1\" class=\"dataframe\">\n",
       "  <thead>\n",
       "    <tr style=\"text-align: right;\">\n",
       "      <th></th>\n",
       "      <th>PassengerId</th>\n",
       "      <th>Survived</th>\n",
       "      <th>Pclass</th>\n",
       "      <th>Name</th>\n",
       "      <th>Sex</th>\n",
       "      <th>Age</th>\n",
       "      <th>SibSp</th>\n",
       "      <th>Parch</th>\n",
       "      <th>Ticket</th>\n",
       "      <th>Fare</th>\n",
       "      <th>Cabin</th>\n",
       "      <th>Embarked</th>\n",
       "    </tr>\n",
       "  </thead>\n",
       "  <tbody>\n",
       "    <tr>\n",
       "      <th>0</th>\n",
       "      <td>1</td>\n",
       "      <td>0</td>\n",
       "      <td>3</td>\n",
       "      <td>Braund, Mr. Owen Harris</td>\n",
       "      <td>male</td>\n",
       "      <td>22.0</td>\n",
       "      <td>1</td>\n",
       "      <td>0</td>\n",
       "      <td>A/5 21171</td>\n",
       "      <td>7.2500</td>\n",
       "      <td>NaN</td>\n",
       "      <td>S</td>\n",
       "    </tr>\n",
       "    <tr>\n",
       "      <th>1</th>\n",
       "      <td>2</td>\n",
       "      <td>1</td>\n",
       "      <td>1</td>\n",
       "      <td>Cumings, Mrs. John Bradley (Florence Briggs Th...</td>\n",
       "      <td>female</td>\n",
       "      <td>38.0</td>\n",
       "      <td>1</td>\n",
       "      <td>0</td>\n",
       "      <td>PC 17599</td>\n",
       "      <td>71.2833</td>\n",
       "      <td>C85</td>\n",
       "      <td>C</td>\n",
       "    </tr>\n",
       "    <tr>\n",
       "      <th>2</th>\n",
       "      <td>3</td>\n",
       "      <td>1</td>\n",
       "      <td>3</td>\n",
       "      <td>Heikkinen, Miss. Laina</td>\n",
       "      <td>female</td>\n",
       "      <td>26.0</td>\n",
       "      <td>0</td>\n",
       "      <td>0</td>\n",
       "      <td>STON/O2. 3101282</td>\n",
       "      <td>7.9250</td>\n",
       "      <td>NaN</td>\n",
       "      <td>S</td>\n",
       "    </tr>\n",
       "    <tr>\n",
       "      <th>3</th>\n",
       "      <td>4</td>\n",
       "      <td>1</td>\n",
       "      <td>1</td>\n",
       "      <td>Futrelle, Mrs. Jacques Heath (Lily May Peel)</td>\n",
       "      <td>female</td>\n",
       "      <td>35.0</td>\n",
       "      <td>1</td>\n",
       "      <td>0</td>\n",
       "      <td>113803</td>\n",
       "      <td>53.1000</td>\n",
       "      <td>C123</td>\n",
       "      <td>S</td>\n",
       "    </tr>\n",
       "    <tr>\n",
       "      <th>4</th>\n",
       "      <td>5</td>\n",
       "      <td>0</td>\n",
       "      <td>3</td>\n",
       "      <td>Allen, Mr. William Henry</td>\n",
       "      <td>male</td>\n",
       "      <td>35.0</td>\n",
       "      <td>0</td>\n",
       "      <td>0</td>\n",
       "      <td>373450</td>\n",
       "      <td>8.0500</td>\n",
       "      <td>NaN</td>\n",
       "      <td>S</td>\n",
       "    </tr>\n",
       "  </tbody>\n",
       "</table>\n",
       "</div>"
      ],
      "text/plain": [
       "   PassengerId  Survived  Pclass  \\\n",
       "0            1         0       3   \n",
       "1            2         1       1   \n",
       "2            3         1       3   \n",
       "3            4         1       1   \n",
       "4            5         0       3   \n",
       "\n",
       "                                                Name     Sex   Age  SibSp  \\\n",
       "0                            Braund, Mr. Owen Harris    male  22.0      1   \n",
       "1  Cumings, Mrs. John Bradley (Florence Briggs Th...  female  38.0      1   \n",
       "2                             Heikkinen, Miss. Laina  female  26.0      0   \n",
       "3       Futrelle, Mrs. Jacques Heath (Lily May Peel)  female  35.0      1   \n",
       "4                           Allen, Mr. William Henry    male  35.0      0   \n",
       "\n",
       "   Parch            Ticket     Fare Cabin Embarked  \n",
       "0      0         A/5 21171   7.2500   NaN        S  \n",
       "1      0          PC 17599  71.2833   C85        C  \n",
       "2      0  STON/O2. 3101282   7.9250   NaN        S  \n",
       "3      0            113803  53.1000  C123        S  \n",
       "4      0            373450   8.0500   NaN        S  "
      ]
     },
     "execution_count": 68,
     "metadata": {},
     "output_type": "execute_result"
    }
   ],
   "source": [
    "df_3 = pd.read_csv(\"C:\\\\Users\\\\Kolade\\\\Documents\\\\Datasets\\\\titanic\\\\train.csv\")\n",
    "df_3.head()\n",
    "\n",
    "# Use titanic\n",
    "# pet adoption\n",
    "# stock price"
   ]
  },
  {
   "cell_type": "code",
   "execution_count": 73,
   "id": "423af243-a9ba-4951-b087-4d18dc49c150",
   "metadata": {},
   "outputs": [
    {
     "name": "stdout",
     "output_type": "stream",
     "text": [
      "<class 'pandas.core.frame.DataFrame'>\n",
      "RangeIndex: 891 entries, 0 to 890\n",
      "Data columns (total 12 columns):\n",
      " #   Column       Non-Null Count  Dtype  \n",
      "---  ------       --------------  -----  \n",
      " 0   PassengerId  891 non-null    int64  \n",
      " 1   Survived     891 non-null    int64  \n",
      " 2   Pclass       891 non-null    int64  \n",
      " 3   Name         891 non-null    object \n",
      " 4   Sex          891 non-null    object \n",
      " 5   Age          714 non-null    float64\n",
      " 6   SibSp        891 non-null    int64  \n",
      " 7   Parch        891 non-null    int64  \n",
      " 8   Ticket       891 non-null    object \n",
      " 9   Fare         891 non-null    float64\n",
      " 10  Cabin        204 non-null    object \n",
      " 11  Embarked     889 non-null    object \n",
      "dtypes: float64(2), int64(5), object(5)\n",
      "memory usage: 83.7+ KB\n"
     ]
    }
   ],
   "source": [
    "df_3.info()"
   ]
  },
  {
   "cell_type": "code",
   "execution_count": 102,
   "id": "89ee446e-1a7a-4fde-a562-6b1487042cc6",
   "metadata": {},
   "outputs": [
    {
     "data": {
      "text/plain": [
       "Index(['PassengerId', 'Survived', 'Pclass', 'Name', 'Sex', 'Age', 'SibSp',\n",
       "       'Parch', 'Ticket', 'Fare', 'Cabin', 'Embarked'],\n",
       "      dtype='object')"
      ]
     },
     "execution_count": 102,
     "metadata": {},
     "output_type": "execute_result"
    }
   ],
   "source": [
    "df_3.columns"
   ]
  },
  {
   "cell_type": "code",
   "execution_count": 104,
   "id": "769b8348-8379-4de5-a14a-d8630f3371f3",
   "metadata": {},
   "outputs": [
    {
     "name": "stdout",
     "output_type": "stream",
     "text": [
      "<class 'pandas.core.frame.DataFrame'>\n",
      "RangeIndex: 891 entries, 0 to 890\n",
      "Data columns (total 12 columns):\n",
      " #   Column       Non-Null Count  Dtype  \n",
      "---  ------       --------------  -----  \n",
      " 0   PassengerId  891 non-null    int64  \n",
      " 1   Survived     891 non-null    int64  \n",
      " 2   Pclass       891 non-null    int64  \n",
      " 3   Name         891 non-null    object \n",
      " 4   Sex          891 non-null    object \n",
      " 5   Age          714 non-null    float64\n",
      " 6   SibSp        891 non-null    int64  \n",
      " 7   Parch        891 non-null    int64  \n",
      " 8   Ticket       891 non-null    object \n",
      " 9   Fare         891 non-null    float64\n",
      " 10  Cabin        891 non-null    object \n",
      " 11  Embarked     889 non-null    object \n",
      "dtypes: float64(2), int64(5), object(5)\n",
      "memory usage: 83.7+ KB\n"
     ]
    }
   ],
   "source": [
    "df_3['Cabin'] = df_3['Cabin'].fillna('Unknown')\n",
    "df_3.info()"
   ]
  },
  {
   "cell_type": "code",
   "execution_count": 105,
   "id": "f1ec9d68-7f79-4d4e-9c93-de5033ac4b62",
   "metadata": {},
   "outputs": [
    {
     "name": "stdout",
     "output_type": "stream",
     "text": [
      "<class 'pandas.core.frame.DataFrame'>\n",
      "RangeIndex: 891 entries, 0 to 890\n",
      "Data columns (total 12 columns):\n",
      " #   Column       Non-Null Count  Dtype  \n",
      "---  ------       --------------  -----  \n",
      " 0   PassengerId  891 non-null    int64  \n",
      " 1   Survived     891 non-null    int64  \n",
      " 2   Pclass       891 non-null    int64  \n",
      " 3   Name         891 non-null    object \n",
      " 4   Sex          891 non-null    object \n",
      " 5   Age          891 non-null    float64\n",
      " 6   SibSp        891 non-null    int64  \n",
      " 7   Parch        891 non-null    int64  \n",
      " 8   Ticket       891 non-null    object \n",
      " 9   Fare         891 non-null    float64\n",
      " 10  Cabin        891 non-null    object \n",
      " 11  Embarked     889 non-null    object \n",
      "dtypes: float64(2), int64(5), object(5)\n",
      "memory usage: 83.7+ KB\n"
     ]
    }
   ],
   "source": [
    "df_3['Age'] = df_3['Age'].fillna(0)\n",
    "df_3.info()"
   ]
  },
  {
   "cell_type": "code",
   "execution_count": 106,
   "id": "fa9e0fe6-423e-4ba7-b578-dcf73053991a",
   "metadata": {},
   "outputs": [],
   "source": [
    "df_3 = df_3.dropna()"
   ]
  },
  {
   "cell_type": "code",
   "execution_count": null,
   "id": "e1050b21-c7b8-4ee6-b442-2d8085fac367",
   "metadata": {},
   "outputs": [],
   "source": []
  },
  {
   "cell_type": "code",
   "execution_count": 132,
   "id": "d6deb3a4-558e-4764-af2b-9801ec8e8aae",
   "metadata": {},
   "outputs": [
    {
     "data": {
      "text/html": [
       "<div>\n",
       "<style scoped>\n",
       "    .dataframe tbody tr th:only-of-type {\n",
       "        vertical-align: middle;\n",
       "    }\n",
       "\n",
       "    .dataframe tbody tr th {\n",
       "        vertical-align: top;\n",
       "    }\n",
       "\n",
       "    .dataframe thead th {\n",
       "        text-align: right;\n",
       "    }\n",
       "</style>\n",
       "<table border=\"1\" class=\"dataframe\">\n",
       "  <thead>\n",
       "    <tr style=\"text-align: right;\">\n",
       "      <th></th>\n",
       "      <th>pet_id</th>\n",
       "      <th>pet_name</th>\n",
       "      <th>species</th>\n",
       "      <th>breed</th>\n",
       "      <th>age_years</th>\n",
       "      <th>gender</th>\n",
       "      <th>color</th>\n",
       "      <th>arrival_date</th>\n",
       "      <th>adopted</th>\n",
       "      <th>adoption_date</th>\n",
       "      <th>adopter_id</th>\n",
       "      <th>adopter_name</th>\n",
       "      <th>adopter_age</th>\n",
       "      <th>adopter_city</th>\n",
       "      <th>adopter_previous_pets</th>\n",
       "      <th>Unnamed: 15</th>\n",
       "    </tr>\n",
       "  </thead>\n",
       "  <tbody>\n",
       "    <tr>\n",
       "      <th>0</th>\n",
       "      <td>P0001</td>\n",
       "      <td>Sandra</td>\n",
       "      <td>Dog</td>\n",
       "      <td>Yorkshire Terrier</td>\n",
       "      <td>2</td>\n",
       "      <td>Female</td>\n",
       "      <td>White</td>\n",
       "      <td>10/10/2024</td>\n",
       "      <td>True</td>\n",
       "      <td>3/11/2025</td>\n",
       "      <td>A0001</td>\n",
       "      <td>Megan Rogers</td>\n",
       "      <td>56</td>\n",
       "      <td>Mcgeestad</td>\n",
       "      <td>1</td>\n",
       "      <td>-Analyzing adoption trends by species, breed, ...</td>\n",
       "    </tr>\n",
       "    <tr>\n",
       "      <th>1</th>\n",
       "      <td>P0002</td>\n",
       "      <td>Brian</td>\n",
       "      <td>Cat</td>\n",
       "      <td>Tonkinese</td>\n",
       "      <td>1</td>\n",
       "      <td>Female</td>\n",
       "      <td>Golden</td>\n",
       "      <td>9/9/2023</td>\n",
       "      <td>True</td>\n",
       "      <td>2/10/2024</td>\n",
       "      <td>A0002</td>\n",
       "      <td>Jonathan Hawkins</td>\n",
       "      <td>18</td>\n",
       "      <td>Geneshire</td>\n",
       "      <td>2</td>\n",
       "      <td>-Predicting the likelihood or speed of adoption</td>\n",
       "    </tr>\n",
       "    <tr>\n",
       "      <th>2</th>\n",
       "      <td>P0003</td>\n",
       "      <td>Timothy</td>\n",
       "      <td>Bird</td>\n",
       "      <td>Amazon Parrot</td>\n",
       "      <td>4</td>\n",
       "      <td>Male</td>\n",
       "      <td>Spotted</td>\n",
       "      <td>10/3/2023</td>\n",
       "      <td>False</td>\n",
       "      <td>10/17/2023</td>\n",
       "      <td>NaN</td>\n",
       "      <td>NaN</td>\n",
       "      <td>-1</td>\n",
       "      <td>NaN</td>\n",
       "      <td>0</td>\n",
       "      <td>-Visualizing demographic patterns of adopters</td>\n",
       "    </tr>\n",
       "    <tr>\n",
       "      <th>3</th>\n",
       "      <td>P0004</td>\n",
       "      <td>Karl</td>\n",
       "      <td>Dog</td>\n",
       "      <td>German Shepherd</td>\n",
       "      <td>1</td>\n",
       "      <td>Female</td>\n",
       "      <td>White</td>\n",
       "      <td>7/28/2024</td>\n",
       "      <td>True</td>\n",
       "      <td>8/12/2024</td>\n",
       "      <td>A0004</td>\n",
       "      <td>Natalie Rivera</td>\n",
       "      <td>51</td>\n",
       "      <td>North Richard</td>\n",
       "      <td>3</td>\n",
       "      <td>-Practicing data preprocessing with no missing...</td>\n",
       "    </tr>\n",
       "    <tr>\n",
       "      <th>4</th>\n",
       "      <td>P0005</td>\n",
       "      <td>Sarah</td>\n",
       "      <td>Rabbit</td>\n",
       "      <td>Dutch</td>\n",
       "      <td>1</td>\n",
       "      <td>Female</td>\n",
       "      <td>Spotted</td>\n",
       "      <td>2/21/2024</td>\n",
       "      <td>False</td>\n",
       "      <td>2/26/2024</td>\n",
       "      <td>NaN</td>\n",
       "      <td>NaN</td>\n",
       "      <td>-1</td>\n",
       "      <td>NaN</td>\n",
       "      <td>0</td>\n",
       "      <td>NaN</td>\n",
       "    </tr>\n",
       "  </tbody>\n",
       "</table>\n",
       "</div>"
      ],
      "text/plain": [
       "  pet_id pet_name species              breed  age_years  gender    color  \\\n",
       "0  P0001   Sandra     Dog  Yorkshire Terrier          2  Female    White   \n",
       "1  P0002    Brian     Cat          Tonkinese          1  Female   Golden   \n",
       "2  P0003  Timothy    Bird      Amazon Parrot          4    Male  Spotted   \n",
       "3  P0004     Karl     Dog    German Shepherd          1  Female    White   \n",
       "4  P0005    Sarah  Rabbit              Dutch          1  Female  Spotted   \n",
       "\n",
       "  arrival_date  adopted adoption_date adopter_id      adopter_name  \\\n",
       "0   10/10/2024     True     3/11/2025      A0001      Megan Rogers   \n",
       "1     9/9/2023     True     2/10/2024      A0002  Jonathan Hawkins   \n",
       "2    10/3/2023    False    10/17/2023        NaN               NaN   \n",
       "3    7/28/2024     True     8/12/2024      A0004    Natalie Rivera   \n",
       "4    2/21/2024    False     2/26/2024        NaN               NaN   \n",
       "\n",
       "   adopter_age   adopter_city  adopter_previous_pets  \\\n",
       "0           56      Mcgeestad                      1   \n",
       "1           18      Geneshire                      2   \n",
       "2           -1            NaN                      0   \n",
       "3           51  North Richard                      3   \n",
       "4           -1            NaN                      0   \n",
       "\n",
       "                                         Unnamed: 15  \n",
       "0  -Analyzing adoption trends by species, breed, ...  \n",
       "1    -Predicting the likelihood or speed of adoption  \n",
       "2      -Visualizing demographic patterns of adopters  \n",
       "3  -Practicing data preprocessing with no missing...  \n",
       "4                                                NaN  "
      ]
     },
     "execution_count": 132,
     "metadata": {},
     "output_type": "execute_result"
    }
   ],
   "source": [
    "df_4 = pd.read_csv(\"C:\\\\Users\\\\Kolade\\\\Documents\\\\Datasets\\\\pet_adoption for cleaning.csv\")\n",
    "df_4.head()"
   ]
  },
  {
   "cell_type": "code",
   "execution_count": 133,
   "id": "babd097c-5029-4866-ab8e-1be5b386bbd4",
   "metadata": {},
   "outputs": [
    {
     "name": "stdout",
     "output_type": "stream",
     "text": [
      "<class 'pandas.core.frame.DataFrame'>\n",
      "RangeIndex: 200 entries, 0 to 199\n",
      "Data columns (total 16 columns):\n",
      " #   Column                 Non-Null Count  Dtype \n",
      "---  ------                 --------------  ----- \n",
      " 0   pet_id                 200 non-null    object\n",
      " 1   pet_name               200 non-null    object\n",
      " 2   species                200 non-null    object\n",
      " 3   breed                  200 non-null    object\n",
      " 4   age_years              200 non-null    int64 \n",
      " 5   gender                 200 non-null    object\n",
      " 6   color                  200 non-null    object\n",
      " 7   arrival_date           200 non-null    object\n",
      " 8   adopted                200 non-null    bool  \n",
      " 9   adoption_date          200 non-null    object\n",
      " 10  adopter_id             118 non-null    object\n",
      " 11  adopter_name           118 non-null    object\n",
      " 12  adopter_age            200 non-null    int64 \n",
      " 13  adopter_city           118 non-null    object\n",
      " 14  adopter_previous_pets  200 non-null    int64 \n",
      " 15  Unnamed: 15            4 non-null      object\n",
      "dtypes: bool(1), int64(3), object(12)\n",
      "memory usage: 23.8+ KB\n"
     ]
    }
   ],
   "source": [
    "df_4.info()"
   ]
  },
  {
   "cell_type": "code",
   "execution_count": 136,
   "id": "abfd5448-60d8-4c20-866b-3fd9e40fd015",
   "metadata": {},
   "outputs": [
    {
     "name": "stdout",
     "output_type": "stream",
     "text": [
      "<class 'pandas.core.frame.DataFrame'>\n",
      "Index: 200 entries, 1 to 200\n",
      "Data columns (total 17 columns):\n",
      " #   Column                 Non-Null Count  Dtype \n",
      "---  ------                 --------------  ----- \n",
      " 0   pet_id                 200 non-null    object\n",
      " 1   pet_name               200 non-null    object\n",
      " 2   species                200 non-null    object\n",
      " 3   breed                  200 non-null    object\n",
      " 4   age_years              200 non-null    int64 \n",
      " 5   gender                 200 non-null    object\n",
      " 6   color                  200 non-null    object\n",
      " 7   arrival_date           200 non-null    object\n",
      " 8   adopted                200 non-null    bool  \n",
      " 9   adoption_date          200 non-null    object\n",
      " 10  adopter_id             118 non-null    object\n",
      " 11  adopter_name           118 non-null    object\n",
      " 12  adopter_age            200 non-null    int64 \n",
      " 13  adopter_city           118 non-null    object\n",
      " 14  adopter_previous_pets  200 non-null    int64 \n",
      " 15  Unnamed: 15            4 non-null      object\n",
      " 16  S/N                    200 non-null    int32 \n",
      "dtypes: bool(1), int32(1), int64(3), object(12)\n",
      "memory usage: 25.2+ KB\n"
     ]
    }
   ],
   "source": [
    "import numpy as np\n",
    "\n",
    "df_4['S/N'] = np.arange(1, 201)\n",
    "\n",
    "df_4 = df_4.set_index(df_4['S/N'])\n",
    "df_4.info()"
   ]
  },
  {
   "cell_type": "code",
   "execution_count": 137,
   "id": "9d7c56c0-f2d0-4a50-b401-e01c446a4d14",
   "metadata": {},
   "outputs": [],
   "source": [
    "df_4[['adopter_name', 'adopter_city']] = df_4[['adopter_name', 'adopter_city']].fillna('Unknown')"
   ]
  },
  {
   "cell_type": "code",
   "execution_count": 142,
   "id": "f1202e89-fba4-4e76-8740-4e49f8eefd6d",
   "metadata": {},
   "outputs": [
    {
     "data": {
      "text/plain": [
       "S/N\n",
       "1      A0001\n",
       "2      A0002\n",
       "3        NaN\n",
       "4      A0004\n",
       "5        NaN\n",
       "       ...  \n",
       "196      NaN\n",
       "197      NaN\n",
       "198      NaN\n",
       "199    A0199\n",
       "200      NaN\n",
       "Name: adopter_id, Length: 200, dtype: object"
      ]
     },
     "execution_count": 142,
     "metadata": {},
     "output_type": "execute_result"
    }
   ],
   "source": [
    "# df_4['adopter_id'] = df_4['adopter_id'].interpolate()\n",
    "# df_4['adopter_id']\n",
    "df = pd.DataFrame({\n",
    "    'Code': ['A0001', 'A0002', np.nan, 'A0004', np.nan]\n",
    "})\n",
    "\n",
    "# Extract numbers from existing codes\n",
    "# Drop NaN temporarily to get valid codes\n",
    "codes = df['Code'].dropna().str.extract('A(\\d+)', expand=False).astype(int)\n",
    "\n",
    "# Generate full sequence from min to max\n",
    "full_range = range(codes.min(), codes.max() + 1)\n",
    "\n",
    "# Create full list of codes\n",
    "full_codes = [f\"A{str(num).zfill(4)}\" for num in full_range]\n",
    "\n",
    "# Assign back to the DataFrame\n",
    "df['Code'] = full_codes\n",
    "\n",
    "print(df)"
   ]
  },
  {
   "cell_type": "code",
   "execution_count": 140,
   "id": "0cd9cdc2-f0da-47fd-8542-6307cb2c53e1",
   "metadata": {},
   "outputs": [
    {
     "name": "stdout",
     "output_type": "stream",
     "text": [
      "<class 'pandas.core.frame.DataFrame'>\n",
      "Index: 200 entries, 1 to 200\n",
      "Data columns (total 16 columns):\n",
      " #   Column                 Non-Null Count  Dtype \n",
      "---  ------                 --------------  ----- \n",
      " 0   pet_id                 200 non-null    object\n",
      " 1   pet_name               200 non-null    object\n",
      " 2   species                200 non-null    object\n",
      " 3   breed                  200 non-null    object\n",
      " 4   age_years              200 non-null    int64 \n",
      " 5   gender                 200 non-null    object\n",
      " 6   color                  200 non-null    object\n",
      " 7   arrival_date           200 non-null    object\n",
      " 8   adopted                200 non-null    bool  \n",
      " 9   adoption_date          200 non-null    object\n",
      " 10  adopter_id             118 non-null    object\n",
      " 11  adopter_name           200 non-null    object\n",
      " 12  adopter_age            200 non-null    int64 \n",
      " 13  adopter_city           200 non-null    object\n",
      " 14  adopter_previous_pets  200 non-null    int64 \n",
      " 15  S/N                    200 non-null    int32 \n",
      "dtypes: bool(1), int32(1), int64(3), object(11)\n",
      "memory usage: 23.6+ KB\n"
     ]
    }
   ],
   "source": [
    "df_4 = df_4.drop('Unnamed: 15', axis='columns')\n",
    "df_4.info()"
   ]
  },
  {
   "cell_type": "code",
   "execution_count": 141,
   "id": "a6a8a792-641e-4a86-855c-fb3381831a3e",
   "metadata": {},
   "outputs": [
    {
     "data": {
      "text/html": [
       "<div>\n",
       "<style scoped>\n",
       "    .dataframe tbody tr th:only-of-type {\n",
       "        vertical-align: middle;\n",
       "    }\n",
       "\n",
       "    .dataframe tbody tr th {\n",
       "        vertical-align: top;\n",
       "    }\n",
       "\n",
       "    .dataframe thead th {\n",
       "        text-align: right;\n",
       "    }\n",
       "</style>\n",
       "<table border=\"1\" class=\"dataframe\">\n",
       "  <thead>\n",
       "    <tr style=\"text-align: right;\">\n",
       "      <th></th>\n",
       "      <th>pet_id</th>\n",
       "      <th>pet_name</th>\n",
       "      <th>species</th>\n",
       "      <th>breed</th>\n",
       "      <th>age_years</th>\n",
       "      <th>gender</th>\n",
       "      <th>color</th>\n",
       "      <th>arrival_date</th>\n",
       "      <th>adopted</th>\n",
       "      <th>adoption_date</th>\n",
       "      <th>adopter_id</th>\n",
       "      <th>adopter_name</th>\n",
       "      <th>adopter_age</th>\n",
       "      <th>adopter_city</th>\n",
       "      <th>adopter_previous_pets</th>\n",
       "      <th>S/N</th>\n",
       "    </tr>\n",
       "    <tr>\n",
       "      <th>S/N</th>\n",
       "      <th></th>\n",
       "      <th></th>\n",
       "      <th></th>\n",
       "      <th></th>\n",
       "      <th></th>\n",
       "      <th></th>\n",
       "      <th></th>\n",
       "      <th></th>\n",
       "      <th></th>\n",
       "      <th></th>\n",
       "      <th></th>\n",
       "      <th></th>\n",
       "      <th></th>\n",
       "      <th></th>\n",
       "      <th></th>\n",
       "      <th></th>\n",
       "    </tr>\n",
       "  </thead>\n",
       "  <tbody>\n",
       "    <tr>\n",
       "      <th>1</th>\n",
       "      <td>P0001</td>\n",
       "      <td>Sandra</td>\n",
       "      <td>Dog</td>\n",
       "      <td>Yorkshire Terrier</td>\n",
       "      <td>2</td>\n",
       "      <td>Female</td>\n",
       "      <td>White</td>\n",
       "      <td>10/10/2024</td>\n",
       "      <td>True</td>\n",
       "      <td>3/11/2025</td>\n",
       "      <td>A0001</td>\n",
       "      <td>Megan Rogers</td>\n",
       "      <td>56</td>\n",
       "      <td>Mcgeestad</td>\n",
       "      <td>1</td>\n",
       "      <td>1</td>\n",
       "    </tr>\n",
       "    <tr>\n",
       "      <th>2</th>\n",
       "      <td>P0002</td>\n",
       "      <td>Brian</td>\n",
       "      <td>Cat</td>\n",
       "      <td>Tonkinese</td>\n",
       "      <td>1</td>\n",
       "      <td>Female</td>\n",
       "      <td>Golden</td>\n",
       "      <td>9/9/2023</td>\n",
       "      <td>True</td>\n",
       "      <td>2/10/2024</td>\n",
       "      <td>A0002</td>\n",
       "      <td>Jonathan Hawkins</td>\n",
       "      <td>18</td>\n",
       "      <td>Geneshire</td>\n",
       "      <td>2</td>\n",
       "      <td>2</td>\n",
       "    </tr>\n",
       "    <tr>\n",
       "      <th>3</th>\n",
       "      <td>P0003</td>\n",
       "      <td>Timothy</td>\n",
       "      <td>Bird</td>\n",
       "      <td>Amazon Parrot</td>\n",
       "      <td>4</td>\n",
       "      <td>Male</td>\n",
       "      <td>Spotted</td>\n",
       "      <td>10/3/2023</td>\n",
       "      <td>False</td>\n",
       "      <td>10/17/2023</td>\n",
       "      <td>NaN</td>\n",
       "      <td>Unknown</td>\n",
       "      <td>-1</td>\n",
       "      <td>Unknown</td>\n",
       "      <td>0</td>\n",
       "      <td>3</td>\n",
       "    </tr>\n",
       "    <tr>\n",
       "      <th>4</th>\n",
       "      <td>P0004</td>\n",
       "      <td>Karl</td>\n",
       "      <td>Dog</td>\n",
       "      <td>German Shepherd</td>\n",
       "      <td>1</td>\n",
       "      <td>Female</td>\n",
       "      <td>White</td>\n",
       "      <td>7/28/2024</td>\n",
       "      <td>True</td>\n",
       "      <td>8/12/2024</td>\n",
       "      <td>A0004</td>\n",
       "      <td>Natalie Rivera</td>\n",
       "      <td>51</td>\n",
       "      <td>North Richard</td>\n",
       "      <td>3</td>\n",
       "      <td>4</td>\n",
       "    </tr>\n",
       "    <tr>\n",
       "      <th>5</th>\n",
       "      <td>P0005</td>\n",
       "      <td>Sarah</td>\n",
       "      <td>Rabbit</td>\n",
       "      <td>Dutch</td>\n",
       "      <td>1</td>\n",
       "      <td>Female</td>\n",
       "      <td>Spotted</td>\n",
       "      <td>2/21/2024</td>\n",
       "      <td>False</td>\n",
       "      <td>2/26/2024</td>\n",
       "      <td>NaN</td>\n",
       "      <td>Unknown</td>\n",
       "      <td>-1</td>\n",
       "      <td>Unknown</td>\n",
       "      <td>0</td>\n",
       "      <td>5</td>\n",
       "    </tr>\n",
       "  </tbody>\n",
       "</table>\n",
       "</div>"
      ],
      "text/plain": [
       "    pet_id pet_name species              breed  age_years  gender    color  \\\n",
       "S/N                                                                          \n",
       "1    P0001   Sandra     Dog  Yorkshire Terrier          2  Female    White   \n",
       "2    P0002    Brian     Cat          Tonkinese          1  Female   Golden   \n",
       "3    P0003  Timothy    Bird      Amazon Parrot          4    Male  Spotted   \n",
       "4    P0004     Karl     Dog    German Shepherd          1  Female    White   \n",
       "5    P0005    Sarah  Rabbit              Dutch          1  Female  Spotted   \n",
       "\n",
       "    arrival_date  adopted adoption_date adopter_id      adopter_name  \\\n",
       "S/N                                                                    \n",
       "1     10/10/2024     True     3/11/2025      A0001      Megan Rogers   \n",
       "2       9/9/2023     True     2/10/2024      A0002  Jonathan Hawkins   \n",
       "3      10/3/2023    False    10/17/2023        NaN           Unknown   \n",
       "4      7/28/2024     True     8/12/2024      A0004    Natalie Rivera   \n",
       "5      2/21/2024    False     2/26/2024        NaN           Unknown   \n",
       "\n",
       "     adopter_age   adopter_city  adopter_previous_pets  S/N  \n",
       "S/N                                                          \n",
       "1             56      Mcgeestad                      1    1  \n",
       "2             18      Geneshire                      2    2  \n",
       "3             -1        Unknown                      0    3  \n",
       "4             51  North Richard                      3    4  \n",
       "5             -1        Unknown                      0    5  "
      ]
     },
     "execution_count": 141,
     "metadata": {},
     "output_type": "execute_result"
    }
   ],
   "source": [
    "df_4.head()"
   ]
  },
  {
   "cell_type": "code",
   "execution_count": 114,
   "id": "965fd464-98cc-494d-9769-c2d7f991ddf7",
   "metadata": {},
   "outputs": [
    {
     "data": {
      "text/plain": [
       "array(['Yorkshire Terrier', 'Tonkinese', 'Amazon Parrot',\n",
       "       'German Shepherd', 'Dutch', 'Labrador Retriever', 'Siberian Husky',\n",
       "       \"Campbell's Dwarf\", 'Abyssinian', 'French Bulldog', 'Chinese',\n",
       "       'Bengal', 'Netherland Dwarf', 'Silver Marten', 'Roborovski',\n",
       "       'Maine Coon', 'Conure', 'Syrian', 'Persian',\n",
       "       'Norwegian Forest Cat', 'Winter White', 'Canary',\n",
       "       'Oriental Shorthair', 'Dwarf Campbell', 'European Hamster',\n",
       "       'Sphynx', 'Boxer', 'Russian Dwarf', 'Parakeet', 'Great Dane',\n",
       "       'Korean', 'Russian Blue', 'Macaw', 'Beagle', 'African Grey Parrot',\n",
       "       'Shih Tzu', 'Mini Rex', 'Cockatoo', 'Cockatiel',\n",
       "       'British Shorthair', 'Budgerigar', 'Polish', 'Devon Rex',\n",
       "       'Siamese', 'Golden Retriever', 'Dachshund', 'English Angora',\n",
       "       'Lionhead', 'Poodle', 'Lovebird', 'Bulldog', 'Birman',\n",
       "       'Holland Lop', 'Scottish Fold', 'Teddy Bear Hamster', 'French Lop',\n",
       "       'Flemish Giant', 'Ragdoll'], dtype=object)"
      ]
     },
     "execution_count": 114,
     "metadata": {},
     "output_type": "execute_result"
    }
   ],
   "source": [
    "df_4['breed'].unique()"
   ]
  },
  {
   "cell_type": "code",
   "execution_count": 96,
   "id": "06fdcfef-c4c3-450d-916e-2a8ad1d5e0b9",
   "metadata": {},
   "outputs": [
    {
     "name": "stdout",
     "output_type": "stream",
     "text": [
      "<class 'pandas.core.frame.DataFrame'>\n",
      "RangeIndex: 200 entries, 0 to 199\n",
      "Data columns (total 15 columns):\n",
      " #   Column                 Non-Null Count  Dtype \n",
      "---  ------                 --------------  ----- \n",
      " 0   pet_id                 200 non-null    object\n",
      " 1   pet_name               200 non-null    object\n",
      " 2   species                200 non-null    object\n",
      " 3   breed                  200 non-null    object\n",
      " 4   age_years              200 non-null    int64 \n",
      " 5   gender                 200 non-null    object\n",
      " 6   color                  200 non-null    object\n",
      " 7   arrival_date           200 non-null    object\n",
      " 8   adopted                200 non-null    bool  \n",
      " 9   adoption_date          200 non-null    object\n",
      " 10  adopter_id             200 non-null    object\n",
      " 11  adopter_name           200 non-null    object\n",
      " 12  adopter_age            200 non-null    int64 \n",
      " 13  adopter_city           200 non-null    object\n",
      " 14  adopter_previous_pets  200 non-null    int64 \n",
      "dtypes: bool(1), int64(3), object(11)\n",
      "memory usage: 22.2+ KB\n"
     ]
    }
   ],
   "source": [
    "df_4.info()"
   ]
  },
  {
   "cell_type": "code",
   "execution_count": 112,
   "id": "a041a167-f026-4322-b747-ec700e03af4e",
   "metadata": {},
   "outputs": [
    {
     "data": {
      "image/png": "[encoded data removed]",
      "text/plain": [
       "<Figure size 1100x400 with 1 Axes>"
      ]
     },
     "metadata": {},
     "output_type": "display_data"
    }
   ],
   "source": [
    "# Matplotlib\n",
    "\n",
    "# sns.barplot(\n",
    "#     x='gender', \n",
    "#     y='price', \n",
    "#     df_4=df_4, \n",
    "#     color='blue');\n",
    "\n",
    "# plt.bar(df_4['gender'] align='center', alpha=0.5)\n",
    "# plt.xticks(gender, subject)\n",
    "counts = df_4['gender'].value_counts()\n",
    "\n",
    "counts.plot(kind='bar')\n",
    "\n",
    "plt.title('Count of Gender')\n",
    "# plt.xlabel('Department')\n",
    "plt.ylabel('Count')\n",
    "plt.show()"
   ]
  }
 ],
 "metadata": {
  "kernelspec": {
   "display_name": "Python 3 (ipykernel)",
   "language": "python",
   "name": "python3"
  },
  "language_info": {
   "codemirror_mode": {
    "name": "ipython",
    "version": 3
   },
   "file_extension": ".py",
   "mimetype": "text/x-python",
   "name": "python",
   "nbconvert_exporter": "python",
   "pygments_lexer": "ipython3",
   "version": "3.12.7"
  }
 },
 "nbformat": 4,
 "nbformat_minor": 5
}
